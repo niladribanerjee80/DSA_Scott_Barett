{
  "nbformat": 4,
  "nbformat_minor": 0,
  "metadata": {
    "colab": {
      "provenance": [],
      "authorship_tag": "ABX9TyMRW1ughsC6yb5fQokxNWa0",
      "include_colab_link": true
    },
    "kernelspec": {
      "name": "python3",
      "display_name": "Python 3"
    },
    "language_info": {
      "name": "python"
    }
  },
  "cells": [
    {
      "cell_type": "markdown",
      "metadata": {
        "id": "view-in-github",
        "colab_type": "text"
      },
      "source": [
        "<a href=\"https://colab.research.google.com/github/niladribanerjee80/DSA_Scott_Barett/blob/main/Doubly_Linked_List.ipynb\" target=\"_parent\"><img src=\"https://colab.research.google.com/assets/colab-badge.svg\" alt=\"Open In Colab\"/></a>"
      ]
    },
    {
      "cell_type": "code",
      "execution_count": null,
      "metadata": {
        "id": "RDvU9fKNcmVY"
      },
      "outputs": [],
      "source": [
        "class Node:\n",
        "    def __init__(self,value):\n",
        "        self.value = value\n",
        "        self.next = None\n",
        "        self.prev = None\n",
        "\n",
        "class DoublyLinkedList:\n",
        "    def __init__(self,value):\n",
        "        new_node = Node(value)\n",
        "        self.head = new_node\n",
        "        self.tail = new_node\n",
        "        self.length = 1\n",
        "\n",
        "    def print_list(self,msg = \"List Created\"):\n",
        "        print('---------------')\n",
        "        print(msg)\n",
        "        print('---------------')\n",
        "        temp = self.head\n",
        "        while temp is not None:\n",
        "            print(temp.value)\n",
        "            temp = temp.next\n",
        "        print('---------------')\n",
        "        print(f\"Head = {self.head.value}\")\n",
        "        print(f\"Tail = {self.tail.value}\")\n",
        "        print(f\"Length of the List = {self.length}\")\n",
        "        print('---------------')\n",
        "\n",
        "    def append(self,value):\n",
        "        # create the new node\n",
        "        new_node = Node(value)\n",
        "\n",
        "        if self.length == 0:\n",
        "            self.tail = new_node\n",
        "            self.head = new_node\n",
        "        else:\n",
        "            self.tail.next = new_node\n",
        "            new_node.prev = self.tail\n",
        "            self.tail = new_node\n",
        "\n",
        "        self.length += 1"
      ]
    },
    {
      "cell_type": "code",
      "source": [
        "my_doubly_linked_list = DoublyLinkedList(7)\n",
        "my_doubly_linked_list.print_list()"
      ],
      "metadata": {
        "colab": {
          "base_uri": "https://localhost:8080/"
        },
        "id": "8n4ecSRIei9w",
        "outputId": "984f103b-c422-4b11-e70f-4df6ac7c5645"
      },
      "execution_count": null,
      "outputs": [
        {
          "output_type": "stream",
          "name": "stdout",
          "text": [
            "---------------\n",
            "List Created\n",
            "---------------\n",
            "7\n",
            "---------------\n",
            "Head = 7\n",
            "Tail = 7\n",
            "Length of the List = 1\n",
            "---------------\n"
          ]
        }
      ]
    },
    {
      "cell_type": "markdown",
      "source": [
        "## Anatomy of a single node"
      ],
      "metadata": {
        "id": "WMWStniXiwld"
      }
    },
    {
      "cell_type": "markdown",
      "source": [
        "![image.png](data:image/png;base64,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)"
      ],
      "metadata": {
        "id": "EYwXDsjohkat"
      }
    },
    {
      "cell_type": "code",
      "source": [
        "# Append"
      ],
      "metadata": {
        "id": "lHO7VKSdipid"
      },
      "execution_count": null,
      "outputs": []
    },
    {
      "cell_type": "markdown",
      "source": [
        "## Append"
      ],
      "metadata": {
        "id": "7ONO9me1isn1"
      }
    },
    {
      "cell_type": "markdown",
      "source": [
        "![image.png](data:image/png;base64,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)"
      ],
      "metadata": {
        "id": "jxCSwJiAinTs"
      }
    },
    {
      "cell_type": "markdown",
      "source": [
        "### What needs to happen"
      ],
      "metadata": {
        "id": "ju68J0oRjqG9"
      }
    },
    {
      "cell_type": "markdown",
      "source": [
        "![image.png](data:image/png;base64,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)"
      ],
      "metadata": {
        "id": "g7csC-7Ni3Yz"
      }
    },
    {
      "cell_type": "code",
      "source": [
        "# another case"
      ],
      "metadata": {
        "id": "BgrTO5hTfiD6"
      },
      "execution_count": null,
      "outputs": []
    },
    {
      "cell_type": "markdown",
      "source": [
        "![image.png](data:image/png;base64,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)"
      ],
      "metadata": {
        "id": "RBirfc62kCSS"
      }
    },
    {
      "cell_type": "markdown",
      "source": [
        "![image.png](data:image/png;base64,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)"
      ],
      "metadata": {
        "id": "G1y1dPJOkaQz"
      }
    },
    {
      "cell_type": "code",
      "source": [
        "my_doubly_linked_list = DoublyLinkedList(7)\n",
        "my_doubly_linked_list.append(11)\n",
        "my_doubly_linked_list.print_list()"
      ],
      "metadata": {
        "colab": {
          "base_uri": "https://localhost:8080/"
        },
        "id": "Gq6rALvYk6z6",
        "outputId": "3b666cc3-cc89-4520-9cea-76542865028c"
      },
      "execution_count": null,
      "outputs": [
        {
          "output_type": "stream",
          "name": "stdout",
          "text": [
            "---------------\n",
            "List Created\n",
            "---------------\n",
            "7\n",
            "11\n",
            "---------------\n",
            "Head = 7\n",
            "Tail = 11\n",
            "Length of the List = 2\n",
            "---------------\n"
          ]
        }
      ]
    },
    {
      "cell_type": "markdown",
      "source": [
        "## Get a better view of Linked List"
      ],
      "metadata": {
        "id": "tgSdX2Za7B9O"
      }
    },
    {
      "cell_type": "code",
      "source": [
        "import graphviz\n",
        "\n",
        "class Node:\n",
        "  def __init__(self, value):\n",
        "    self.value = value\n",
        "    self.next = None\n",
        "    self.prev = None\n",
        "\n",
        "class DoublyLinkedList:\n",
        "  def __init__(self, value):\n",
        "    new_node = Node(value)\n",
        "    self.head = new_node\n",
        "    self.tail = new_node\n",
        "    self.length = 1\n",
        "\n",
        "  def print_list(self):\n",
        "    dot = graphviz.Digraph()\n",
        "    dot.attr(rankdir='LR')  # Change direction to horizontal\n",
        "    temp = self.head\n",
        "    index = 0\n",
        "    while temp is not None:\n",
        "        label = f\"{temp.value} (index={index})\"\n",
        "\n",
        "        if temp == self.head:\n",
        "            dot.node(str(temp.value), label, fillcolor=\"#98FB98\", style=\"filled\") # pale green\n",
        "        elif temp == self.tail:\n",
        "            dot.node(str(temp.value), label, fillcolor=\"#FA8072\", style=\"filled\") # salmon\n",
        "        else:\n",
        "            dot.node(str(temp.value), label)\n",
        "\n",
        "        # if temp == self.head:\n",
        "        #     label += \" [H]\"\n",
        "        # if temp == self.tail:\n",
        "        #     label += \" [T]\"\n",
        "        # dot.node(str(temp.value), label)\n",
        "\n",
        "        if temp.next:\n",
        "            dot.edge(str(temp.value), str(temp.next.value))\n",
        "        if temp.prev:\n",
        "            dot.edge(str(temp.value), str(temp.prev.value))\n",
        "        temp = temp.next\n",
        "        index += 1\n",
        "    dot.edge(\"Start\", str(self.head.value), dir=\"back\")\n",
        "    dot.edge(str(self.tail.value), \"End\")\n",
        "    return dot\n",
        "\n",
        "  def append(self,value):\n",
        "    # create the new node\n",
        "    new_node = Node(value)\n",
        "    if self.length == 0:\n",
        "        self.tail = new_node\n",
        "        self.head = new_node\n",
        "    else:\n",
        "        self.tail.next = new_node\n",
        "        new_node.prev = self.tail\n",
        "        self.tail = new_node\n",
        "    self.length += 1"
      ],
      "metadata": {
        "id": "R9_zVAnrmiAD"
      },
      "execution_count": 82,
      "outputs": []
    },
    {
      "cell_type": "code",
      "source": [
        "# Example usage\n",
        "my_list = DoublyLinkedList(7)\n",
        "my_list.append(11)\n",
        "my_list.append(12)\n",
        "my_list.append(13)\n",
        "display(my_list.print_list())"
      ],
      "metadata": {
        "id": "NtwTfRmBnpWU",
        "colab": {
          "base_uri": "https://localhost:8080/",
          "height": 80
        },
        "outputId": "0527f80a-580f-4fd1-e392-3c0414845e43"
      },
      "execution_count": 83,
      "outputs": [
        {
          "output_type": "display_data",
          "data": {
            "image/svg+xml": "<?xml version=\"1.0\" encoding=\"UTF-8\" standalone=\"no\"?>\n<!DOCTYPE svg PUBLIC \"-//W3C//DTD SVG 1.1//EN\"\n \"http://www.w3.org/Graphics/SVG/1.1/DTD/svg11.dtd\">\n<!-- Generated by graphviz version 2.43.0 (0)\n -->\n<!-- Title: %3 Pages: 1 -->\n<svg width=\"745pt\" height=\"44pt\"\n viewBox=\"0.00 0.00 745.06 44.00\" xmlns=\"http://www.w3.org/2000/svg\" xmlns:xlink=\"http://www.w3.org/1999/xlink\">\n<g id=\"graph0\" class=\"graph\" transform=\"scale(1 1) rotate(0) translate(4 40)\">\n<title>%3</title>\n<polygon fill=\"white\" stroke=\"transparent\" points=\"-4,4 -4,-40 741.06,-40 741.06,4 -4,4\"/>\n<!-- 7 -->\n<g id=\"node1\" class=\"node\">\n<title>7</title>\n<ellipse fill=\"#98fb98\" stroke=\"black\" cx=\"143.24\" cy=\"-18\" rx=\"52.79\" ry=\"18\"/>\n<text text-anchor=\"middle\" x=\"143.24\" y=\"-14.3\" font-family=\"Times,serif\" font-size=\"14.00\">7 (index=0)</text>\n</g>\n<!-- 11 -->\n<g id=\"node2\" class=\"node\">\n<title>11</title>\n<ellipse fill=\"none\" stroke=\"black\" cx=\"289.08\" cy=\"-18\" rx=\"57.39\" ry=\"18\"/>\n<text text-anchor=\"middle\" x=\"289.08\" y=\"-14.3\" font-family=\"Times,serif\" font-size=\"14.00\">11 (index=1)</text>\n</g>\n<!-- 7&#45;&gt;11 -->\n<g id=\"edge1\" class=\"edge\">\n<title>7&#45;&gt;11</title>\n<path fill=\"none\" stroke=\"black\" d=\"M192.54,-11.58C203.16,-11.27 214.56,-11.18 225.65,-11.3\"/>\n<polygon fill=\"black\" stroke=\"black\" points=\"225.65,-14.8 235.71,-11.48 225.78,-7.8 225.65,-14.8\"/>\n</g>\n<!-- 11&#45;&gt;7 -->\n<g id=\"edge3\" class=\"edge\">\n<title>11&#45;&gt;7</title>\n<path fill=\"none\" stroke=\"black\" d=\"M235.71,-24.52C225.02,-24.78 213.71,-24.82 202.82,-24.65\"/>\n<polygon fill=\"black\" stroke=\"black\" points=\"202.61,-21.14 192.54,-24.42 202.46,-28.14 202.61,-21.14\"/>\n</g>\n<!-- 12 -->\n<g id=\"node3\" class=\"node\">\n<title>12</title>\n<ellipse fill=\"none\" stroke=\"black\" cx=\"439.47\" cy=\"-18\" rx=\"57.39\" ry=\"18\"/>\n<text text-anchor=\"middle\" x=\"439.47\" y=\"-14.3\" font-family=\"Times,serif\" font-size=\"14.00\">12 (index=2)</text>\n</g>\n<!-- 11&#45;&gt;12 -->\n<g id=\"edge2\" class=\"edge\">\n<title>11&#45;&gt;12</title>\n<path fill=\"none\" stroke=\"black\" d=\"M342.82,-11.51C353.42,-11.25 364.67,-11.18 375.58,-11.32\"/>\n<polygon fill=\"black\" stroke=\"black\" points=\"375.84,-14.83 385.91,-11.51 375.97,-7.83 375.84,-14.83\"/>\n</g>\n<!-- 12&#45;&gt;11 -->\n<g id=\"edge5\" class=\"edge\">\n<title>12&#45;&gt;11</title>\n<path fill=\"none\" stroke=\"black\" d=\"M385.91,-24.49C375.31,-24.75 364.06,-24.82 353.15,-24.68\"/>\n<polygon fill=\"black\" stroke=\"black\" points=\"352.88,-21.18 342.82,-24.49 352.75,-28.18 352.88,-21.18\"/>\n</g>\n<!-- 13 -->\n<g id=\"node4\" class=\"node\">\n<title>13</title>\n<ellipse fill=\"#fa8072\" stroke=\"black\" cx=\"589.86\" cy=\"-18\" rx=\"57.39\" ry=\"18\"/>\n<text text-anchor=\"middle\" x=\"589.86\" y=\"-14.3\" font-family=\"Times,serif\" font-size=\"14.00\">13 (index=3)</text>\n</g>\n<!-- 12&#45;&gt;13 -->\n<g id=\"edge4\" class=\"edge\">\n<title>12&#45;&gt;13</title>\n<path fill=\"none\" stroke=\"black\" d=\"M493.21,-11.51C503.81,-11.25 515.06,-11.18 525.97,-11.32\"/>\n<polygon fill=\"black\" stroke=\"black\" points=\"526.23,-14.83 536.3,-11.51 526.36,-7.83 526.23,-14.83\"/>\n</g>\n<!-- 13&#45;&gt;12 -->\n<g id=\"edge6\" class=\"edge\">\n<title>13&#45;&gt;12</title>\n<path fill=\"none\" stroke=\"black\" d=\"M536.3,-24.49C525.7,-24.75 514.45,-24.82 503.54,-24.68\"/>\n<polygon fill=\"black\" stroke=\"black\" points=\"503.27,-21.18 493.21,-24.49 503.14,-28.18 503.27,-21.18\"/>\n</g>\n<!-- End -->\n<g id=\"node6\" class=\"node\">\n<title>End</title>\n<ellipse fill=\"none\" stroke=\"black\" cx=\"710.06\" cy=\"-18\" rx=\"27\" ry=\"18\"/>\n<text text-anchor=\"middle\" x=\"710.06\" y=\"-14.3\" font-family=\"Times,serif\" font-size=\"14.00\">End</text>\n</g>\n<!-- 13&#45;&gt;End -->\n<g id=\"edge8\" class=\"edge\">\n<title>13&#45;&gt;End</title>\n<path fill=\"none\" stroke=\"black\" d=\"M647.19,-18C655.87,-18 664.63,-18 672.72,-18\"/>\n<polygon fill=\"black\" stroke=\"black\" points=\"672.91,-21.5 682.91,-18 672.91,-14.5 672.91,-21.5\"/>\n</g>\n<!-- Start -->\n<g id=\"node5\" class=\"node\">\n<title>Start</title>\n<ellipse fill=\"none\" stroke=\"black\" cx=\"27.3\" cy=\"-18\" rx=\"27.1\" ry=\"18\"/>\n<text text-anchor=\"middle\" x=\"27.3\" y=\"-14.3\" font-family=\"Times,serif\" font-size=\"14.00\">Start</text>\n</g>\n<!-- Start&#45;&gt;7 -->\n<g id=\"edge7\" class=\"edge\">\n<title>Start&#45;&gt;7</title>\n<path fill=\"none\" stroke=\"black\" d=\"M64.96,-18C73.07,-18 81.81,-18 90.4,-18\"/>\n<polygon fill=\"black\" stroke=\"black\" points=\"64.72,-14.5 54.72,-18 64.72,-21.5 64.72,-14.5\"/>\n</g>\n</g>\n</svg>\n",
            "text/plain": [
              "<graphviz.graphs.Digraph at 0x7e78cc882d70>"
            ]
          },
          "metadata": {}
        }
      ]
    },
    {
      "cell_type": "code",
      "source": [],
      "metadata": {
        "id": "D4nT3KqC1kxm"
      },
      "execution_count": null,
      "outputs": []
    }
  ]
}