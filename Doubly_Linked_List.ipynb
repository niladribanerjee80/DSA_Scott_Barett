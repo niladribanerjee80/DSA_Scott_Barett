{
  "nbformat": 4,
  "nbformat_minor": 0,
  "metadata": {
    "colab": {
      "provenance": [],
      "authorship_tag": "ABX9TyNSLm/m9tVznm1D6ugRg88U",
      "include_colab_link": true
    },
    "kernelspec": {
      "name": "python3",
      "display_name": "Python 3"
    },
    "language_info": {
      "name": "python"
    }
  },
  "cells": [
    {
      "cell_type": "markdown",
      "metadata": {
        "id": "view-in-github",
        "colab_type": "text"
      },
      "source": [
        "<a href=\"https://colab.research.google.com/github/niladribanerjee80/DSA_Scott_Barett/blob/main/Doubly_Linked_List.ipynb\" target=\"_parent\"><img src=\"https://colab.research.google.com/assets/colab-badge.svg\" alt=\"Open In Colab\"/></a>"
      ]
    },
    {
      "cell_type": "code",
      "execution_count": null,
      "metadata": {
        "id": "RDvU9fKNcmVY"
      },
      "outputs": [],
      "source": [
        "class Node:\n",
        "\n",
        "    def __init__(self,value):\n",
        "        self.value = value\n",
        "        self.next = None\n",
        "        self.prev = None\n",
        "\n",
        "class DoublyLinkedList:\n",
        "\n",
        "    def __init__(self,value):\n",
        "        new_node = Node(value)\n",
        "        self.head = new_node\n",
        "        self.tail = new_node\n",
        "        self.length = 1\n",
        "\n",
        "    def print_list(self,msg = \"List Created\"):\n",
        "        print('---------------')\n",
        "        print(msg)\n",
        "        print('---------------')\n",
        "        temp = self.head\n",
        "        while temp is not None:\n",
        "            print(temp.value)\n",
        "            temp = temp.next\n",
        "        print('---------------')\n",
        "        print(f\"Head = {self.head.value}\")\n",
        "        print(f\"Tail = {self.tail.value}\")\n",
        "        print(f\"Length of the List = {self.length}\")\n",
        "        print('---------------')"
      ]
    },
    {
      "cell_type": "code",
      "source": [
        "my_doubly_linked_list = DoublyLinkedList(7)\n",
        "my_doubly_linked_list.print_list()"
      ],
      "metadata": {
        "colab": {
          "base_uri": "https://localhost:8080/"
        },
        "id": "8n4ecSRIei9w",
        "outputId": "5c8d3f90-6b83-467c-f2d2-07497304f1af"
      },
      "execution_count": null,
      "outputs": [
        {
          "output_type": "stream",
          "name": "stdout",
          "text": [
            "---------------\n",
            "List Created\n",
            "---------------\n",
            "7\n",
            "---------------\n",
            "Head = 7\n",
            "Tail = 7\n",
            "Length of the List = 1\n",
            "---------------\n"
          ]
        }
      ]
    },
    {
      "cell_type": "code",
      "source": [
        "# diagram = Anatomy of Single node"
      ],
      "metadata": {
        "id": "RnMgNSCqM9e_"
      },
      "execution_count": null,
      "outputs": []
    },
    {
      "cell_type": "markdown",
      "source": [
        "## Anatomy of a single node"
      ],
      "metadata": {
        "id": "WMWStniXiwld"
      }
    },
    {
      "cell_type": "markdown",
      "source": [
        "![image.png](data:image/png;base64,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)"
      ],
      "metadata": {
        "id": "EYwXDsjohkat"
      }
    },
    {
      "cell_type": "code",
      "source": [
        "# diagram = Append operation"
      ],
      "metadata": {
        "id": "lHO7VKSdipid"
      },
      "execution_count": null,
      "outputs": []
    },
    {
      "cell_type": "markdown",
      "source": [
        "## Append"
      ],
      "metadata": {
        "id": "7ONO9me1isn1"
      }
    },
    {
      "cell_type": "markdown",
      "source": [
        "![image.png](data:image/png;base64,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)"
      ],
      "metadata": {
        "id": "jxCSwJiAinTs"
      }
    },
    {
      "cell_type": "markdown",
      "source": [
        "### What needs to happen"
      ],
      "metadata": {
        "id": "ju68J0oRjqG9"
      }
    },
    {
      "cell_type": "markdown",
      "source": [
        "![image.png](data:image/png;base64,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)"
      ],
      "metadata": {
        "id": "g7csC-7Ni3Yz"
      }
    },
    {
      "cell_type": "code",
      "source": [
        "# diagram = another case for Append"
      ],
      "metadata": {
        "id": "BgrTO5hTfiD6"
      },
      "execution_count": null,
      "outputs": []
    },
    {
      "cell_type": "markdown",
      "source": [
        "![image.png](data:image/png;base64,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)"
      ],
      "metadata": {
        "id": "RBirfc62kCSS"
      }
    },
    {
      "cell_type": "markdown",
      "source": [
        "![image.png](data:image/png;base64,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)"
      ],
      "metadata": {
        "id": "G1y1dPJOkaQz"
      }
    },
    {
      "cell_type": "code",
      "source": [
        "# Test doubly linked List\n",
        "my_doubly_linked_list = DoublyLinkedList(7)\n",
        "my_doubly_linked_list.append(11)\n",
        "my_doubly_linked_list.print_list()"
      ],
      "metadata": {
        "colab": {
          "base_uri": "https://localhost:8080/"
        },
        "id": "Gq6rALvYk6z6",
        "outputId": "3b666cc3-cc89-4520-9cea-76542865028c"
      },
      "execution_count": null,
      "outputs": [
        {
          "output_type": "stream",
          "name": "stdout",
          "text": [
            "---------------\n",
            "List Created\n",
            "---------------\n",
            "7\n",
            "11\n",
            "---------------\n",
            "Head = 7\n",
            "Tail = 11\n",
            "Length of the List = 2\n",
            "---------------\n"
          ]
        }
      ]
    },
    {
      "cell_type": "markdown",
      "source": [
        "### Graphviz introduction"
      ],
      "metadata": {
        "id": "tgSdX2Za7B9O"
      }
    },
    {
      "cell_type": "code",
      "source": [
        "import graphviz\n",
        "\n",
        "class Node:\n",
        "\n",
        "  def __init__(self, value):\n",
        "    self.value = value\n",
        "    self.next = None\n",
        "    self.prev = None\n",
        "\n",
        "class DoublyLinkedList:\n",
        "    def __init__(self, value):\n",
        "        new_node = Node(value)\n",
        "        self.head = new_node\n",
        "        self.tail = new_node\n",
        "        self.length = 1\n",
        "\n",
        "    def print_list(self):\n",
        "\n",
        "        dot = graphviz.Digraph()\n",
        "        dot.attr(rankdir='LR')  # Change direction to horizontal\n",
        "        temp = self.head\n",
        "        index = 0\n",
        "\n",
        "        while temp is not None:\n",
        "\n",
        "            label = f\"{temp.value} (index={index})\"\n",
        "\n",
        "            if self.length == 1:\n",
        "                dot.node(str(temp.value), label, fillcolor=\"cyan\", style=\"filled\")\n",
        "                break\n",
        "            else:\n",
        "                if temp == self.head:\n",
        "                    dot.node(str(temp.value), label, fillcolor=\"chartreuse\", style=\"filled\")\n",
        "                elif temp == self.tail:\n",
        "                    dot.node(str(temp.value), label, fillcolor=\"lightpink\", style=\"filled\")\n",
        "                else:\n",
        "                    dot.node(str(temp.value), label)\n",
        "\n",
        "            if temp.next:\n",
        "                dot.edge(str(temp.value), str(temp.next.value))\n",
        "\n",
        "            if temp.prev:\n",
        "                dot.edge(str(temp.value), str(temp.prev.value))\n",
        "\n",
        "            temp = temp.next\n",
        "            index += 1\n",
        "\n",
        "        dot.edge(\"Start\", str(self.head.value), dir=\"back\")\n",
        "        dot.edge(str(self.tail.value), \"End\")\n",
        "\n",
        "        return dot\n",
        "\n",
        "    def append(self,value):\n",
        "        # create the new node\n",
        "        new_node = Node(value)\n",
        "\n",
        "        if self.length == 0:\n",
        "            self.tail = new_node\n",
        "            self.head = new_node\n",
        "        else:\n",
        "            self.tail.next = new_node\n",
        "            new_node.prev = self.tail\n",
        "            self.tail = new_node\n",
        "\n",
        "        self.length += 1"
      ],
      "metadata": {
        "id": "R9_zVAnrmiAD"
      },
      "execution_count": null,
      "outputs": []
    },
    {
      "cell_type": "code",
      "source": [
        "# Example usage\n",
        "my_list = DoublyLinkedList(7)\n",
        "my_list.append(11)\n",
        "my_list.append(12)\n",
        "my_list.append(13)\n",
        "display(my_list.print_list())"
      ],
      "metadata": {
        "id": "NtwTfRmBnpWU",
        "colab": {
          "base_uri": "https://localhost:8080/",
          "height": 80
        },
        "outputId": "07dcd103-704d-4844-f921-410a4a889423"
      },
      "execution_count": null,
      "outputs": [
        {
          "output_type": "display_data",
          "data": {
            "image/svg+xml": "<?xml version=\"1.0\" encoding=\"UTF-8\" standalone=\"no\"?>\n<!DOCTYPE svg PUBLIC \"-//W3C//DTD SVG 1.1//EN\"\n \"http://www.w3.org/Graphics/SVG/1.1/DTD/svg11.dtd\">\n<!-- Generated by graphviz version 2.43.0 (0)\n -->\n<!-- Title: %3 Pages: 1 -->\n<svg width=\"745pt\" height=\"44pt\"\n viewBox=\"0.00 0.00 745.06 44.00\" xmlns=\"http://www.w3.org/2000/svg\" xmlns:xlink=\"http://www.w3.org/1999/xlink\">\n<g id=\"graph0\" class=\"graph\" transform=\"scale(1 1) rotate(0) translate(4 40)\">\n<title>%3</title>\n<polygon fill=\"white\" stroke=\"transparent\" points=\"-4,4 -4,-40 741.06,-40 741.06,4 -4,4\"/>\n<!-- 7 -->\n<g id=\"node1\" class=\"node\">\n<title>7</title>\n<ellipse fill=\"chartreuse\" stroke=\"black\" cx=\"143.24\" cy=\"-18\" rx=\"52.79\" ry=\"18\"/>\n<text text-anchor=\"middle\" x=\"143.24\" y=\"-14.3\" font-family=\"Times,serif\" font-size=\"14.00\">7 (index=0)</text>\n</g>\n<!-- 11 -->\n<g id=\"node2\" class=\"node\">\n<title>11</title>\n<ellipse fill=\"none\" stroke=\"black\" cx=\"289.08\" cy=\"-18\" rx=\"57.39\" ry=\"18\"/>\n<text text-anchor=\"middle\" x=\"289.08\" y=\"-14.3\" font-family=\"Times,serif\" font-size=\"14.00\">11 (index=1)</text>\n</g>\n<!-- 7&#45;&gt;11 -->\n<g id=\"edge1\" class=\"edge\">\n<title>7&#45;&gt;11</title>\n<path fill=\"none\" stroke=\"black\" d=\"M192.54,-11.58C203.16,-11.27 214.56,-11.18 225.65,-11.3\"/>\n<polygon fill=\"black\" stroke=\"black\" points=\"225.65,-14.8 235.71,-11.48 225.78,-7.8 225.65,-14.8\"/>\n</g>\n<!-- 11&#45;&gt;7 -->\n<g id=\"edge3\" class=\"edge\">\n<title>11&#45;&gt;7</title>\n<path fill=\"none\" stroke=\"black\" d=\"M235.71,-24.52C225.02,-24.78 213.71,-24.82 202.82,-24.65\"/>\n<polygon fill=\"black\" stroke=\"black\" points=\"202.61,-21.14 192.54,-24.42 202.46,-28.14 202.61,-21.14\"/>\n</g>\n<!-- 12 -->\n<g id=\"node3\" class=\"node\">\n<title>12</title>\n<ellipse fill=\"none\" stroke=\"black\" cx=\"439.47\" cy=\"-18\" rx=\"57.39\" ry=\"18\"/>\n<text text-anchor=\"middle\" x=\"439.47\" y=\"-14.3\" font-family=\"Times,serif\" font-size=\"14.00\">12 (index=2)</text>\n</g>\n<!-- 11&#45;&gt;12 -->\n<g id=\"edge2\" class=\"edge\">\n<title>11&#45;&gt;12</title>\n<path fill=\"none\" stroke=\"black\" d=\"M342.82,-11.51C353.42,-11.25 364.67,-11.18 375.58,-11.32\"/>\n<polygon fill=\"black\" stroke=\"black\" points=\"375.84,-14.83 385.91,-11.51 375.97,-7.83 375.84,-14.83\"/>\n</g>\n<!-- 12&#45;&gt;11 -->\n<g id=\"edge5\" class=\"edge\">\n<title>12&#45;&gt;11</title>\n<path fill=\"none\" stroke=\"black\" d=\"M385.91,-24.49C375.31,-24.75 364.06,-24.82 353.15,-24.68\"/>\n<polygon fill=\"black\" stroke=\"black\" points=\"352.88,-21.18 342.82,-24.49 352.75,-28.18 352.88,-21.18\"/>\n</g>\n<!-- 13 -->\n<g id=\"node4\" class=\"node\">\n<title>13</title>\n<ellipse fill=\"lightpink\" stroke=\"black\" cx=\"589.86\" cy=\"-18\" rx=\"57.39\" ry=\"18\"/>\n<text text-anchor=\"middle\" x=\"589.86\" y=\"-14.3\" font-family=\"Times,serif\" font-size=\"14.00\">13 (index=3)</text>\n</g>\n<!-- 12&#45;&gt;13 -->\n<g id=\"edge4\" class=\"edge\">\n<title>12&#45;&gt;13</title>\n<path fill=\"none\" stroke=\"black\" d=\"M493.21,-11.51C503.81,-11.25 515.06,-11.18 525.97,-11.32\"/>\n<polygon fill=\"black\" stroke=\"black\" points=\"526.23,-14.83 536.3,-11.51 526.36,-7.83 526.23,-14.83\"/>\n</g>\n<!-- 13&#45;&gt;12 -->\n<g id=\"edge6\" class=\"edge\">\n<title>13&#45;&gt;12</title>\n<path fill=\"none\" stroke=\"black\" d=\"M536.3,-24.49C525.7,-24.75 514.45,-24.82 503.54,-24.68\"/>\n<polygon fill=\"black\" stroke=\"black\" points=\"503.27,-21.18 493.21,-24.49 503.14,-28.18 503.27,-21.18\"/>\n</g>\n<!-- End -->\n<g id=\"node6\" class=\"node\">\n<title>End</title>\n<ellipse fill=\"none\" stroke=\"black\" cx=\"710.06\" cy=\"-18\" rx=\"27\" ry=\"18\"/>\n<text text-anchor=\"middle\" x=\"710.06\" y=\"-14.3\" font-family=\"Times,serif\" font-size=\"14.00\">End</text>\n</g>\n<!-- 13&#45;&gt;End -->\n<g id=\"edge8\" class=\"edge\">\n<title>13&#45;&gt;End</title>\n<path fill=\"none\" stroke=\"black\" d=\"M647.19,-18C655.87,-18 664.63,-18 672.72,-18\"/>\n<polygon fill=\"black\" stroke=\"black\" points=\"672.91,-21.5 682.91,-18 672.91,-14.5 672.91,-21.5\"/>\n</g>\n<!-- Start -->\n<g id=\"node5\" class=\"node\">\n<title>Start</title>\n<ellipse fill=\"none\" stroke=\"black\" cx=\"27.3\" cy=\"-18\" rx=\"27.1\" ry=\"18\"/>\n<text text-anchor=\"middle\" x=\"27.3\" y=\"-14.3\" font-family=\"Times,serif\" font-size=\"14.00\">Start</text>\n</g>\n<!-- Start&#45;&gt;7 -->\n<g id=\"edge7\" class=\"edge\">\n<title>Start&#45;&gt;7</title>\n<path fill=\"none\" stroke=\"black\" d=\"M64.96,-18C73.07,-18 81.81,-18 90.4,-18\"/>\n<polygon fill=\"black\" stroke=\"black\" points=\"64.72,-14.5 54.72,-18 64.72,-21.5 64.72,-14.5\"/>\n</g>\n</g>\n</svg>\n",
            "text/plain": [
              "<graphviz.graphs.Digraph at 0x7e78aa65e710>"
            ]
          },
          "metadata": {}
        }
      ]
    },
    {
      "cell_type": "markdown",
      "source": [
        "## Pop"
      ],
      "metadata": {
        "id": "rgjV2S62KVk3"
      }
    },
    {
      "cell_type": "code",
      "source": [
        "# diagram = Pop operation"
      ],
      "metadata": {
        "id": "9cmcrtvsLnK2"
      },
      "execution_count": null,
      "outputs": []
    },
    {
      "cell_type": "markdown",
      "source": [
        "![image.png](data:image/png;base64,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)"
      ],
      "metadata": {
        "id": "8h2HAKYjMyP2"
      }
    },
    {
      "cell_type": "code",
      "source": [
        "# Code = Pop"
      ],
      "metadata": {
        "id": "wCo9YusHLoCr"
      },
      "execution_count": null,
      "outputs": []
    },
    {
      "cell_type": "code",
      "source": [
        "import graphviz\n",
        "\n",
        "class Node:\n",
        "\n",
        "  def __init__(self, value):\n",
        "    self.value = value\n",
        "    self.next = None\n",
        "    self.prev = None\n",
        "\n",
        "class DoublyLinkedList:\n",
        "    def __init__(self, value):\n",
        "        new_node = Node(value)\n",
        "        self.head = new_node\n",
        "        self.tail = new_node\n",
        "        self.length = 1\n",
        "\n",
        "    def print_list(self,msg = \"List Created\"):\n",
        "        print(\"\\n\")\n",
        "        print(\"-----------\")\n",
        "        print(msg)\n",
        "        print(\"-----------\")\n",
        "        print(\"\\n\")\n",
        "\n",
        "        if self.length == 0:\n",
        "            return \"Nothing to display\"\n",
        "\n",
        "\n",
        "        dot = graphviz.Digraph()\n",
        "        dot.attr(rankdir='LR')  # Change direction to horizontal\n",
        "        temp = self.head\n",
        "        index = 0\n",
        "\n",
        "        while temp is not None:\n",
        "\n",
        "            label = f\"{temp.value} (index={index})\"\n",
        "\n",
        "            if self.length == 1:\n",
        "                dot.node(str(temp.value), label, fillcolor=\"cyan\", style=\"filled\")\n",
        "                break\n",
        "            else:\n",
        "                if temp == self.head:\n",
        "                    dot.node(str(temp.value), label, fillcolor=\"chartreuse\", style=\"filled\")\n",
        "                elif temp == self.tail:\n",
        "                    dot.node(str(temp.value), label, fillcolor=\"lightpink\", style=\"filled\")\n",
        "                else:\n",
        "                    dot.node(str(temp.value), label)\n",
        "\n",
        "            if temp.next:\n",
        "                dot.edge(str(temp.value), str(temp.next.value))\n",
        "\n",
        "            if temp.prev:\n",
        "                dot.edge(str(temp.value), str(temp.prev.value))\n",
        "\n",
        "            temp = temp.next\n",
        "            index += 1\n",
        "\n",
        "        dot.edge(\"Start\", str(self.head.value), dir=\"back\")\n",
        "        dot.edge(str(self.tail.value), \"End\")\n",
        "\n",
        "        return dot\n",
        "\n",
        "    def append(self,value):\n",
        "        # create the new node\n",
        "        new_node = Node(value)\n",
        "\n",
        "        if self.length == 0:\n",
        "            self.tail = new_node\n",
        "            self.head = new_node\n",
        "        else:\n",
        "            self.tail.next = new_node\n",
        "            new_node.prev = self.tail\n",
        "            self.tail = new_node\n",
        "\n",
        "        self.length += 1\n",
        "\n",
        "    def pop(self):\n",
        "        if self.length == 0:\n",
        "            return None\n",
        "\n",
        "        temp = self.tail\n",
        "\n",
        "        if self.length == 1:\n",
        "            self.head = None\n",
        "            self.tail = None\n",
        "        else:\n",
        "            # disconnect the last node\n",
        "            self.tail = self.tail.prev\n",
        "            self.tail.next = None\n",
        "\n",
        "        temp.prev = None\n",
        "\n",
        "        self.length -= 1\n",
        "        return temp"
      ],
      "metadata": {
        "id": "D4nT3KqC1kxm"
      },
      "execution_count": 152,
      "outputs": []
    },
    {
      "cell_type": "code",
      "source": [
        "# Test case = pop | 1 element\n",
        "\n",
        "my_list = DoublyLinkedList(7)\n",
        "display(my_list.print_list())\n",
        "\n",
        "ret_node = my_list.pop()\n",
        "\n",
        "if ret_node:\n",
        "    print('\\n')\n",
        "    print(f\"returned node = {ret_node.value}\")\n",
        "display(my_list.print_list(\"List updated\"))"
      ],
      "metadata": {
        "colab": {
          "base_uri": "https://localhost:8080/",
          "height": 393
        },
        "id": "F7v168PNPAu4",
        "outputId": "631d2231-5737-4e9b-bc05-2b8e5417065b"
      },
      "execution_count": 153,
      "outputs": [
        {
          "output_type": "stream",
          "name": "stdout",
          "text": [
            "\n",
            "\n",
            "-----------\n",
            "List Created\n",
            "-----------\n",
            "\n",
            "\n"
          ]
        },
        {
          "output_type": "display_data",
          "data": {
            "image/svg+xml": "<?xml version=\"1.0\" encoding=\"UTF-8\" standalone=\"no\"?>\n<!DOCTYPE svg PUBLIC \"-//W3C//DTD SVG 1.1//EN\"\n \"http://www.w3.org/Graphics/SVG/1.1/DTD/svg11.dtd\">\n<!-- Generated by graphviz version 2.43.0 (0)\n -->\n<!-- Title: %3 Pages: 1 -->\n<svg width=\"294pt\" height=\"44pt\"\n viewBox=\"0.00 0.00 293.89 44.00\" xmlns=\"http://www.w3.org/2000/svg\" xmlns:xlink=\"http://www.w3.org/1999/xlink\">\n<g id=\"graph0\" class=\"graph\" transform=\"scale(1 1) rotate(0) translate(4 40)\">\n<title>%3</title>\n<polygon fill=\"white\" stroke=\"transparent\" points=\"-4,4 -4,-40 289.89,-40 289.89,4 -4,4\"/>\n<!-- 7 -->\n<g id=\"node1\" class=\"node\">\n<title>7</title>\n<ellipse fill=\"cyan\" stroke=\"black\" cx=\"143.24\" cy=\"-18\" rx=\"52.79\" ry=\"18\"/>\n<text text-anchor=\"middle\" x=\"143.24\" y=\"-14.3\" font-family=\"Times,serif\" font-size=\"14.00\">7 (index=0)</text>\n</g>\n<!-- End -->\n<g id=\"node3\" class=\"node\">\n<title>End</title>\n<ellipse fill=\"none\" stroke=\"black\" cx=\"258.89\" cy=\"-18\" rx=\"27\" ry=\"18\"/>\n<text text-anchor=\"middle\" x=\"258.89\" y=\"-14.3\" font-family=\"Times,serif\" font-size=\"14.00\">End</text>\n</g>\n<!-- 7&#45;&gt;End -->\n<g id=\"edge2\" class=\"edge\">\n<title>7&#45;&gt;End</title>\n<path fill=\"none\" stroke=\"black\" d=\"M196.07,-18C204.7,-18 213.49,-18 221.62,-18\"/>\n<polygon fill=\"black\" stroke=\"black\" points=\"221.87,-21.5 231.87,-18 221.87,-14.5 221.87,-21.5\"/>\n</g>\n<!-- Start -->\n<g id=\"node2\" class=\"node\">\n<title>Start</title>\n<ellipse fill=\"none\" stroke=\"black\" cx=\"27.3\" cy=\"-18\" rx=\"27.1\" ry=\"18\"/>\n<text text-anchor=\"middle\" x=\"27.3\" y=\"-14.3\" font-family=\"Times,serif\" font-size=\"14.00\">Start</text>\n</g>\n<!-- Start&#45;&gt;7 -->\n<g id=\"edge1\" class=\"edge\">\n<title>Start&#45;&gt;7</title>\n<path fill=\"none\" stroke=\"black\" d=\"M64.96,-18C73.07,-18 81.81,-18 90.4,-18\"/>\n<polygon fill=\"black\" stroke=\"black\" points=\"64.72,-14.5 54.72,-18 64.72,-21.5 64.72,-14.5\"/>\n</g>\n</g>\n</svg>\n",
            "text/plain": [
              "<graphviz.graphs.Digraph at 0x7e78aa6f91b0>"
            ]
          },
          "metadata": {}
        },
        {
          "output_type": "stream",
          "name": "stdout",
          "text": [
            "\n",
            "\n",
            "returned node = 7\n",
            "\n",
            "\n",
            "-----------\n",
            "List updated\n",
            "-----------\n",
            "\n",
            "\n"
          ]
        },
        {
          "output_type": "display_data",
          "data": {
            "text/plain": [
              "'Nothing to display'"
            ],
            "application/vnd.google.colaboratory.intrinsic+json": {
              "type": "string"
            }
          },
          "metadata": {}
        }
      ]
    },
    {
      "cell_type": "code",
      "source": [
        "# Test case = pop | 4 element\n",
        "\n",
        "my_list = DoublyLinkedList(7)\n",
        "my_list.append(11)\n",
        "my_list.append(12)\n",
        "my_list.append(13)\n",
        "display(my_list.print_list())\n",
        "\n",
        "ret_node = my_list.pop()\n",
        "if ret_node:\n",
        "    print('\\n')\n",
        "    print(f\"returned node = {ret_node.value}\")\n",
        "display(my_list.print_list(\"List updated\"))"
      ],
      "metadata": {
        "colab": {
          "base_uri": "https://localhost:8080/",
          "height": 438
        },
        "id": "7t8pq2atPXL2",
        "outputId": "8a591de1-1560-474e-8361-f17cd4cb4c83"
      },
      "execution_count": 154,
      "outputs": [
        {
          "output_type": "stream",
          "name": "stdout",
          "text": [
            "\n",
            "\n",
            "-----------\n",
            "List Created\n",
            "-----------\n",
            "\n",
            "\n"
          ]
        },
        {
          "output_type": "display_data",
          "data": {
            "image/svg+xml": "<?xml version=\"1.0\" encoding=\"UTF-8\" standalone=\"no\"?>\n<!DOCTYPE svg PUBLIC \"-//W3C//DTD SVG 1.1//EN\"\n \"http://www.w3.org/Graphics/SVG/1.1/DTD/svg11.dtd\">\n<!-- Generated by graphviz version 2.43.0 (0)\n -->\n<!-- Title: %3 Pages: 1 -->\n<svg width=\"745pt\" height=\"44pt\"\n viewBox=\"0.00 0.00 745.06 44.00\" xmlns=\"http://www.w3.org/2000/svg\" xmlns:xlink=\"http://www.w3.org/1999/xlink\">\n<g id=\"graph0\" class=\"graph\" transform=\"scale(1 1) rotate(0) translate(4 40)\">\n<title>%3</title>\n<polygon fill=\"white\" stroke=\"transparent\" points=\"-4,4 -4,-40 741.06,-40 741.06,4 -4,4\"/>\n<!-- 7 -->\n<g id=\"node1\" class=\"node\">\n<title>7</title>\n<ellipse fill=\"chartreuse\" stroke=\"black\" cx=\"143.24\" cy=\"-18\" rx=\"52.79\" ry=\"18\"/>\n<text text-anchor=\"middle\" x=\"143.24\" y=\"-14.3\" font-family=\"Times,serif\" font-size=\"14.00\">7 (index=0)</text>\n</g>\n<!-- 11 -->\n<g id=\"node2\" class=\"node\">\n<title>11</title>\n<ellipse fill=\"none\" stroke=\"black\" cx=\"289.08\" cy=\"-18\" rx=\"57.39\" ry=\"18\"/>\n<text text-anchor=\"middle\" x=\"289.08\" y=\"-14.3\" font-family=\"Times,serif\" font-size=\"14.00\">11 (index=1)</text>\n</g>\n<!-- 7&#45;&gt;11 -->\n<g id=\"edge1\" class=\"edge\">\n<title>7&#45;&gt;11</title>\n<path fill=\"none\" stroke=\"black\" d=\"M192.54,-11.58C203.16,-11.27 214.56,-11.18 225.65,-11.3\"/>\n<polygon fill=\"black\" stroke=\"black\" points=\"225.65,-14.8 235.71,-11.48 225.78,-7.8 225.65,-14.8\"/>\n</g>\n<!-- 11&#45;&gt;7 -->\n<g id=\"edge3\" class=\"edge\">\n<title>11&#45;&gt;7</title>\n<path fill=\"none\" stroke=\"black\" d=\"M235.71,-24.52C225.02,-24.78 213.71,-24.82 202.82,-24.65\"/>\n<polygon fill=\"black\" stroke=\"black\" points=\"202.61,-21.14 192.54,-24.42 202.46,-28.14 202.61,-21.14\"/>\n</g>\n<!-- 12 -->\n<g id=\"node3\" class=\"node\">\n<title>12</title>\n<ellipse fill=\"none\" stroke=\"black\" cx=\"439.47\" cy=\"-18\" rx=\"57.39\" ry=\"18\"/>\n<text text-anchor=\"middle\" x=\"439.47\" y=\"-14.3\" font-family=\"Times,serif\" font-size=\"14.00\">12 (index=2)</text>\n</g>\n<!-- 11&#45;&gt;12 -->\n<g id=\"edge2\" class=\"edge\">\n<title>11&#45;&gt;12</title>\n<path fill=\"none\" stroke=\"black\" d=\"M342.82,-11.51C353.42,-11.25 364.67,-11.18 375.58,-11.32\"/>\n<polygon fill=\"black\" stroke=\"black\" points=\"375.84,-14.83 385.91,-11.51 375.97,-7.83 375.84,-14.83\"/>\n</g>\n<!-- 12&#45;&gt;11 -->\n<g id=\"edge5\" class=\"edge\">\n<title>12&#45;&gt;11</title>\n<path fill=\"none\" stroke=\"black\" d=\"M385.91,-24.49C375.31,-24.75 364.06,-24.82 353.15,-24.68\"/>\n<polygon fill=\"black\" stroke=\"black\" points=\"352.88,-21.18 342.82,-24.49 352.75,-28.18 352.88,-21.18\"/>\n</g>\n<!-- 13 -->\n<g id=\"node4\" class=\"node\">\n<title>13</title>\n<ellipse fill=\"lightpink\" stroke=\"black\" cx=\"589.86\" cy=\"-18\" rx=\"57.39\" ry=\"18\"/>\n<text text-anchor=\"middle\" x=\"589.86\" y=\"-14.3\" font-family=\"Times,serif\" font-size=\"14.00\">13 (index=3)</text>\n</g>\n<!-- 12&#45;&gt;13 -->\n<g id=\"edge4\" class=\"edge\">\n<title>12&#45;&gt;13</title>\n<path fill=\"none\" stroke=\"black\" d=\"M493.21,-11.51C503.81,-11.25 515.06,-11.18 525.97,-11.32\"/>\n<polygon fill=\"black\" stroke=\"black\" points=\"526.23,-14.83 536.3,-11.51 526.36,-7.83 526.23,-14.83\"/>\n</g>\n<!-- 13&#45;&gt;12 -->\n<g id=\"edge6\" class=\"edge\">\n<title>13&#45;&gt;12</title>\n<path fill=\"none\" stroke=\"black\" d=\"M536.3,-24.49C525.7,-24.75 514.45,-24.82 503.54,-24.68\"/>\n<polygon fill=\"black\" stroke=\"black\" points=\"503.27,-21.18 493.21,-24.49 503.14,-28.18 503.27,-21.18\"/>\n</g>\n<!-- End -->\n<g id=\"node6\" class=\"node\">\n<title>End</title>\n<ellipse fill=\"none\" stroke=\"black\" cx=\"710.06\" cy=\"-18\" rx=\"27\" ry=\"18\"/>\n<text text-anchor=\"middle\" x=\"710.06\" y=\"-14.3\" font-family=\"Times,serif\" font-size=\"14.00\">End</text>\n</g>\n<!-- 13&#45;&gt;End -->\n<g id=\"edge8\" class=\"edge\">\n<title>13&#45;&gt;End</title>\n<path fill=\"none\" stroke=\"black\" d=\"M647.19,-18C655.87,-18 664.63,-18 672.72,-18\"/>\n<polygon fill=\"black\" stroke=\"black\" points=\"672.91,-21.5 682.91,-18 672.91,-14.5 672.91,-21.5\"/>\n</g>\n<!-- Start -->\n<g id=\"node5\" class=\"node\">\n<title>Start</title>\n<ellipse fill=\"none\" stroke=\"black\" cx=\"27.3\" cy=\"-18\" rx=\"27.1\" ry=\"18\"/>\n<text text-anchor=\"middle\" x=\"27.3\" y=\"-14.3\" font-family=\"Times,serif\" font-size=\"14.00\">Start</text>\n</g>\n<!-- Start&#45;&gt;7 -->\n<g id=\"edge7\" class=\"edge\">\n<title>Start&#45;&gt;7</title>\n<path fill=\"none\" stroke=\"black\" d=\"M64.96,-18C73.07,-18 81.81,-18 90.4,-18\"/>\n<polygon fill=\"black\" stroke=\"black\" points=\"64.72,-14.5 54.72,-18 64.72,-21.5 64.72,-14.5\"/>\n</g>\n</g>\n</svg>\n",
            "text/plain": [
              "<graphviz.graphs.Digraph at 0x7e78aa6f83d0>"
            ]
          },
          "metadata": {}
        },
        {
          "output_type": "stream",
          "name": "stdout",
          "text": [
            "\n",
            "\n",
            "returned node = 13\n",
            "\n",
            "\n",
            "-----------\n",
            "List updated\n",
            "-----------\n",
            "\n",
            "\n"
          ]
        },
        {
          "output_type": "display_data",
          "data": {
            "image/svg+xml": "<?xml version=\"1.0\" encoding=\"UTF-8\" standalone=\"no\"?>\n<!DOCTYPE svg PUBLIC \"-//W3C//DTD SVG 1.1//EN\"\n \"http://www.w3.org/Graphics/SVG/1.1/DTD/svg11.dtd\">\n<!-- Generated by graphviz version 2.43.0 (0)\n -->\n<!-- Title: %3 Pages: 1 -->\n<svg width=\"595pt\" height=\"44pt\"\n viewBox=\"0.00 0.00 594.67 44.00\" xmlns=\"http://www.w3.org/2000/svg\" xmlns:xlink=\"http://www.w3.org/1999/xlink\">\n<g id=\"graph0\" class=\"graph\" transform=\"scale(1 1) rotate(0) translate(4 40)\">\n<title>%3</title>\n<polygon fill=\"white\" stroke=\"transparent\" points=\"-4,4 -4,-40 590.67,-40 590.67,4 -4,4\"/>\n<!-- 7 -->\n<g id=\"node1\" class=\"node\">\n<title>7</title>\n<ellipse fill=\"chartreuse\" stroke=\"black\" cx=\"143.24\" cy=\"-18\" rx=\"52.79\" ry=\"18\"/>\n<text text-anchor=\"middle\" x=\"143.24\" y=\"-14.3\" font-family=\"Times,serif\" font-size=\"14.00\">7 (index=0)</text>\n</g>\n<!-- 11 -->\n<g id=\"node2\" class=\"node\">\n<title>11</title>\n<ellipse fill=\"none\" stroke=\"black\" cx=\"289.08\" cy=\"-18\" rx=\"57.39\" ry=\"18\"/>\n<text text-anchor=\"middle\" x=\"289.08\" y=\"-14.3\" font-family=\"Times,serif\" font-size=\"14.00\">11 (index=1)</text>\n</g>\n<!-- 7&#45;&gt;11 -->\n<g id=\"edge1\" class=\"edge\">\n<title>7&#45;&gt;11</title>\n<path fill=\"none\" stroke=\"black\" d=\"M192.54,-11.58C203.16,-11.27 214.56,-11.18 225.65,-11.3\"/>\n<polygon fill=\"black\" stroke=\"black\" points=\"225.65,-14.8 235.71,-11.48 225.78,-7.8 225.65,-14.8\"/>\n</g>\n<!-- 11&#45;&gt;7 -->\n<g id=\"edge3\" class=\"edge\">\n<title>11&#45;&gt;7</title>\n<path fill=\"none\" stroke=\"black\" d=\"M235.71,-24.52C225.02,-24.78 213.71,-24.82 202.82,-24.65\"/>\n<polygon fill=\"black\" stroke=\"black\" points=\"202.61,-21.14 192.54,-24.42 202.46,-28.14 202.61,-21.14\"/>\n</g>\n<!-- 12 -->\n<g id=\"node3\" class=\"node\">\n<title>12</title>\n<ellipse fill=\"lightpink\" stroke=\"black\" cx=\"439.47\" cy=\"-18\" rx=\"57.39\" ry=\"18\"/>\n<text text-anchor=\"middle\" x=\"439.47\" y=\"-14.3\" font-family=\"Times,serif\" font-size=\"14.00\">12 (index=2)</text>\n</g>\n<!-- 11&#45;&gt;12 -->\n<g id=\"edge2\" class=\"edge\">\n<title>11&#45;&gt;12</title>\n<path fill=\"none\" stroke=\"black\" d=\"M342.82,-11.51C353.42,-11.25 364.67,-11.18 375.58,-11.32\"/>\n<polygon fill=\"black\" stroke=\"black\" points=\"375.84,-14.83 385.91,-11.51 375.97,-7.83 375.84,-14.83\"/>\n</g>\n<!-- 12&#45;&gt;11 -->\n<g id=\"edge4\" class=\"edge\">\n<title>12&#45;&gt;11</title>\n<path fill=\"none\" stroke=\"black\" d=\"M385.91,-24.49C375.31,-24.75 364.06,-24.82 353.15,-24.68\"/>\n<polygon fill=\"black\" stroke=\"black\" points=\"352.88,-21.18 342.82,-24.49 352.75,-28.18 352.88,-21.18\"/>\n</g>\n<!-- End -->\n<g id=\"node5\" class=\"node\">\n<title>End</title>\n<ellipse fill=\"none\" stroke=\"black\" cx=\"559.67\" cy=\"-18\" rx=\"27\" ry=\"18\"/>\n<text text-anchor=\"middle\" x=\"559.67\" y=\"-14.3\" font-family=\"Times,serif\" font-size=\"14.00\">End</text>\n</g>\n<!-- 12&#45;&gt;End -->\n<g id=\"edge6\" class=\"edge\">\n<title>12&#45;&gt;End</title>\n<path fill=\"none\" stroke=\"black\" d=\"M496.8,-18C505.48,-18 514.24,-18 522.33,-18\"/>\n<polygon fill=\"black\" stroke=\"black\" points=\"522.52,-21.5 532.52,-18 522.52,-14.5 522.52,-21.5\"/>\n</g>\n<!-- Start -->\n<g id=\"node4\" class=\"node\">\n<title>Start</title>\n<ellipse fill=\"none\" stroke=\"black\" cx=\"27.3\" cy=\"-18\" rx=\"27.1\" ry=\"18\"/>\n<text text-anchor=\"middle\" x=\"27.3\" y=\"-14.3\" font-family=\"Times,serif\" font-size=\"14.00\">Start</text>\n</g>\n<!-- Start&#45;&gt;7 -->\n<g id=\"edge5\" class=\"edge\">\n<title>Start&#45;&gt;7</title>\n<path fill=\"none\" stroke=\"black\" d=\"M64.96,-18C73.07,-18 81.81,-18 90.4,-18\"/>\n<polygon fill=\"black\" stroke=\"black\" points=\"64.72,-14.5 54.72,-18 64.72,-21.5 64.72,-14.5\"/>\n</g>\n</g>\n</svg>\n",
            "text/plain": [
              "<graphviz.graphs.Digraph at 0x7e78aa6fba60>"
            ]
          },
          "metadata": {}
        }
      ]
    },
    {
      "cell_type": "code",
      "source": [
        "# Test case = pop | 4 element | use of loop\n",
        "\n",
        "my_list = DoublyLinkedList(7)\n",
        "my_list.append(11)\n",
        "my_list.append(12)\n",
        "my_list.append(13)\n",
        "display(my_list.print_list())\n",
        "\n",
        "for _ in range(my_list.length):\n",
        "    ret_node = my_list.pop()\n",
        "    if ret_node:\n",
        "        print('\\n')\n",
        "        print(f\"returned node = {ret_node.value}\")\n",
        "    display(my_list.print_list(\"List updated\"))"
      ],
      "metadata": {
        "id": "PxDyxZg-SLX7",
        "colab": {
          "base_uri": "https://localhost:8080/",
          "height": 1000
        },
        "outputId": "19cd80c1-a4e8-4ef0-8b65-51989b82463a"
      },
      "execution_count": 155,
      "outputs": [
        {
          "output_type": "stream",
          "name": "stdout",
          "text": [
            "\n",
            "\n",
            "-----------\n",
            "List Created\n",
            "-----------\n",
            "\n",
            "\n"
          ]
        },
        {
          "output_type": "display_data",
          "data": {
            "image/svg+xml": "<?xml version=\"1.0\" encoding=\"UTF-8\" standalone=\"no\"?>\n<!DOCTYPE svg PUBLIC \"-//W3C//DTD SVG 1.1//EN\"\n \"http://www.w3.org/Graphics/SVG/1.1/DTD/svg11.dtd\">\n<!-- Generated by graphviz version 2.43.0 (0)\n -->\n<!-- Title: %3 Pages: 1 -->\n<svg width=\"745pt\" height=\"44pt\"\n viewBox=\"0.00 0.00 745.06 44.00\" xmlns=\"http://www.w3.org/2000/svg\" xmlns:xlink=\"http://www.w3.org/1999/xlink\">\n<g id=\"graph0\" class=\"graph\" transform=\"scale(1 1) rotate(0) translate(4 40)\">\n<title>%3</title>\n<polygon fill=\"white\" stroke=\"transparent\" points=\"-4,4 -4,-40 741.06,-40 741.06,4 -4,4\"/>\n<!-- 7 -->\n<g id=\"node1\" class=\"node\">\n<title>7</title>\n<ellipse fill=\"chartreuse\" stroke=\"black\" cx=\"143.24\" cy=\"-18\" rx=\"52.79\" ry=\"18\"/>\n<text text-anchor=\"middle\" x=\"143.24\" y=\"-14.3\" font-family=\"Times,serif\" font-size=\"14.00\">7 (index=0)</text>\n</g>\n<!-- 11 -->\n<g id=\"node2\" class=\"node\">\n<title>11</title>\n<ellipse fill=\"none\" stroke=\"black\" cx=\"289.08\" cy=\"-18\" rx=\"57.39\" ry=\"18\"/>\n<text text-anchor=\"middle\" x=\"289.08\" y=\"-14.3\" font-family=\"Times,serif\" font-size=\"14.00\">11 (index=1)</text>\n</g>\n<!-- 7&#45;&gt;11 -->\n<g id=\"edge1\" class=\"edge\">\n<title>7&#45;&gt;11</title>\n<path fill=\"none\" stroke=\"black\" d=\"M192.54,-11.58C203.16,-11.27 214.56,-11.18 225.65,-11.3\"/>\n<polygon fill=\"black\" stroke=\"black\" points=\"225.65,-14.8 235.71,-11.48 225.78,-7.8 225.65,-14.8\"/>\n</g>\n<!-- 11&#45;&gt;7 -->\n<g id=\"edge3\" class=\"edge\">\n<title>11&#45;&gt;7</title>\n<path fill=\"none\" stroke=\"black\" d=\"M235.71,-24.52C225.02,-24.78 213.71,-24.82 202.82,-24.65\"/>\n<polygon fill=\"black\" stroke=\"black\" points=\"202.61,-21.14 192.54,-24.42 202.46,-28.14 202.61,-21.14\"/>\n</g>\n<!-- 12 -->\n<g id=\"node3\" class=\"node\">\n<title>12</title>\n<ellipse fill=\"none\" stroke=\"black\" cx=\"439.47\" cy=\"-18\" rx=\"57.39\" ry=\"18\"/>\n<text text-anchor=\"middle\" x=\"439.47\" y=\"-14.3\" font-family=\"Times,serif\" font-size=\"14.00\">12 (index=2)</text>\n</g>\n<!-- 11&#45;&gt;12 -->\n<g id=\"edge2\" class=\"edge\">\n<title>11&#45;&gt;12</title>\n<path fill=\"none\" stroke=\"black\" d=\"M342.82,-11.51C353.42,-11.25 364.67,-11.18 375.58,-11.32\"/>\n<polygon fill=\"black\" stroke=\"black\" points=\"375.84,-14.83 385.91,-11.51 375.97,-7.83 375.84,-14.83\"/>\n</g>\n<!-- 12&#45;&gt;11 -->\n<g id=\"edge5\" class=\"edge\">\n<title>12&#45;&gt;11</title>\n<path fill=\"none\" stroke=\"black\" d=\"M385.91,-24.49C375.31,-24.75 364.06,-24.82 353.15,-24.68\"/>\n<polygon fill=\"black\" stroke=\"black\" points=\"352.88,-21.18 342.82,-24.49 352.75,-28.18 352.88,-21.18\"/>\n</g>\n<!-- 13 -->\n<g id=\"node4\" class=\"node\">\n<title>13</title>\n<ellipse fill=\"lightpink\" stroke=\"black\" cx=\"589.86\" cy=\"-18\" rx=\"57.39\" ry=\"18\"/>\n<text text-anchor=\"middle\" x=\"589.86\" y=\"-14.3\" font-family=\"Times,serif\" font-size=\"14.00\">13 (index=3)</text>\n</g>\n<!-- 12&#45;&gt;13 -->\n<g id=\"edge4\" class=\"edge\">\n<title>12&#45;&gt;13</title>\n<path fill=\"none\" stroke=\"black\" d=\"M493.21,-11.51C503.81,-11.25 515.06,-11.18 525.97,-11.32\"/>\n<polygon fill=\"black\" stroke=\"black\" points=\"526.23,-14.83 536.3,-11.51 526.36,-7.83 526.23,-14.83\"/>\n</g>\n<!-- 13&#45;&gt;12 -->\n<g id=\"edge6\" class=\"edge\">\n<title>13&#45;&gt;12</title>\n<path fill=\"none\" stroke=\"black\" d=\"M536.3,-24.49C525.7,-24.75 514.45,-24.82 503.54,-24.68\"/>\n<polygon fill=\"black\" stroke=\"black\" points=\"503.27,-21.18 493.21,-24.49 503.14,-28.18 503.27,-21.18\"/>\n</g>\n<!-- End -->\n<g id=\"node6\" class=\"node\">\n<title>End</title>\n<ellipse fill=\"none\" stroke=\"black\" cx=\"710.06\" cy=\"-18\" rx=\"27\" ry=\"18\"/>\n<text text-anchor=\"middle\" x=\"710.06\" y=\"-14.3\" font-family=\"Times,serif\" font-size=\"14.00\">End</text>\n</g>\n<!-- 13&#45;&gt;End -->\n<g id=\"edge8\" class=\"edge\">\n<title>13&#45;&gt;End</title>\n<path fill=\"none\" stroke=\"black\" d=\"M647.19,-18C655.87,-18 664.63,-18 672.72,-18\"/>\n<polygon fill=\"black\" stroke=\"black\" points=\"672.91,-21.5 682.91,-18 672.91,-14.5 672.91,-21.5\"/>\n</g>\n<!-- Start -->\n<g id=\"node5\" class=\"node\">\n<title>Start</title>\n<ellipse fill=\"none\" stroke=\"black\" cx=\"27.3\" cy=\"-18\" rx=\"27.1\" ry=\"18\"/>\n<text text-anchor=\"middle\" x=\"27.3\" y=\"-14.3\" font-family=\"Times,serif\" font-size=\"14.00\">Start</text>\n</g>\n<!-- Start&#45;&gt;7 -->\n<g id=\"edge7\" class=\"edge\">\n<title>Start&#45;&gt;7</title>\n<path fill=\"none\" stroke=\"black\" d=\"M64.96,-18C73.07,-18 81.81,-18 90.4,-18\"/>\n<polygon fill=\"black\" stroke=\"black\" points=\"64.72,-14.5 54.72,-18 64.72,-21.5 64.72,-14.5\"/>\n</g>\n</g>\n</svg>\n",
            "text/plain": [
              "<graphviz.graphs.Digraph at 0x7e78aa7db040>"
            ]
          },
          "metadata": {}
        },
        {
          "output_type": "stream",
          "name": "stdout",
          "text": [
            "\n",
            "\n",
            "returned node = 13\n",
            "\n",
            "\n",
            "-----------\n",
            "List updated\n",
            "-----------\n",
            "\n",
            "\n"
          ]
        },
        {
          "output_type": "display_data",
          "data": {
            "image/svg+xml": "<?xml version=\"1.0\" encoding=\"UTF-8\" standalone=\"no\"?>\n<!DOCTYPE svg PUBLIC \"-//W3C//DTD SVG 1.1//EN\"\n \"http://www.w3.org/Graphics/SVG/1.1/DTD/svg11.dtd\">\n<!-- Generated by graphviz version 2.43.0 (0)\n -->\n<!-- Title: %3 Pages: 1 -->\n<svg width=\"595pt\" height=\"44pt\"\n viewBox=\"0.00 0.00 594.67 44.00\" xmlns=\"http://www.w3.org/2000/svg\" xmlns:xlink=\"http://www.w3.org/1999/xlink\">\n<g id=\"graph0\" class=\"graph\" transform=\"scale(1 1) rotate(0) translate(4 40)\">\n<title>%3</title>\n<polygon fill=\"white\" stroke=\"transparent\" points=\"-4,4 -4,-40 590.67,-40 590.67,4 -4,4\"/>\n<!-- 7 -->\n<g id=\"node1\" class=\"node\">\n<title>7</title>\n<ellipse fill=\"chartreuse\" stroke=\"black\" cx=\"143.24\" cy=\"-18\" rx=\"52.79\" ry=\"18\"/>\n<text text-anchor=\"middle\" x=\"143.24\" y=\"-14.3\" font-family=\"Times,serif\" font-size=\"14.00\">7 (index=0)</text>\n</g>\n<!-- 11 -->\n<g id=\"node2\" class=\"node\">\n<title>11</title>\n<ellipse fill=\"none\" stroke=\"black\" cx=\"289.08\" cy=\"-18\" rx=\"57.39\" ry=\"18\"/>\n<text text-anchor=\"middle\" x=\"289.08\" y=\"-14.3\" font-family=\"Times,serif\" font-size=\"14.00\">11 (index=1)</text>\n</g>\n<!-- 7&#45;&gt;11 -->\n<g id=\"edge1\" class=\"edge\">\n<title>7&#45;&gt;11</title>\n<path fill=\"none\" stroke=\"black\" d=\"M192.54,-11.58C203.16,-11.27 214.56,-11.18 225.65,-11.3\"/>\n<polygon fill=\"black\" stroke=\"black\" points=\"225.65,-14.8 235.71,-11.48 225.78,-7.8 225.65,-14.8\"/>\n</g>\n<!-- 11&#45;&gt;7 -->\n<g id=\"edge3\" class=\"edge\">\n<title>11&#45;&gt;7</title>\n<path fill=\"none\" stroke=\"black\" d=\"M235.71,-24.52C225.02,-24.78 213.71,-24.82 202.82,-24.65\"/>\n<polygon fill=\"black\" stroke=\"black\" points=\"202.61,-21.14 192.54,-24.42 202.46,-28.14 202.61,-21.14\"/>\n</g>\n<!-- 12 -->\n<g id=\"node3\" class=\"node\">\n<title>12</title>\n<ellipse fill=\"lightpink\" stroke=\"black\" cx=\"439.47\" cy=\"-18\" rx=\"57.39\" ry=\"18\"/>\n<text text-anchor=\"middle\" x=\"439.47\" y=\"-14.3\" font-family=\"Times,serif\" font-size=\"14.00\">12 (index=2)</text>\n</g>\n<!-- 11&#45;&gt;12 -->\n<g id=\"edge2\" class=\"edge\">\n<title>11&#45;&gt;12</title>\n<path fill=\"none\" stroke=\"black\" d=\"M342.82,-11.51C353.42,-11.25 364.67,-11.18 375.58,-11.32\"/>\n<polygon fill=\"black\" stroke=\"black\" points=\"375.84,-14.83 385.91,-11.51 375.97,-7.83 375.84,-14.83\"/>\n</g>\n<!-- 12&#45;&gt;11 -->\n<g id=\"edge4\" class=\"edge\">\n<title>12&#45;&gt;11</title>\n<path fill=\"none\" stroke=\"black\" d=\"M385.91,-24.49C375.31,-24.75 364.06,-24.82 353.15,-24.68\"/>\n<polygon fill=\"black\" stroke=\"black\" points=\"352.88,-21.18 342.82,-24.49 352.75,-28.18 352.88,-21.18\"/>\n</g>\n<!-- End -->\n<g id=\"node5\" class=\"node\">\n<title>End</title>\n<ellipse fill=\"none\" stroke=\"black\" cx=\"559.67\" cy=\"-18\" rx=\"27\" ry=\"18\"/>\n<text text-anchor=\"middle\" x=\"559.67\" y=\"-14.3\" font-family=\"Times,serif\" font-size=\"14.00\">End</text>\n</g>\n<!-- 12&#45;&gt;End -->\n<g id=\"edge6\" class=\"edge\">\n<title>12&#45;&gt;End</title>\n<path fill=\"none\" stroke=\"black\" d=\"M496.8,-18C505.48,-18 514.24,-18 522.33,-18\"/>\n<polygon fill=\"black\" stroke=\"black\" points=\"522.52,-21.5 532.52,-18 522.52,-14.5 522.52,-21.5\"/>\n</g>\n<!-- Start -->\n<g id=\"node4\" class=\"node\">\n<title>Start</title>\n<ellipse fill=\"none\" stroke=\"black\" cx=\"27.3\" cy=\"-18\" rx=\"27.1\" ry=\"18\"/>\n<text text-anchor=\"middle\" x=\"27.3\" y=\"-14.3\" font-family=\"Times,serif\" font-size=\"14.00\">Start</text>\n</g>\n<!-- Start&#45;&gt;7 -->\n<g id=\"edge5\" class=\"edge\">\n<title>Start&#45;&gt;7</title>\n<path fill=\"none\" stroke=\"black\" d=\"M64.96,-18C73.07,-18 81.81,-18 90.4,-18\"/>\n<polygon fill=\"black\" stroke=\"black\" points=\"64.72,-14.5 54.72,-18 64.72,-21.5 64.72,-14.5\"/>\n</g>\n</g>\n</svg>\n",
            "text/plain": [
              "<graphviz.graphs.Digraph at 0x7e78aa6f8940>"
            ]
          },
          "metadata": {}
        },
        {
          "output_type": "stream",
          "name": "stdout",
          "text": [
            "\n",
            "\n",
            "returned node = 12\n",
            "\n",
            "\n",
            "-----------\n",
            "List updated\n",
            "-----------\n",
            "\n",
            "\n"
          ]
        },
        {
          "output_type": "display_data",
          "data": {
            "image/svg+xml": "<?xml version=\"1.0\" encoding=\"UTF-8\" standalone=\"no\"?>\n<!DOCTYPE svg PUBLIC \"-//W3C//DTD SVG 1.1//EN\"\n \"http://www.w3.org/Graphics/SVG/1.1/DTD/svg11.dtd\">\n<!-- Generated by graphviz version 2.43.0 (0)\n -->\n<!-- Title: %3 Pages: 1 -->\n<svg width=\"444pt\" height=\"44pt\"\n viewBox=\"0.00 0.00 444.28 44.00\" xmlns=\"http://www.w3.org/2000/svg\" xmlns:xlink=\"http://www.w3.org/1999/xlink\">\n<g id=\"graph0\" class=\"graph\" transform=\"scale(1 1) rotate(0) translate(4 40)\">\n<title>%3</title>\n<polygon fill=\"white\" stroke=\"transparent\" points=\"-4,4 -4,-40 440.28,-40 440.28,4 -4,4\"/>\n<!-- 7 -->\n<g id=\"node1\" class=\"node\">\n<title>7</title>\n<ellipse fill=\"chartreuse\" stroke=\"black\" cx=\"143.24\" cy=\"-18\" rx=\"52.79\" ry=\"18\"/>\n<text text-anchor=\"middle\" x=\"143.24\" y=\"-14.3\" font-family=\"Times,serif\" font-size=\"14.00\">7 (index=0)</text>\n</g>\n<!-- 11 -->\n<g id=\"node2\" class=\"node\">\n<title>11</title>\n<ellipse fill=\"lightpink\" stroke=\"black\" cx=\"289.08\" cy=\"-18\" rx=\"57.39\" ry=\"18\"/>\n<text text-anchor=\"middle\" x=\"289.08\" y=\"-14.3\" font-family=\"Times,serif\" font-size=\"14.00\">11 (index=1)</text>\n</g>\n<!-- 7&#45;&gt;11 -->\n<g id=\"edge1\" class=\"edge\">\n<title>7&#45;&gt;11</title>\n<path fill=\"none\" stroke=\"black\" d=\"M192.54,-11.58C203.16,-11.27 214.56,-11.18 225.65,-11.3\"/>\n<polygon fill=\"black\" stroke=\"black\" points=\"225.65,-14.8 235.71,-11.48 225.78,-7.8 225.65,-14.8\"/>\n</g>\n<!-- 11&#45;&gt;7 -->\n<g id=\"edge2\" class=\"edge\">\n<title>11&#45;&gt;7</title>\n<path fill=\"none\" stroke=\"black\" d=\"M235.71,-24.52C225.02,-24.78 213.71,-24.82 202.82,-24.65\"/>\n<polygon fill=\"black\" stroke=\"black\" points=\"202.61,-21.14 192.54,-24.42 202.46,-28.14 202.61,-21.14\"/>\n</g>\n<!-- End -->\n<g id=\"node4\" class=\"node\">\n<title>End</title>\n<ellipse fill=\"none\" stroke=\"black\" cx=\"409.28\" cy=\"-18\" rx=\"27\" ry=\"18\"/>\n<text text-anchor=\"middle\" x=\"409.28\" y=\"-14.3\" font-family=\"Times,serif\" font-size=\"14.00\">End</text>\n</g>\n<!-- 11&#45;&gt;End -->\n<g id=\"edge4\" class=\"edge\">\n<title>11&#45;&gt;End</title>\n<path fill=\"none\" stroke=\"black\" d=\"M346.41,-18C355.09,-18 363.85,-18 371.94,-18\"/>\n<polygon fill=\"black\" stroke=\"black\" points=\"372.13,-21.5 382.13,-18 372.13,-14.5 372.13,-21.5\"/>\n</g>\n<!-- Start -->\n<g id=\"node3\" class=\"node\">\n<title>Start</title>\n<ellipse fill=\"none\" stroke=\"black\" cx=\"27.3\" cy=\"-18\" rx=\"27.1\" ry=\"18\"/>\n<text text-anchor=\"middle\" x=\"27.3\" y=\"-14.3\" font-family=\"Times,serif\" font-size=\"14.00\">Start</text>\n</g>\n<!-- Start&#45;&gt;7 -->\n<g id=\"edge3\" class=\"edge\">\n<title>Start&#45;&gt;7</title>\n<path fill=\"none\" stroke=\"black\" d=\"M64.96,-18C73.07,-18 81.81,-18 90.4,-18\"/>\n<polygon fill=\"black\" stroke=\"black\" points=\"64.72,-14.5 54.72,-18 64.72,-21.5 64.72,-14.5\"/>\n</g>\n</g>\n</svg>\n",
            "text/plain": [
              "<graphviz.graphs.Digraph at 0x7e78aa6f9f60>"
            ]
          },
          "metadata": {}
        },
        {
          "output_type": "stream",
          "name": "stdout",
          "text": [
            "\n",
            "\n",
            "returned node = 11\n",
            "\n",
            "\n",
            "-----------\n",
            "List updated\n",
            "-----------\n",
            "\n",
            "\n"
          ]
        },
        {
          "output_type": "display_data",
          "data": {
            "image/svg+xml": "<?xml version=\"1.0\" encoding=\"UTF-8\" standalone=\"no\"?>\n<!DOCTYPE svg PUBLIC \"-//W3C//DTD SVG 1.1//EN\"\n \"http://www.w3.org/Graphics/SVG/1.1/DTD/svg11.dtd\">\n<!-- Generated by graphviz version 2.43.0 (0)\n -->\n<!-- Title: %3 Pages: 1 -->\n<svg width=\"294pt\" height=\"44pt\"\n viewBox=\"0.00 0.00 293.89 44.00\" xmlns=\"http://www.w3.org/2000/svg\" xmlns:xlink=\"http://www.w3.org/1999/xlink\">\n<g id=\"graph0\" class=\"graph\" transform=\"scale(1 1) rotate(0) translate(4 40)\">\n<title>%3</title>\n<polygon fill=\"white\" stroke=\"transparent\" points=\"-4,4 -4,-40 289.89,-40 289.89,4 -4,4\"/>\n<!-- 7 -->\n<g id=\"node1\" class=\"node\">\n<title>7</title>\n<ellipse fill=\"cyan\" stroke=\"black\" cx=\"143.24\" cy=\"-18\" rx=\"52.79\" ry=\"18\"/>\n<text text-anchor=\"middle\" x=\"143.24\" y=\"-14.3\" font-family=\"Times,serif\" font-size=\"14.00\">7 (index=0)</text>\n</g>\n<!-- End -->\n<g id=\"node3\" class=\"node\">\n<title>End</title>\n<ellipse fill=\"none\" stroke=\"black\" cx=\"258.89\" cy=\"-18\" rx=\"27\" ry=\"18\"/>\n<text text-anchor=\"middle\" x=\"258.89\" y=\"-14.3\" font-family=\"Times,serif\" font-size=\"14.00\">End</text>\n</g>\n<!-- 7&#45;&gt;End -->\n<g id=\"edge2\" class=\"edge\">\n<title>7&#45;&gt;End</title>\n<path fill=\"none\" stroke=\"black\" d=\"M196.07,-18C204.7,-18 213.49,-18 221.62,-18\"/>\n<polygon fill=\"black\" stroke=\"black\" points=\"221.87,-21.5 231.87,-18 221.87,-14.5 221.87,-21.5\"/>\n</g>\n<!-- Start -->\n<g id=\"node2\" class=\"node\">\n<title>Start</title>\n<ellipse fill=\"none\" stroke=\"black\" cx=\"27.3\" cy=\"-18\" rx=\"27.1\" ry=\"18\"/>\n<text text-anchor=\"middle\" x=\"27.3\" y=\"-14.3\" font-family=\"Times,serif\" font-size=\"14.00\">Start</text>\n</g>\n<!-- Start&#45;&gt;7 -->\n<g id=\"edge1\" class=\"edge\">\n<title>Start&#45;&gt;7</title>\n<path fill=\"none\" stroke=\"black\" d=\"M64.96,-18C73.07,-18 81.81,-18 90.4,-18\"/>\n<polygon fill=\"black\" stroke=\"black\" points=\"64.72,-14.5 54.72,-18 64.72,-21.5 64.72,-14.5\"/>\n</g>\n</g>\n</svg>\n",
            "text/plain": [
              "<graphviz.graphs.Digraph at 0x7e78aa6f9270>"
            ]
          },
          "metadata": {}
        },
        {
          "output_type": "stream",
          "name": "stdout",
          "text": [
            "\n",
            "\n",
            "returned node = 7\n",
            "\n",
            "\n",
            "-----------\n",
            "List updated\n",
            "-----------\n",
            "\n",
            "\n"
          ]
        },
        {
          "output_type": "display_data",
          "data": {
            "text/plain": [
              "'Nothing to display'"
            ],
            "application/vnd.google.colaboratory.intrinsic+json": {
              "type": "string"
            }
          },
          "metadata": {}
        }
      ]
    },
    {
      "cell_type": "code",
      "source": [],
      "metadata": {
        "id": "2Y9cypb4yKSx"
      },
      "execution_count": null,
      "outputs": []
    }
  ]
}