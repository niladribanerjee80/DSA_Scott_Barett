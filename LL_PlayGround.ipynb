{
  "nbformat": 4,
  "nbformat_minor": 0,
  "metadata": {
    "colab": {
      "provenance": [],
      "authorship_tag": "ABX9TyPatgARBaEGhxI649jf+FNn",
      "include_colab_link": true
    },
    "kernelspec": {
      "name": "python3",
      "display_name": "Python 3"
    },
    "language_info": {
      "name": "python"
    }
  },
  "cells": [
    {
      "cell_type": "markdown",
      "metadata": {
        "id": "view-in-github",
        "colab_type": "text"
      },
      "source": [
        "<a href=\"https://colab.research.google.com/github/niladribanerjee80/DSA_Scott_Barett/blob/main/LL_PlayGround.ipynb\" target=\"_parent\"><img src=\"https://colab.research.google.com/assets/colab-badge.svg\" alt=\"Open In Colab\"/></a>"
      ]
    },
    {
      "cell_type": "code",
      "source": [
        "import random\n",
        "\n",
        "class Node:\n",
        "    def __init__(self,value):\n",
        "        self.value = value\n",
        "        self.next = None\n",
        "\n",
        "class LinkedList:\n",
        "\n",
        "    def __init__(self,value):\n",
        "        new_node = Node(value)\n",
        "        self.head = new_node\n",
        "        self.tail = new_node\n",
        "        self.length = 1\n",
        "\n",
        "    def make_empty(self):\n",
        "        self.head = None\n",
        "        self.tail = None\n",
        "        self.length = 0\n",
        "\n",
        "    def print_list(self,msg):\n",
        "        print('------------')\n",
        "        print(msg)\n",
        "        print('------------')\n",
        "        temp = self.head\n",
        "\n",
        "        while temp is not None:\n",
        "            print(temp.value)\n",
        "            temp = temp.next\n",
        "        print('\\n')\n",
        "        print(\"Length of the list now = \",self.length)\n",
        "\n",
        "    def append(self, value):\n",
        "        new_node = Node(value)\n",
        "\n",
        "        # if no elements are present\n",
        "        if self.head is None:\n",
        "            self.head = new_node\n",
        "            self.tail = new_node\n",
        "        else:\n",
        "            # point the current last node next -> new_node\n",
        "            self.tail.next = new_node\n",
        "\n",
        "            # update the tail to the new_node\n",
        "            self.tail = new_node\n",
        "\n",
        "        self.length += 1\n",
        "        return True\n",
        "\n",
        "    def prepend(self,value):\n",
        "        new_node = Node(value)\n",
        "\n",
        "        if self.length == 0:\n",
        "            self.head = new_node\n",
        "            self.tail = new_node\n",
        "        else:\n",
        "            new_node.next = self.head\n",
        "            self.head = new_node\n",
        "\n",
        "        self.length += 1\n",
        "        return True\n",
        "\n",
        "    def pop(self):\n",
        "        if self.length == 0:\n",
        "            return None\n",
        "\n",
        "        if self.length == 1:\n",
        "            temp = self.head\n",
        "            self.head = None\n",
        "            self.tail = None\n",
        "        else:\n",
        "            pre = self.head\n",
        "            temp = self.head\n",
        "\n",
        "            while(temp.next):\n",
        "                pre = temp\n",
        "                temp = temp.next\n",
        "\n",
        "            self.tail = pre # the tail is shifted\n",
        "            self.tail.next = None\n",
        "\n",
        "        self.length -= 1\n",
        "        return temp\n",
        "\n",
        "    def pop_first(self):\n",
        "        if self.length == 0:\n",
        "            return None\n",
        "\n",
        "        popped_node = self.head\n",
        "\n",
        "        if self.length == 1:\n",
        "            self.head = None\n",
        "            self.tail = None\n",
        "        else:\n",
        "            self.head = popped_node.next\n",
        "\n",
        "        popped_node.next = None\n",
        "        self.length -= 1\n",
        "        return popped_node"
      ],
      "metadata": {
        "id": "5MsHpQK8mQ8I"
      },
      "execution_count": 17,
      "outputs": []
    },
    {
      "cell_type": "code",
      "source": [
        "my_linked_list = LinkedList(11)\n",
        "my_linked_list.print_list(\"List created\")\n",
        "\n",
        "# let me build the list\n",
        "my_linked_list.append(7)\n",
        "my_linked_list.append(23)\n",
        "my_linked_list.append(3)\n",
        "my_linked_list.print_list(\"List updated\")"
      ],
      "metadata": {
        "colab": {
          "base_uri": "https://localhost:8080/"
        },
        "id": "iRQvQOE3nZCM",
        "outputId": "45dd0b14-28e1-4429-adc9-c0e1d76bcd97"
      },
      "execution_count": null,
      "outputs": [
        {
          "output_type": "stream",
          "name": "stdout",
          "text": [
            "------------\n",
            "List created\n",
            "------------\n",
            "11\n",
            "\n",
            "\n",
            "Length of the list now =  1\n",
            "------------\n",
            "List updated\n",
            "------------\n",
            "11\n",
            "7\n",
            "23\n",
            "3\n",
            "\n",
            "\n",
            "Length of the list now =  4\n"
          ]
        }
      ]
    },
    {
      "cell_type": "code",
      "source": [
        "# my_linked_list = LinkedList(11)\n",
        "# my_linked_list.append(3)\n",
        "# my_linked_list.append(7)\n",
        "# my_linked_list.print_list(\"List created\")\n",
        "# my_linked_list.prepend(99)\n",
        "# my_linked_list.print_list(\"List updated\")\n",
        "\n",
        "\n",
        "my_linked_list = LinkedList(11)\n",
        "my_linked_list.make_empty()\n",
        "my_linked_list.print_list(\"List is now empty\")\n",
        "my_linked_list.prepend(99)\n",
        "my_linked_list.print_list(\"prepend\")"
      ],
      "metadata": {
        "id": "96SEbeXFFI2m",
        "colab": {
          "base_uri": "https://localhost:8080/"
        },
        "outputId": "47cf991c-6f29-498c-a760-ac01392fa0ea"
      },
      "execution_count": null,
      "outputs": [
        {
          "output_type": "stream",
          "name": "stdout",
          "text": [
            "------------\n",
            "List is now empty\n",
            "------------\n",
            "\n",
            "\n",
            "Length of the list now =  0\n",
            "------------\n",
            "prepend\n",
            "------------\n",
            "99\n",
            "\n",
            "\n",
            "Length of the list now =  1\n"
          ]
        }
      ]
    },
    {
      "cell_type": "code",
      "source": [
        "def create_linked_list(n):\n",
        "    array = []\n",
        "    low = 1\n",
        "    high = 100\n",
        "\n",
        "    for _ in range(n):\n",
        "        array.append(random.randint(low,high))\n",
        "\n",
        "    for index,num in enumerate(array):\n",
        "        if index == 0:\n",
        "            my_linked_list = LinkedList(num)\n",
        "        else:\n",
        "            my_linked_list.append(num)\n",
        "\n",
        "    return my_linked_list"
      ],
      "metadata": {
        "id": "aFr-hpprvsNk"
      },
      "execution_count": 30,
      "outputs": []
    },
    {
      "cell_type": "code",
      "source": [
        "my_linked_list = create_linked_list(5)\n",
        "my_linked_list.print_list(\"List Created\")\n",
        "# my_linked_list.make_empty()"
      ],
      "metadata": {
        "colab": {
          "base_uri": "https://localhost:8080/"
        },
        "id": "TK6QDf8SpvFm",
        "outputId": "0949f43b-9207-4670-ddbe-f961319056cd"
      },
      "execution_count": 31,
      "outputs": [
        {
          "output_type": "stream",
          "name": "stdout",
          "text": [
            "------------\n",
            "List Created\n",
            "------------\n",
            "21\n",
            "58\n",
            "37\n",
            "2\n",
            "87\n",
            "\n",
            "\n",
            "Length of the list now =  5\n"
          ]
        }
      ]
    },
    {
      "cell_type": "code",
      "source": [
        "pop = my_linked_list.pop_first()\n",
        "\n",
        "if pop is not None:\n",
        "    print(pop.value)\n",
        "\n",
        "my_linked_list.print_list(\"List updated\")"
      ],
      "metadata": {
        "colab": {
          "base_uri": "https://localhost:8080/"
        },
        "id": "fLAded23qCPx",
        "outputId": "4e9bc1f1-2feb-486b-b246-2fe3c1620c89"
      },
      "execution_count": 32,
      "outputs": [
        {
          "output_type": "stream",
          "name": "stdout",
          "text": [
            "21\n",
            "------------\n",
            "List updated\n",
            "------------\n",
            "58\n",
            "37\n",
            "2\n",
            "87\n",
            "\n",
            "\n",
            "Length of the list now =  4\n"
          ]
        }
      ]
    },
    {
      "cell_type": "code",
      "source": [],
      "metadata": {
        "id": "XiU3ba12qR4F"
      },
      "execution_count": null,
      "outputs": []
    }
  ]
}