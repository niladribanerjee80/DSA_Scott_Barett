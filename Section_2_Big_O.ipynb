{
  "nbformat": 4,
  "nbformat_minor": 0,
  "metadata": {
    "colab": {
      "provenance": [],
      "authorship_tag": "ABX9TyO+3xydad7jF/wA+EMv2L7l",
      "include_colab_link": true
    },
    "kernelspec": {
      "name": "python3",
      "display_name": "Python 3"
    },
    "language_info": {
      "name": "python"
    }
  },
  "cells": [
    {
      "cell_type": "markdown",
      "metadata": {
        "id": "view-in-github",
        "colab_type": "text"
      },
      "source": [
        "<a href=\"https://colab.research.google.com/github/niladribanerjee80/DSA_Scott_Barett/blob/main/Section_2_Big_O.ipynb\" target=\"_parent\"><img src=\"https://colab.research.google.com/assets/colab-badge.svg\" alt=\"Open In Colab\"/></a>"
      ]
    },
    {
      "cell_type": "markdown",
      "source": [
        "# **Big O**\n",
        "* **What is Big O?**"
      ],
      "metadata": {
        "id": "PQNmAn3UIExl"
      }
    },
    {
      "cell_type": "code",
      "execution_count": null,
      "metadata": {
        "colab": {
          "base_uri": "https://localhost:8080/"
        },
        "id": "H-voICfXHqHi",
        "outputId": "6d723783-afbd-4976-96b0-d68463dfd807"
      },
      "outputs": [
        {
          "output_type": "stream",
          "name": "stdout",
          "text": [
            "0\n",
            "1\n",
            "2\n",
            "3\n",
            "4\n",
            "5\n",
            "6\n",
            "7\n",
            "8\n",
            "9\n"
          ]
        }
      ],
      "source": [
        "# -----------------------------------------\n",
        "# Notes = what is Big O\n",
        "# no of operations => worst case\n",
        "# O(n) = 10\n",
        "# -----------------------------------------\n",
        "\n",
        "def print_items(n):\n",
        "    for i in range(n):\n",
        "        print(i)\n",
        "\n",
        "\n",
        "# DO NOT CHANGE THIS LINE:\n",
        "print_items(10)"
      ]
    },
    {
      "cell_type": "markdown",
      "source": [
        "## **Drop constants**\n",
        "* O(K*n) => O(n) where k belongs to Natural number"
      ],
      "metadata": {
        "id": "c2k-QEeUmFq5"
      }
    },
    {
      "cell_type": "code",
      "source": [
        "# -----------------------------------------\n",
        "# Drop Constants\n",
        "# Big O => O(n+n) = O(2n) => but we write O(n)\n",
        "# O(n) = 20\n",
        "# even if it is O(10^6*n) => we would write O(n)\n",
        "# -----------------------------------------\n",
        "\n",
        "def print_items(n):\n",
        "\n",
        "    # n times\n",
        "    for i in range(n):\n",
        "        print(i)\n",
        "\n",
        "    # n times\n",
        "    for j in range(n):\n",
        "        print(j)\n",
        "\n",
        "\n",
        "# DO NOT CHANGE THIS LINE:\n",
        "print_items(10)"
      ],
      "metadata": {
        "id": "5QXrBFMGH6Hj",
        "colab": {
          "base_uri": "https://localhost:8080/"
        },
        "outputId": "72862c63-8871-45b2-d418-13cb8ede002e"
      },
      "execution_count": 2,
      "outputs": [
        {
          "output_type": "stream",
          "name": "stdout",
          "text": [
            "0\n",
            "1\n",
            "2\n",
            "3\n",
            "4\n",
            "5\n",
            "6\n",
            "7\n",
            "8\n",
            "9\n",
            "0\n",
            "1\n",
            "2\n",
            "3\n",
            "4\n",
            "5\n",
            "6\n",
            "7\n",
            "8\n",
            "9\n"
          ]
        }
      ]
    },
    {
      "cell_type": "markdown",
      "source": [
        "## **Big O : O(n^2)**"
      ],
      "metadata": {
        "id": "t7L79nIcmBCM"
      }
    },
    {
      "cell_type": "code",
      "source": [
        "# -----------------------------------------\n",
        "# O(n^2)\n",
        "# O(n) = 10; O(n^2) = 100\n",
        "# -----------------------------------------\n",
        "def print_items(n):\n",
        "    # n times\n",
        "    for i in range(n):\n",
        "        # n times\n",
        "        for j in range(n):\n",
        "            print(i,j)\n",
        "\n",
        "# DO NOT CHANGE THIS LINE:\n",
        "print_items(10)"
      ],
      "metadata": {
        "id": "bmXVesOrIMLt",
        "colab": {
          "base_uri": "https://localhost:8080/"
        },
        "outputId": "1caf38b0-eb7f-440f-960e-fd44f672f3d8"
      },
      "execution_count": 3,
      "outputs": [
        {
          "output_type": "stream",
          "name": "stdout",
          "text": [
            "0 0\n",
            "0 1\n",
            "0 2\n",
            "0 3\n",
            "0 4\n",
            "0 5\n",
            "0 6\n",
            "0 7\n",
            "0 8\n",
            "0 9\n",
            "1 0\n",
            "1 1\n",
            "1 2\n",
            "1 3\n",
            "1 4\n",
            "1 5\n",
            "1 6\n",
            "1 7\n",
            "1 8\n",
            "1 9\n",
            "2 0\n",
            "2 1\n",
            "2 2\n",
            "2 3\n",
            "2 4\n",
            "2 5\n",
            "2 6\n",
            "2 7\n",
            "2 8\n",
            "2 9\n",
            "3 0\n",
            "3 1\n",
            "3 2\n",
            "3 3\n",
            "3 4\n",
            "3 5\n",
            "3 6\n",
            "3 7\n",
            "3 8\n",
            "3 9\n",
            "4 0\n",
            "4 1\n",
            "4 2\n",
            "4 3\n",
            "4 4\n",
            "4 5\n",
            "4 6\n",
            "4 7\n",
            "4 8\n",
            "4 9\n",
            "5 0\n",
            "5 1\n",
            "5 2\n",
            "5 3\n",
            "5 4\n",
            "5 5\n",
            "5 6\n",
            "5 7\n",
            "5 8\n",
            "5 9\n",
            "6 0\n",
            "6 1\n",
            "6 2\n",
            "6 3\n",
            "6 4\n",
            "6 5\n",
            "6 6\n",
            "6 7\n",
            "6 8\n",
            "6 9\n",
            "7 0\n",
            "7 1\n",
            "7 2\n",
            "7 3\n",
            "7 4\n",
            "7 5\n",
            "7 6\n",
            "7 7\n",
            "7 8\n",
            "7 9\n",
            "8 0\n",
            "8 1\n",
            "8 2\n",
            "8 3\n",
            "8 4\n",
            "8 5\n",
            "8 6\n",
            "8 7\n",
            "8 8\n",
            "8 9\n",
            "9 0\n",
            "9 1\n",
            "9 2\n",
            "9 3\n",
            "9 4\n",
            "9 5\n",
            "9 6\n",
            "9 7\n",
            "9 8\n",
            "9 9\n"
          ]
        }
      ]
    },
    {
      "cell_type": "markdown",
      "source": [
        "* **Note - O(n^2) >> O(n) from time complexity point**"
      ],
      "metadata": {
        "id": "myDNKnxsl7W6"
      }
    },
    {
      "cell_type": "markdown",
      "source": [
        "## **Big O - Drop Non-dominants**"
      ],
      "metadata": {
        "id": "H40i9rWsmr_S"
      }
    },
    {
      "cell_type": "code",
      "source": [
        "# Note : Here we have O(n^2+n) situation,\n",
        "# but since n is insignificant w.r.t n^2, we drop n, and hence O(n^2+n) => O(n^2)\n",
        "\n",
        "def print_items(n):\n",
        "    # n times\n",
        "    for i in range(n):\n",
        "        # n times\n",
        "        for j in range(n):\n",
        "            print(i,j)\n",
        "\n",
        "    for k in range(n):\n",
        "        print(k)\n",
        "\n",
        "# DO NOT CHANGE THIS LINE:\n",
        "print_items(10)"
      ],
      "metadata": {
        "id": "EN3fYZqQIMPp",
        "colab": {
          "base_uri": "https://localhost:8080/"
        },
        "outputId": "506456e0-398a-49be-e54f-f081b75cb69f"
      },
      "execution_count": 4,
      "outputs": [
        {
          "output_type": "stream",
          "name": "stdout",
          "text": [
            "0 0\n",
            "0 1\n",
            "0 2\n",
            "0 3\n",
            "0 4\n",
            "0 5\n",
            "0 6\n",
            "0 7\n",
            "0 8\n",
            "0 9\n",
            "1 0\n",
            "1 1\n",
            "1 2\n",
            "1 3\n",
            "1 4\n",
            "1 5\n",
            "1 6\n",
            "1 7\n",
            "1 8\n",
            "1 9\n",
            "2 0\n",
            "2 1\n",
            "2 2\n",
            "2 3\n",
            "2 4\n",
            "2 5\n",
            "2 6\n",
            "2 7\n",
            "2 8\n",
            "2 9\n",
            "3 0\n",
            "3 1\n",
            "3 2\n",
            "3 3\n",
            "3 4\n",
            "3 5\n",
            "3 6\n",
            "3 7\n",
            "3 8\n",
            "3 9\n",
            "4 0\n",
            "4 1\n",
            "4 2\n",
            "4 3\n",
            "4 4\n",
            "4 5\n",
            "4 6\n",
            "4 7\n",
            "4 8\n",
            "4 9\n",
            "5 0\n",
            "5 1\n",
            "5 2\n",
            "5 3\n",
            "5 4\n",
            "5 5\n",
            "5 6\n",
            "5 7\n",
            "5 8\n",
            "5 9\n",
            "6 0\n",
            "6 1\n",
            "6 2\n",
            "6 3\n",
            "6 4\n",
            "6 5\n",
            "6 6\n",
            "6 7\n",
            "6 8\n",
            "6 9\n",
            "7 0\n",
            "7 1\n",
            "7 2\n",
            "7 3\n",
            "7 4\n",
            "7 5\n",
            "7 6\n",
            "7 7\n",
            "7 8\n",
            "7 9\n",
            "8 0\n",
            "8 1\n",
            "8 2\n",
            "8 3\n",
            "8 4\n",
            "8 5\n",
            "8 6\n",
            "8 7\n",
            "8 8\n",
            "8 9\n",
            "9 0\n",
            "9 1\n",
            "9 2\n",
            "9 3\n",
            "9 4\n",
            "9 5\n",
            "9 6\n",
            "9 7\n",
            "9 8\n",
            "9 9\n",
            "0\n",
            "1\n",
            "2\n",
            "3\n",
            "4\n",
            "5\n",
            "6\n",
            "7\n",
            "8\n",
            "9\n"
          ]
        }
      ]
    },
    {
      "cell_type": "markdown",
      "source": [
        "## **Big O - O(1) = constant**"
      ],
      "metadata": {
        "id": "QcdoebAYnRd1"
      }
    },
    {
      "cell_type": "code",
      "source": [
        "# Here if we had returned [n+n] or [n+n+ .. n times], it is still 1 operation\n",
        "# therefore, O(1) = 1 no matter how many times we increase the n in the same step.\n",
        "# so, 1 operation is really the step\n",
        "\n",
        "def add_items(n):\n",
        "    return n + n + n + n + n\n",
        "\n",
        "add_items(10)"
      ],
      "metadata": {
        "id": "On673738IMTP",
        "colab": {
          "base_uri": "https://localhost:8080/"
        },
        "outputId": "55bc43cf-283c-4fff-fb49-1b470a4a3fdc"
      },
      "execution_count": 5,
      "outputs": [
        {
          "output_type": "execute_result",
          "data": {
            "text/plain": [
              "50"
            ]
          },
          "metadata": {},
          "execution_count": 5
        }
      ]
    },
    {
      "cell_type": "code",
      "source": [],
      "metadata": {
        "id": "An3NDI_mIMW7"
      },
      "execution_count": null,
      "outputs": []
    },
    {
      "cell_type": "code",
      "source": [],
      "metadata": {
        "id": "OCVYMNBnIMaz"
      },
      "execution_count": null,
      "outputs": []
    },
    {
      "cell_type": "code",
      "source": [],
      "metadata": {
        "id": "Dx6d3NSjIMeS"
      },
      "execution_count": null,
      "outputs": []
    },
    {
      "cell_type": "code",
      "source": [],
      "metadata": {
        "id": "vmVskM_MIMiX"
      },
      "execution_count": null,
      "outputs": []
    }
  ]
}