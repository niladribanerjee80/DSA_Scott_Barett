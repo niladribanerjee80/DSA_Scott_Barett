{
  "nbformat": 4,
  "nbformat_minor": 0,
  "metadata": {
    "colab": {
      "provenance": [],
      "authorship_tag": "ABX9TyOMegdEzOL2e2OgmUUnMOIp",
      "include_colab_link": true
    },
    "kernelspec": {
      "name": "python3",
      "display_name": "Python 3"
    },
    "language_info": {
      "name": "python"
    }
  },
  "cells": [
    {
      "cell_type": "markdown",
      "metadata": {
        "id": "view-in-github",
        "colab_type": "text"
      },
      "source": [
        "<a href=\"https://colab.research.google.com/github/niladribanerjee80/DSA_Scott_Barett/blob/main/Section_3_Classes_and_Pointers.ipynb\" target=\"_parent\"><img src=\"https://colab.research.google.com/assets/colab-badge.svg\" alt=\"Open In Colab\"/></a>"
      ]
    },
    {
      "cell_type": "markdown",
      "source": [
        "# Classes"
      ],
      "metadata": {
        "id": "23N0B1GtP9hY"
      }
    },
    {
      "cell_type": "code",
      "execution_count": 1,
      "metadata": {
        "id": "ZDqCTsHxMNhx"
      },
      "outputs": [],
      "source": [
        "class Cookie:\n",
        "\n",
        "    def __init__(self,color):\n",
        "        self.color = color\n",
        "\n",
        "    def get_color(self):\n",
        "        return self.color\n",
        "\n",
        "    def set_color(self,color):\n",
        "        self.color = color"
      ]
    },
    {
      "cell_type": "code",
      "source": [
        "cookie_one = Cookie('green')\n",
        "cookie_two = Cookie('blue')\n",
        "\n",
        "print(\"Cookie one is : \",cookie_one.get_color())\n",
        "print(\"Cookie two is : \",cookie_two.get_color())\n",
        "\n",
        "cookie_one.set_color(\"yellow\")\n",
        "\n",
        "print(\"Cookie one is now : \",cookie_one.get_color())\n",
        "print(\"Cookie two is now : \",cookie_two.get_color())"
      ],
      "metadata": {
        "colab": {
          "base_uri": "https://localhost:8080/"
        },
        "id": "ciGp8IoEM5nX",
        "outputId": "1bc7a36f-5ba1-42e0-ea27-5a4a4663b140"
      },
      "execution_count": 3,
      "outputs": [
        {
          "output_type": "stream",
          "name": "stdout",
          "text": [
            "Cookie one is :  green\n",
            "Cookie two is :  blue\n",
            "Cookie one is now :  yellow\n",
            "Cookie two is now :  blue\n"
          ]
        }
      ]
    },
    {
      "cell_type": "code",
      "source": [
        "# so what are we going to do with classes\n",
        "# Remember\n",
        "    # Linked List = each element (data + addr to next node)\n",
        "\n",
        "class LinkedList:\n",
        "\n",
        "    def __init__(self,value):\n",
        "        pass\n",
        "\n",
        "    def append(self,value):\n",
        "        pass\n",
        "\n",
        "    def pop(self):\n",
        "        pass\n",
        "\n",
        "    def prepend(self,value):\n",
        "        pass\n",
        "\n",
        "    def insert(self,index,value):\n",
        "        pass\n",
        "\n",
        "    def remove(self,index):\n",
        "        pass"
      ],
      "metadata": {
        "id": "cAgmiKLeNNvQ"
      },
      "execution_count": 4,
      "outputs": []
    },
    {
      "cell_type": "markdown",
      "source": [
        "# Pointers"
      ],
      "metadata": {
        "id": "2G9yOixLP7ME"
      }
    },
    {
      "cell_type": "code",
      "source": [
        "num1 = 11\n",
        "num2 = num1\n",
        "\n",
        "print(\"num1 = \",num1)\n",
        "print(\"num2 = \",num2)\n",
        "print('\\n')\n",
        "print(\"address of (num1) = \",id(num1))\n",
        "print(\"address of (num2) = \",id(num2))"
      ],
      "metadata": {
        "colab": {
          "base_uri": "https://localhost:8080/"
        },
        "id": "zaGnkTyVOLqW",
        "outputId": "9ae98fa3-768e-452e-9010-c6546bdd6929"
      },
      "execution_count": 8,
      "outputs": [
        {
          "output_type": "stream",
          "name": "stdout",
          "text": [
            "num1 =  11\n",
            "num2 =  11\n",
            "\n",
            "\n",
            "address of (num1) =  139575227400752\n",
            "address of (num2) =  139575227400752\n"
          ]
        }
      ]
    },
    {
      "cell_type": "code",
      "source": [
        "num1 = 11\n",
        "num2 = num1\n",
        "\n",
        "print(\"num1 = \",num1)\n",
        "print(\"num2 = \",num2)\n",
        "print('\\n')\n",
        "print(\"address of (num1) = \",id(num1))\n",
        "print(\"address of (num2) = \",id(num2))\n",
        "\n",
        "num2 = 22\n",
        "print('\\n')\n",
        "print(\"--- After num2 = 22 --- \")\n",
        "print('\\n')\n",
        "print(\"num1 = \",num1)\n",
        "print(\"num2 = \",num2)\n",
        "print('\\n')\n",
        "print(\"address of (num1) = \",id(num1))\n",
        "print(\"address of (num2) = \",id(num2))"
      ],
      "metadata": {
        "colab": {
          "base_uri": "https://localhost:8080/"
        },
        "id": "V1X3iDJyOO1c",
        "outputId": "d0d14c87-2def-4156-df78-14d6f1a47b10"
      },
      "execution_count": 10,
      "outputs": [
        {
          "output_type": "stream",
          "name": "stdout",
          "text": [
            "num1 =  11\n",
            "num2 =  11\n",
            "\n",
            "\n",
            "address of (num1) =  139575227400752\n",
            "address of (num2) =  139575227400752\n",
            "\n",
            "\n",
            "--- After num2 = 22 --- \n",
            "\n",
            "\n",
            "num1 =  11\n",
            "num2 =  22\n",
            "\n",
            "\n",
            "address of (num1) =  139575227400752\n",
            "address of (num2) =  139575227401104\n"
          ]
        }
      ]
    },
    {
      "cell_type": "markdown",
      "source": [
        "* Integers are immutable\n",
        "* once you create an integer num1 = 11, it cannot be altered\n",
        "* num2 = num1 means the location is getting another label\n",
        "* num2 = 22 => a new value and location got added"
      ],
      "metadata": {
        "id": "ext18W8BQtwY"
      }
    },
    {
      "cell_type": "code",
      "source": [
        "# use case of dict\n",
        "\n",
        "dict1 ={\n",
        "    \"value\" : 11\n",
        "}\n",
        "\n",
        "dict2 = dict1\n",
        "\n",
        "print(\"Before the value is updated\")\n",
        "print(\"\\n\")\n",
        "print(\"dict1 = \",dict1)\n",
        "print(\"dict2 = \",dict2)\n",
        "\n",
        "print(\"\\n\")\n",
        "\n",
        "print(\"address of dict1 = \",id(dict1))\n",
        "print(\"address of dict2 = \",id(dict2))\n",
        "print('\\n')\n",
        "\n",
        "dict2['value'] = 22\n",
        "print(\"After the value is updated\")\n",
        "print(\"\\n\")\n",
        "print(\"dict1 = \",dict1)\n",
        "print(\"dict2 = \",dict2)\n",
        "\n",
        "print(\"\\n\")\n",
        "\n",
        "print(\"address of dict1 = \",id(dict1))\n",
        "print(\"address of dict2 = \",id(dict2))\n",
        "print('\\n')"
      ],
      "metadata": {
        "colab": {
          "base_uri": "https://localhost:8080/"
        },
        "id": "H0OPn0-KOO6c",
        "outputId": "a6f09cb8-97ec-452c-c6ac-38987b05b318"
      },
      "execution_count": 12,
      "outputs": [
        {
          "output_type": "stream",
          "name": "stdout",
          "text": [
            "Before the value is updated\n",
            "\n",
            "\n",
            "dict1 =  {'value': 11}\n",
            "dict2 =  {'value': 11}\n",
            "\n",
            "\n",
            "address of dict1 =  139574310237440\n",
            "address of dict2 =  139574310237440\n",
            "\n",
            "\n",
            "After the value is updated\n",
            "\n",
            "\n",
            "dict1 =  {'value': 22}\n",
            "dict2 =  {'value': 22}\n",
            "\n",
            "\n",
            "address of dict1 =  139574310237440\n",
            "address of dict2 =  139574310237440\n",
            "\n",
            "\n"
          ]
        }
      ]
    }
  ]
}