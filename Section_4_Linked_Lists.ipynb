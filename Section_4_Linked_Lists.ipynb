{
  "nbformat": 4,
  "nbformat_minor": 0,
  "metadata": {
    "colab": {
      "provenance": [],
      "authorship_tag": "ABX9TyOyHo2ozkQR1QBfTasft6Et",
      "include_colab_link": true
    },
    "kernelspec": {
      "name": "python3",
      "display_name": "Python 3"
    },
    "language_info": {
      "name": "python"
    }
  },
  "cells": [
    {
      "cell_type": "markdown",
      "metadata": {
        "id": "view-in-github",
        "colab_type": "text"
      },
      "source": [
        "<a href=\"https://colab.research.google.com/github/niladribanerjee80/DSA_Scott_Barett/blob/main/Section_4_Linked_Lists.ipynb\" target=\"_parent\"><img src=\"https://colab.research.google.com/assets/colab-badge.svg\" alt=\"Open In Colab\"/></a>"
      ]
    },
    {
      "cell_type": "code",
      "source": [
        "# Creating the Linked List\n",
        "node_7 = {\n",
        "    \"value\" : 7,\n",
        "    \"next\"  : None\n",
        "}\n",
        "\n",
        "node_23 = {\n",
        "    \"value\" : 23,\n",
        "    \"next\"  : node_7\n",
        "}\n",
        "\n",
        "node_3 = {\n",
        "    \"value\" : 3,\n",
        "    \"next\"  : node_23\n",
        "}\n",
        "\n",
        "node_11 = {\n",
        "    \"value\" : 11,\n",
        "    \"next\"  : node_3\n",
        "}"
      ],
      "metadata": {
        "id": "LoM7ZDzyOX0S"
      },
      "execution_count": null,
      "outputs": []
    },
    {
      "cell_type": "code",
      "source": [
        "# ---------------\n",
        "# head -> 11 -> 3 -> 23 -> 7 -> None\n",
        "# this is what was covered in class\n",
        "# ---------------\n",
        "\n",
        "head = {\n",
        "    \"value\": 11,\n",
        "    \"next\": {\n",
        "        \"value\" : 3,\n",
        "        \"next\"  : {\n",
        "            \"value\" : 23,\n",
        "            \"next\" : {\n",
        "                \"value\" : 7,\n",
        "                \"next\" : None\n",
        "            }\n",
        "\n",
        "        }\n",
        "    }\n",
        "}"
      ],
      "metadata": {
        "id": "ON_yYCaSP1Hy"
      },
      "execution_count": null,
      "outputs": []
    },
    {
      "cell_type": "code",
      "source": [
        "print(head[\"next\"][\"next\"][\"value\"])"
      ],
      "metadata": {
        "colab": {
          "base_uri": "https://localhost:8080/"
        },
        "id": "ZHuSReJuQmOW",
        "outputId": "c5adeca5-d18c-4002-920c-f661bcfb3a14"
      },
      "execution_count": null,
      "outputs": [
        {
          "output_type": "stream",
          "name": "stdout",
          "text": [
            "23\n"
          ]
        }
      ]
    },
    {
      "cell_type": "markdown",
      "source": [
        "#Linked List"
      ],
      "metadata": {
        "id": "nJhGphXUhOtz"
      }
    },
    {
      "cell_type": "code",
      "source": [
        "class Node:\n",
        "\n",
        "    def __init__(self,value):\n",
        "        self.value = value\n",
        "        self.next = None"
      ],
      "metadata": {
        "id": "2S4abPizTKsy"
      },
      "execution_count": 55,
      "outputs": []
    },
    {
      "cell_type": "code",
      "source": [
        "class LinkedList:\n",
        "\n",
        "    def __init__(self,value):\n",
        "        # create a new node\n",
        "        new_node = Node(value)\n",
        "\n",
        "        # assign values\n",
        "        self.head = new_node\n",
        "        self.tail = new_node\n",
        "        self.length = 1\n",
        "\n",
        "    # prints all values of linked list\n",
        "    def print_list(self,msg):\n",
        "        print('--------')\n",
        "        print(msg)\n",
        "        print('--------')\n",
        "        # get the 1st element\n",
        "        temp = self.head\n",
        "\n",
        "        # traverse the list\n",
        "        while temp is not None:\n",
        "            print(temp.value)\n",
        "            temp = temp.next\n",
        "\n",
        "    def append(self,value):\n",
        "        # create a new node with the new element\n",
        "        new_node = Node(value)\n",
        "\n",
        "        # check if the list is empty\n",
        "        if self.head is None:\n",
        "            self.head = new_node\n",
        "            self.tail = new_node\n",
        "        else:\n",
        "            # items already present in linked list\n",
        "            self.tail.next = new_node # set the last element point to new node created\n",
        "            self.tail = new_node # set the tail variable to new_node\n",
        "\n",
        "        # increment the counter\n",
        "        self.length += 1\n",
        "\n",
        "        return True\n",
        "\n",
        "    def prepend(self,value):\n",
        "        # create a new node with the new element\n",
        "        new_node = Node(value)\n",
        "\n",
        "        # add that node to the start\n",
        "        pass\n",
        "\n",
        "    def pop(self):\n",
        "        if self.tail is not None:\n",
        "            # get the 1st element\n",
        "            temp = self.head\n",
        "\n",
        "            # traverse the list\n",
        "            while temp is not None:\n",
        "                if temp != self.tail:\n",
        "                    last_but_one_node = temp\n",
        "                temp = temp.next\n",
        "\n",
        "            # last node reached\n",
        "            last_but_one_node.next = None\n",
        "            self.tail = last_but_one_node\n",
        "\n",
        "\n",
        "    def popFirst(self):\n",
        "        pass\n",
        "\n",
        "    def get(self):\n",
        "        pass\n",
        "\n",
        "    def set(self):\n",
        "        pass\n",
        "\n",
        "    def insert(self,index,value):\n",
        "        # create a new node with the new element\n",
        "        # add that node to the index position\n",
        "        pass\n",
        "\n",
        "    def remove(self,index,value):\n",
        "        pass\n",
        "\n",
        "    def reverse(self):\n",
        "        pass"
      ],
      "metadata": {
        "id": "TSfB8PwEhWAb"
      },
      "execution_count": 115,
      "outputs": []
    },
    {
      "cell_type": "markdown",
      "source": [
        "## Test Linked List creation"
      ],
      "metadata": {
        "id": "sXqW7uWs0OVc"
      }
    },
    {
      "cell_type": "code",
      "source": [
        "if my_linked_list is not None:\n",
        "    del my_linked_list\n",
        "\n",
        "# Test creating a new linked list\n",
        "my_linked_list = LinkedList(7)\n",
        "print(my_linked_list.head.value)"
      ],
      "metadata": {
        "colab": {
          "base_uri": "https://localhost:8080/"
        },
        "id": "cqKbRrKMiJLw",
        "outputId": "1ac540c1-739b-492a-95ec-189a15ff3858"
      },
      "execution_count": 105,
      "outputs": [
        {
          "output_type": "stream",
          "name": "stdout",
          "text": [
            "7\n"
          ]
        }
      ]
    },
    {
      "cell_type": "markdown",
      "source": [
        "## Test : Append"
      ],
      "metadata": {
        "id": "W_l8bSPA0g-b"
      }
    },
    {
      "cell_type": "code",
      "source": [
        "## Initial state = [head]-> 1 <-[tail]\n",
        "## after append 2 =  [head]-> 1 -> 2 <-[tail]\n",
        "\n",
        "if my_linked_list is not None:\n",
        "    del my_linked_list\n",
        "\n",
        "my_linked_list = LinkedList(1)\n",
        "my_linked_list.append(2)\n",
        "my_linked_list.append(3)\n",
        "my_linked_list.print_list(\"After append\")"
      ],
      "metadata": {
        "colab": {
          "base_uri": "https://localhost:8080/"
        },
        "id": "wjwo5aP8iNe7",
        "outputId": "af3f99ff-dfde-4e0c-868e-e8aa1f6aea1d"
      },
      "execution_count": 109,
      "outputs": [
        {
          "output_type": "stream",
          "name": "stdout",
          "text": [
            "--------\n",
            "After append\n",
            "--------\n",
            "1\n",
            "2\n",
            "3\n",
            "--------\n"
          ]
        }
      ]
    },
    {
      "cell_type": "markdown",
      "source": [
        "## Test : pop"
      ],
      "metadata": {
        "id": "b3Eeitve8Rcw"
      }
    },
    {
      "cell_type": "code",
      "source": [
        "# del my_linked_list\n",
        "if my_linked_list is not None:\n",
        "    del my_linked_list\n",
        "\n",
        "# first append\n",
        "my_linked_list = LinkedList(1)\n",
        "my_linked_list.append(2)\n",
        "my_linked_list.append(3)\n",
        "my_linked_list.print_list(\"First append\")\n",
        "\n",
        "# now pop\n",
        "my_linked_list.pop()\n",
        "my_linked_list.print_list(\"After pop\")"
      ],
      "metadata": {
        "colab": {
          "base_uri": "https://localhost:8080/"
        },
        "id": "a01j0S47xE92",
        "outputId": "ef7666c3-a1b4-4f23-dbdc-ddbfaaedb7d8"
      },
      "execution_count": 116,
      "outputs": [
        {
          "output_type": "stream",
          "name": "stdout",
          "text": [
            "--------\n",
            "First append\n",
            "--------\n",
            "1\n",
            "2\n",
            "3\n",
            "--------\n",
            "After pop\n",
            "--------\n",
            "1\n",
            "2\n"
          ]
        }
      ]
    },
    {
      "cell_type": "code",
      "source": [],
      "metadata": {
        "id": "QnADbAVCxFB6"
      },
      "execution_count": null,
      "outputs": []
    },
    {
      "cell_type": "code",
      "source": [],
      "metadata": {
        "id": "YFcocCKXxFF0"
      },
      "execution_count": null,
      "outputs": []
    },
    {
      "cell_type": "code",
      "source": [],
      "metadata": {
        "id": "AGkWgNZJxFJt"
      },
      "execution_count": null,
      "outputs": []
    },
    {
      "cell_type": "markdown",
      "source": [
        "## Section 5 - Coding Ex 3: LL: Constructor"
      ],
      "metadata": {
        "id": "7ZZlqDNxk8kU"
      }
    },
    {
      "cell_type": "code",
      "source": [
        "class Node:\n",
        "\n",
        "    def __init__(self,value):\n",
        "        self.value = value\n",
        "        self.next = None\n",
        "\n",
        "\n",
        "class LinkedList:\n",
        "\n",
        "    def __init__(self,value):\n",
        "        # creating the new node\n",
        "        new_node = Node(value)\n",
        "\n",
        "        # assign head\n",
        "        # note - the object self.head will have 2 attributes now - value and next\n",
        "        self.head = new_node\n",
        "\n",
        "        # assign tail\n",
        "        # note - the object self.tail will have 2 attributes now - value and next\n",
        "        self.tail = new_node\n",
        "\n",
        "        # track length\n",
        "        self.length = 1\n",
        "\n",
        "my_linked_list = LinkedList(4)\n",
        "\n",
        "print('Head:', my_linked_list.head.value)\n",
        "print('Tail:', my_linked_list.tail.value)\n",
        "print('Length:', my_linked_list.length)"
      ],
      "metadata": {
        "colab": {
          "base_uri": "https://localhost:8080/"
        },
        "id": "psaBHXMriRew",
        "outputId": "aa4b5fc0-4fd1-474d-c641-024db7b066a6"
      },
      "execution_count": 73,
      "outputs": [
        {
          "output_type": "stream",
          "name": "stdout",
          "text": [
            "Head: 4\n",
            "Tail: 4\n",
            "Length: 1\n"
          ]
        }
      ]
    },
    {
      "cell_type": "code",
      "source": [],
      "metadata": {
        "id": "Sl0Li1d5lBjF"
      },
      "execution_count": null,
      "outputs": []
    }
  ]
}