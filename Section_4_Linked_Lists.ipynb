{
  "nbformat": 4,
  "nbformat_minor": 0,
  "metadata": {
    "colab": {
      "provenance": [],
      "authorship_tag": "ABX9TyPiVgBblH6sACZdQR2P5Slb",
      "include_colab_link": true
    },
    "kernelspec": {
      "name": "python3",
      "display_name": "Python 3"
    },
    "language_info": {
      "name": "python"
    }
  },
  "cells": [
    {
      "cell_type": "markdown",
      "metadata": {
        "id": "view-in-github",
        "colab_type": "text"
      },
      "source": [
        "<a href=\"https://colab.research.google.com/github/niladribanerjee80/DSA_Scott_Barett/blob/main/Section_4_Linked_Lists.ipynb\" target=\"_parent\"><img src=\"https://colab.research.google.com/assets/colab-badge.svg\" alt=\"Open In Colab\"/></a>"
      ]
    },
    {
      "cell_type": "code",
      "source": [
        "# Creating the Linked List\n",
        "node_7 = {\n",
        "    \"value\" : 7,\n",
        "    \"next\"  : None\n",
        "}\n",
        "\n",
        "node_23 = {\n",
        "    \"value\" : 23,\n",
        "    \"next\"  : node_7\n",
        "}\n",
        "\n",
        "node_3 = {\n",
        "    \"value\" : 3,\n",
        "    \"next\"  : node_23\n",
        "}\n",
        "\n",
        "node_11 = {\n",
        "    \"value\" : 11,\n",
        "    \"next\"  : node_3\n",
        "}"
      ],
      "metadata": {
        "id": "LoM7ZDzyOX0S"
      },
      "execution_count": null,
      "outputs": []
    },
    {
      "cell_type": "code",
      "source": [
        "# ---------------\n",
        "# head -> 11 -> 3 -> 23 -> 7 -> None\n",
        "# this is what was covered in class\n",
        "# ---------------\n",
        "\n",
        "head = {\n",
        "    \"value\": 11,\n",
        "    \"next\": {\n",
        "        \"value\" : 3,\n",
        "        \"next\"  : {\n",
        "            \"value\" : 23,\n",
        "            \"next\" : {\n",
        "                \"value\" : 7,\n",
        "                \"next\" : None\n",
        "            }\n",
        "\n",
        "        }\n",
        "    }\n",
        "}"
      ],
      "metadata": {
        "id": "ON_yYCaSP1Hy"
      },
      "execution_count": null,
      "outputs": []
    },
    {
      "cell_type": "code",
      "source": [
        "print(head[\"next\"][\"next\"][\"value\"])"
      ],
      "metadata": {
        "colab": {
          "base_uri": "https://localhost:8080/"
        },
        "id": "ZHuSReJuQmOW",
        "outputId": "c5adeca5-d18c-4002-920c-f661bcfb3a14"
      },
      "execution_count": null,
      "outputs": [
        {
          "output_type": "stream",
          "name": "stdout",
          "text": [
            "23\n"
          ]
        }
      ]
    },
    {
      "cell_type": "markdown",
      "source": [
        "#Linked List"
      ],
      "metadata": {
        "id": "nJhGphXUhOtz"
      }
    },
    {
      "cell_type": "code",
      "source": [
        "class Node:\n",
        "\n",
        "    def __init__(self,value):\n",
        "        self.value = value\n",
        "        self.next = None"
      ],
      "metadata": {
        "id": "2S4abPizTKsy"
      },
      "execution_count": null,
      "outputs": []
    },
    {
      "cell_type": "code",
      "source": [
        "class LinkedList:\n",
        "\n",
        "    def __init__(self,value):\n",
        "        # create a new node\n",
        "        new_node = Node(value)\n",
        "\n",
        "        # assign values\n",
        "        self.head = new_node\n",
        "        self.tail = new_node\n",
        "        self.length = 1\n",
        "\n",
        "    def make_empty(self):\n",
        "        self.head = None\n",
        "        self.tail = None\n",
        "        self.length = 0\n",
        "\n",
        "    # prints all values of linked list\n",
        "    def print_list(self,msg):\n",
        "        print('--------')\n",
        "        print(msg)\n",
        "        print('--------')\n",
        "        # get the 1st element\n",
        "        temp = self.head\n",
        "\n",
        "        # traverse the list\n",
        "        while temp is not None:\n",
        "            print(temp.value)\n",
        "            temp = temp.next\n",
        "\n",
        "    def append(self,value):\n",
        "        # create a new node with the new element\n",
        "        new_node = Node(value)\n",
        "\n",
        "        # check if the list is empty\n",
        "        if self.head is None:\n",
        "            self.head = new_node\n",
        "            self.tail = new_node\n",
        "        else:\n",
        "            # items already present in linked list\n",
        "            self.tail.next = new_node # set the last element point to new node created\n",
        "            self.tail = new_node # set the tail variable to new_node\n",
        "\n",
        "        # increment the counter\n",
        "        self.length += 1\n",
        "        return True\n",
        "\n",
        "    def prepend(self,value):\n",
        "        # create a new node with the new element\n",
        "        new_node = Node(value)\n",
        "\n",
        "        if self.length == 0:\n",
        "            self.head = new_node\n",
        "            self.tail = new_node\n",
        "        else:\n",
        "            new_node.next = self.head\n",
        "            self.head = new_node\n",
        "        self.length += 1\n",
        "        return True\n",
        "\n",
        "    def pop(self):\n",
        "        # other ways : | if self.head is None | if self.tail is None\n",
        "        if self.length == 0:\n",
        "            return None\n",
        "\n",
        "        temp = self.head\n",
        "        pre = self.head\n",
        "\n",
        "        while(temp.next):\n",
        "            pre = temp\n",
        "            temp = temp.next\n",
        "\n",
        "        self.tail = pre\n",
        "        self.tail.next = None\n",
        "        self.length -= 1\n",
        "\n",
        "        # now if the length is 0\n",
        "        if self.length == 0:\n",
        "            self.head = None\n",
        "            self.tail = None\n",
        "\n",
        "        # return the popped item\n",
        "        return temp\n",
        "\n",
        "    def popFirst(self):\n",
        "        pass\n",
        "\n",
        "    def get(self):\n",
        "        pass\n",
        "\n",
        "    def set(self):\n",
        "        pass\n",
        "\n",
        "    def insert(self,index,value):\n",
        "        # create a new node with the new element\n",
        "        # add that node to the index position\n",
        "        pass\n",
        "\n",
        "    def remove(self,index,value):\n",
        "        pass\n",
        "\n",
        "    def reverse(self):\n",
        "        pass"
      ],
      "metadata": {
        "id": "TSfB8PwEhWAb"
      },
      "execution_count": 8,
      "outputs": []
    },
    {
      "cell_type": "markdown",
      "source": [
        "## Test Linked List creation"
      ],
      "metadata": {
        "id": "sXqW7uWs0OVc"
      }
    },
    {
      "cell_type": "code",
      "source": [
        "# create an object with arbitrary element\n",
        "my_linked_list = LinkedList(99)\n",
        "\n",
        "if my_linked_list is not None:\n",
        "    del my_linked_list\n",
        "\n",
        "# Test creating a new linked list\n",
        "my_linked_list = LinkedList(7)\n",
        "print(my_linked_list.head.value)"
      ],
      "metadata": {
        "colab": {
          "base_uri": "https://localhost:8080/"
        },
        "id": "cqKbRrKMiJLw",
        "outputId": "1ac540c1-739b-492a-95ec-189a15ff3858"
      },
      "execution_count": null,
      "outputs": [
        {
          "output_type": "stream",
          "name": "stdout",
          "text": [
            "7\n"
          ]
        }
      ]
    },
    {
      "cell_type": "markdown",
      "source": [
        "## Test : Append"
      ],
      "metadata": {
        "id": "W_l8bSPA0g-b"
      }
    },
    {
      "cell_type": "code",
      "source": [
        "# create an object with arbitrary element\n",
        "my_linked_list = LinkedList(99)\n",
        "\n",
        "## Initial state = [head]-> 1 <-[tail]\n",
        "## after append 2 =  [head]-> 1 -> 2 <-[tail]\n",
        "\n",
        "if my_linked_list is not None:\n",
        "    del my_linked_list\n",
        "\n",
        "my_linked_list = LinkedList(1)\n",
        "my_linked_list.append(2)\n",
        "my_linked_list.append(3)\n",
        "my_linked_list.print_list(\"After append\")"
      ],
      "metadata": {
        "colab": {
          "base_uri": "https://localhost:8080/"
        },
        "id": "wjwo5aP8iNe7",
        "outputId": "af3f99ff-dfde-4e0c-868e-e8aa1f6aea1d"
      },
      "execution_count": null,
      "outputs": [
        {
          "output_type": "stream",
          "name": "stdout",
          "text": [
            "--------\n",
            "After append\n",
            "--------\n",
            "1\n",
            "2\n",
            "3\n",
            "--------\n"
          ]
        }
      ]
    },
    {
      "cell_type": "markdown",
      "source": [
        "## Test : pop - Try with multiple elements in the LL"
      ],
      "metadata": {
        "id": "b3Eeitve8Rcw"
      }
    },
    {
      "cell_type": "code",
      "source": [
        "# create an object with arbitrary element\n",
        "my_linked_list = LinkedList(99)\n",
        "\n",
        "# del my_linked_list\n",
        "if my_linked_list is not None:\n",
        "    del my_linked_list\n",
        "\n",
        "# first append\n",
        "my_linked_list = LinkedList(1)\n",
        "my_linked_list.append(2)\n",
        "my_linked_list.append(3)\n",
        "my_linked_list.print_list(\"First append\")\n",
        "\n",
        "# now pop\n",
        "popped_item = my_linked_list.pop()\n",
        "my_linked_list.print_list(\"After pop\")\n",
        "print('\\n')\n",
        "print(\"Popped item = \",popped_item.value)"
      ],
      "metadata": {
        "colab": {
          "base_uri": "https://localhost:8080/"
        },
        "id": "a01j0S47xE92",
        "outputId": "03605176-f3aa-42e9-9fd3-0f73508e76dd"
      },
      "execution_count": null,
      "outputs": [
        {
          "output_type": "stream",
          "name": "stdout",
          "text": [
            "--------\n",
            "First append\n",
            "--------\n",
            "1\n",
            "2\n",
            "3\n",
            "--------\n",
            "After pop\n",
            "--------\n",
            "1\n",
            "2\n",
            "\n",
            "\n",
            "Popped item =  3\n"
          ]
        }
      ]
    },
    {
      "cell_type": "markdown",
      "source": [
        "## Test : pop - Try with 1 element in the LL"
      ],
      "metadata": {
        "id": "YhjLv6tCWsZg"
      }
    },
    {
      "cell_type": "code",
      "source": [
        "# create an object with arbitrary element\n",
        "my_linked_list = LinkedList(99)\n",
        "\n",
        "# del my_linked_list\n",
        "if my_linked_list is not None:\n",
        "    del my_linked_list\n",
        "\n",
        "# first append\n",
        "my_linked_list = LinkedList(1)\n",
        "my_linked_list.print_list(\"First append\")\n",
        "\n",
        "# now pop\n",
        "popped_item = my_linked_list.pop()\n",
        "my_linked_list.print_list(\"After pop\")\n",
        "print('\\n')\n",
        "print(\"Popped item = \",popped_item.value)"
      ],
      "metadata": {
        "id": "QnADbAVCxFB6",
        "colab": {
          "base_uri": "https://localhost:8080/"
        },
        "outputId": "2d4abd0d-cd1a-465c-84c9-dc4b981d427d"
      },
      "execution_count": null,
      "outputs": [
        {
          "output_type": "stream",
          "name": "stdout",
          "text": [
            "--------\n",
            "First append\n",
            "--------\n",
            "1\n",
            "--------\n",
            "After pop\n",
            "--------\n",
            "\n",
            "\n",
            "Popped item =  1\n"
          ]
        }
      ]
    },
    {
      "cell_type": "markdown",
      "source": [
        "## Test Prepend"
      ],
      "metadata": {
        "id": "LYRJxIW2Kn3c"
      }
    },
    {
      "cell_type": "code",
      "source": [
        "my_linked_list = LinkedList(1)\n",
        "my_linked_list.append(2)\n",
        "my_linked_list.append(3)\n",
        "my_linked_list.print_list(\"After append\")\n",
        "\n",
        "my_linked_list.prepend(4)\n",
        "my_linked_list.print_list(\"After Prepend\")\n",
        "\n",
        "\n",
        "# Try when there was an empty linked list\n",
        "my_linked_list.make_empty()\n",
        "my_linked_list.prepend(4)\n",
        "my_linked_list.print_list(\"After Prepend when empty list\")"
      ],
      "metadata": {
        "id": "YFcocCKXxFF0",
        "colab": {
          "base_uri": "https://localhost:8080/"
        },
        "outputId": "c0cd2069-baa4-4b0c-e297-83aa34e905d8"
      },
      "execution_count": 12,
      "outputs": [
        {
          "output_type": "stream",
          "name": "stdout",
          "text": [
            "--------\n",
            "After append\n",
            "--------\n",
            "1\n",
            "2\n",
            "3\n",
            "--------\n",
            "After Prepend\n",
            "--------\n",
            "4\n",
            "1\n",
            "2\n",
            "3\n",
            "--------\n",
            "After Prepend when empty list\n",
            "--------\n",
            "4\n"
          ]
        }
      ]
    },
    {
      "cell_type": "code",
      "source": [],
      "metadata": {
        "id": "V6-bLz0fKnCF"
      },
      "execution_count": null,
      "outputs": []
    },
    {
      "cell_type": "code",
      "source": [],
      "metadata": {
        "id": "Zw9N9WzVKnFn"
      },
      "execution_count": null,
      "outputs": []
    },
    {
      "cell_type": "code",
      "source": [],
      "metadata": {
        "id": "_PXuNF97KnJm"
      },
      "execution_count": null,
      "outputs": []
    },
    {
      "cell_type": "code",
      "source": [],
      "metadata": {
        "id": "X2bQFgNHKnNN"
      },
      "execution_count": null,
      "outputs": []
    },
    {
      "cell_type": "code",
      "source": [],
      "metadata": {
        "id": "AGkWgNZJxFJt"
      },
      "execution_count": null,
      "outputs": []
    },
    {
      "cell_type": "markdown",
      "source": [
        "# Section 5 - Coding Ex 3: LL: Constructor"
      ],
      "metadata": {
        "id": "7ZZlqDNxk8kU"
      }
    },
    {
      "cell_type": "code",
      "source": [
        "class Node:\n",
        "\n",
        "    def __init__(self,value):\n",
        "        self.value = value\n",
        "        self.next = None\n",
        "\n",
        "\n",
        "class LinkedList:\n",
        "\n",
        "    def __init__(self,value):\n",
        "        # creating the new node\n",
        "        new_node = Node(value)\n",
        "\n",
        "        # assign head\n",
        "        # note - the object self.head will have 2 attributes now - value and next\n",
        "        self.head = new_node\n",
        "\n",
        "        # assign tail\n",
        "        # note - the object self.tail will have 2 attributes now - value and next\n",
        "        self.tail = new_node\n",
        "\n",
        "        # track length\n",
        "        self.length = 1\n",
        "\n",
        "my_linked_list = LinkedList(4)\n",
        "\n",
        "print('Head:', my_linked_list.head.value)\n",
        "print('Tail:', my_linked_list.tail.value)\n",
        "print('Length:', my_linked_list.length)"
      ],
      "metadata": {
        "colab": {
          "base_uri": "https://localhost:8080/"
        },
        "id": "psaBHXMriRew",
        "outputId": "aa4b5fc0-4fd1-474d-c641-024db7b066a6"
      },
      "execution_count": null,
      "outputs": [
        {
          "output_type": "stream",
          "name": "stdout",
          "text": [
            "Head: 4\n",
            "Tail: 4\n",
            "Length: 1\n"
          ]
        }
      ]
    },
    {
      "cell_type": "markdown",
      "source": [
        "## Section 5 - Coding Ex 4 and 5 : Print list and Append"
      ],
      "metadata": {
        "id": "StLtUZEkFhjh"
      }
    },
    {
      "cell_type": "code",
      "source": [
        "class Node:\n",
        "    def __init__(self, value):\n",
        "        self.value = value\n",
        "        self.next = None\n",
        "\n",
        "\n",
        "class LinkedList:\n",
        "    def __init__(self, value):\n",
        "        new_node = Node(value)\n",
        "        self.head = new_node\n",
        "        self.tail = new_node\n",
        "        self.length = 1\n",
        "\n",
        "    def print_list(self):\n",
        "        temp = self.head\n",
        "        while temp is not None:\n",
        "            print(temp.value)\n",
        "            temp = temp.next\n",
        "\n",
        "    def make_empty(self):\n",
        "        self.head = None\n",
        "        self.tail = None\n",
        "        self.length = 0\n",
        "\n",
        "    def append(self, value):\n",
        "        new_node = Node(value)\n",
        "\n",
        "        # if no elements are present\n",
        "        if self.head is None:\n",
        "            self.head = new_node\n",
        "            self.tail = new_node\n",
        "        else:\n",
        "            # point the current last node next -> new_node\n",
        "            self.tail.next = new_node\n",
        "\n",
        "            # update the tail to the new_node\n",
        "            self.tail = new_node\n",
        "\n",
        "        self.length += 1\n",
        "\n",
        "\n",
        "my_linked_list = LinkedList(1)\n",
        "my_linked_list.make_empty()\n",
        "\n",
        "my_linked_list.append(1)\n",
        "my_linked_list.append(2)\n",
        "\n",
        "print('Head:', my_linked_list.head.value)\n",
        "print('Tail:', my_linked_list.tail.value)\n",
        "print('Length:', my_linked_list.length, '\\n')\n",
        "\n",
        "print('Linked List:')\n",
        "my_linked_list.print_list()"
      ],
      "metadata": {
        "id": "Sl0Li1d5lBjF",
        "colab": {
          "base_uri": "https://localhost:8080/"
        },
        "outputId": "3a2332e2-fdf3-4ff1-bd67-b5aadd839e7c"
      },
      "execution_count": 1,
      "outputs": [
        {
          "output_type": "stream",
          "name": "stdout",
          "text": [
            "Head: 1\n",
            "Tail: 2\n",
            "Length: 2 \n",
            "\n",
            "Linked List:\n",
            "1\n",
            "2\n"
          ]
        }
      ]
    },
    {
      "cell_type": "markdown",
      "source": [
        "## Section 5 - Coding Ex 6 : Pop"
      ],
      "metadata": {
        "id": "WsoNr7qBF01a"
      }
    },
    {
      "cell_type": "code",
      "source": [
        "class Node:\n",
        "    def __init__(self, value):\n",
        "        self.value = value\n",
        "        self.next = None\n",
        "\n",
        "\n",
        "class LinkedList:\n",
        "    def __init__(self, value):\n",
        "        new_node = Node(value)\n",
        "        self.head = new_node\n",
        "        self.tail = new_node\n",
        "        self.length = 1\n",
        "\n",
        "    def print_list(self):\n",
        "        values = []\n",
        "        temp = self.head\n",
        "        while temp is not None:\n",
        "            values.append(str(temp.value))\n",
        "            temp = temp.next\n",
        "        values.append(\"None\")\n",
        "        print(\" -> \".join(values))\n",
        "\n",
        "    def append(self, value):\n",
        "        new_node = Node(value)\n",
        "        if self.length == 0:\n",
        "            self.head = new_node\n",
        "            self.tail = new_node\n",
        "        else:\n",
        "            self.tail.next = new_node\n",
        "            self.tail = new_node\n",
        "        self.length += 1\n",
        "        return True\n",
        "\n",
        "    def pop(self):\n",
        "\n",
        "        # no elements are present\n",
        "        if self.length == 0:\n",
        "            return None\n",
        "\n",
        "        temp = self.head\n",
        "        pre = self.head\n",
        "\n",
        "        while(temp.next):\n",
        "            pre = temp\n",
        "            temp = temp.next\n",
        "\n",
        "        if self.length == 1:\n",
        "            self.head = None\n",
        "            self.tail = None\n",
        "        else:\n",
        "            # Dettach the last element\n",
        "            pre.next = None\n",
        "\n",
        "            # update the tail\n",
        "            self.tail = pre\n",
        "\n",
        "        # decrement the counter\n",
        "        self.length -= 1\n",
        "\n",
        "        # return the popped item\n",
        "        return temp"
      ],
      "metadata": {
        "id": "-imIKeA_FTsz"
      },
      "execution_count": 5,
      "outputs": []
    },
    {
      "cell_type": "code",
      "source": [
        "# Test of Pop\n",
        "\n",
        "##########################################################\n",
        "##   Test code below will print output to \"User logs\"   ##\n",
        "##########################################################\n",
        "\n",
        "def check(expect, actual, message):\n",
        "    print(message)\n",
        "    print(\"EXPECTED:\", expect)\n",
        "    print(\"RETURNED:\", actual)\n",
        "    print(\"PASS\" if expect == actual else \"FAIL\", \"\\n\")\n",
        "\n",
        "print(\"\\n----- Test: Pop on linked list with one node -----\\n\")\n",
        "linked_list = LinkedList(1)\n",
        "linked_list.print_list()\n",
        "popped_node = linked_list.pop()\n",
        "check(1, popped_node.value, \"Value of popped node:\")\n",
        "check(None, linked_list.head, \"Head of linked list:\")\n",
        "check(None, linked_list.tail, \"Tail of linked list:\")\n",
        "check(0, linked_list.length, \"Length of linked list:\")\n",
        "\n",
        "print(\"\\n----- Test: Pop on linked list with multiple nodes -----\\n\")\n",
        "linked_list = LinkedList(1)\n",
        "linked_list.append(2)\n",
        "linked_list.append(3)\n",
        "linked_list.print_list()\n",
        "popped_node = linked_list.pop()\n",
        "check(3, popped_node.value, \"Value of popped node:\")\n",
        "check(1, linked_list.head.value, \"Head of linked list:\")\n",
        "check(2, linked_list.tail.value, \"Tail of linked list:\")\n",
        "check(2, linked_list.length, \"Length of linked list:\")\n",
        "\n",
        "print(\"\\n----- Test: Pop on empty linked list -----\\n\")\n",
        "linked_list = LinkedList(1)\n",
        "linked_list.head = None\n",
        "linked_list.tail = None\n",
        "linked_list.length = 0\n",
        "popped_node = linked_list.pop()\n",
        "check(None, popped_node, \"Popped node from empty linked list:\")\n",
        "check(None, linked_list.head, \"Head of linked list:\")\n",
        "check(None, linked_list.tail, \"Tail of linked list:\")\n",
        "check(0, linked_list.length, \"Length of linked list:\")\n",
        "\n",
        "print(\"\\n----- Test: Pop all -----\\n\")\n",
        "linked_list = LinkedList(1)\n",
        "linked_list.append(2)\n",
        "linked_list.print_list()\n",
        "popped_node = linked_list.pop()\n",
        "check(2, popped_node.value, \"Value of popped node (first pop):\")\n",
        "check(1, linked_list.head.value, \"Head of linked list (after first pop):\")\n",
        "check(1, linked_list.tail.value, \"Tail of linked list (after first pop):\")\n",
        "check(1, linked_list.length, \"Length of linked list (after first pop):\")\n",
        "popped_node = linked_list.pop()\n",
        "check(1, popped_node.value, \"Value of popped node (second pop):\")\n",
        "check(None, linked_list.head, \"Head of linked list (after second pop):\")\n",
        "check(None, linked_list.tail, \"Tail of linked list (after second pop):\")\n",
        "check(0, linked_list.length, \"Length of linked list (after second pop):\")\n",
        "popped_node = linked_list.pop()\n",
        "check(None, popped_node, \"Popped node from empty linked list (third pop):\")\n",
        "check(None, linked_list.head, \"Head of linked list (after third pop):\")\n",
        "check(None, linked_list.tail, \"Tail of linked list (after third pop):\")\n",
        "check(0, linked_list.length, \"Length of linked list (after third pop):\")"
      ],
      "metadata": {
        "colab": {
          "base_uri": "https://localhost:8080/"
        },
        "id": "3uVIu3KHGBfb",
        "outputId": "47d00d8e-92cf-4b60-a593-2e5326281f15"
      },
      "execution_count": 6,
      "outputs": [
        {
          "output_type": "stream",
          "name": "stdout",
          "text": [
            "\n",
            "----- Test: Pop on linked list with one node -----\n",
            "\n",
            "1 -> None\n",
            "Value of popped node:\n",
            "EXPECTED: 1\n",
            "RETURNED: 1\n",
            "PASS \n",
            "\n",
            "Head of linked list:\n",
            "EXPECTED: None\n",
            "RETURNED: None\n",
            "PASS \n",
            "\n",
            "Tail of linked list:\n",
            "EXPECTED: None\n",
            "RETURNED: None\n",
            "PASS \n",
            "\n",
            "Length of linked list:\n",
            "EXPECTED: 0\n",
            "RETURNED: 0\n",
            "PASS \n",
            "\n",
            "\n",
            "----- Test: Pop on linked list with multiple nodes -----\n",
            "\n",
            "1 -> 2 -> 3 -> None\n",
            "Value of popped node:\n",
            "EXPECTED: 3\n",
            "RETURNED: 3\n",
            "PASS \n",
            "\n",
            "Head of linked list:\n",
            "EXPECTED: 1\n",
            "RETURNED: 1\n",
            "PASS \n",
            "\n",
            "Tail of linked list:\n",
            "EXPECTED: 2\n",
            "RETURNED: 2\n",
            "PASS \n",
            "\n",
            "Length of linked list:\n",
            "EXPECTED: 2\n",
            "RETURNED: 2\n",
            "PASS \n",
            "\n",
            "\n",
            "----- Test: Pop on empty linked list -----\n",
            "\n",
            "Popped node from empty linked list:\n",
            "EXPECTED: None\n",
            "RETURNED: None\n",
            "PASS \n",
            "\n",
            "Head of linked list:\n",
            "EXPECTED: None\n",
            "RETURNED: None\n",
            "PASS \n",
            "\n",
            "Tail of linked list:\n",
            "EXPECTED: None\n",
            "RETURNED: None\n",
            "PASS \n",
            "\n",
            "Length of linked list:\n",
            "EXPECTED: 0\n",
            "RETURNED: 0\n",
            "PASS \n",
            "\n",
            "\n",
            "----- Test: Pop all -----\n",
            "\n",
            "1 -> 2 -> None\n",
            "Value of popped node (first pop):\n",
            "EXPECTED: 2\n",
            "RETURNED: 2\n",
            "PASS \n",
            "\n",
            "Head of linked list (after first pop):\n",
            "EXPECTED: 1\n",
            "RETURNED: 1\n",
            "PASS \n",
            "\n",
            "Tail of linked list (after first pop):\n",
            "EXPECTED: 1\n",
            "RETURNED: 1\n",
            "PASS \n",
            "\n",
            "Length of linked list (after first pop):\n",
            "EXPECTED: 1\n",
            "RETURNED: 1\n",
            "PASS \n",
            "\n",
            "Value of popped node (second pop):\n",
            "EXPECTED: 1\n",
            "RETURNED: 1\n",
            "PASS \n",
            "\n",
            "Head of linked list (after second pop):\n",
            "EXPECTED: None\n",
            "RETURNED: None\n",
            "PASS \n",
            "\n",
            "Tail of linked list (after second pop):\n",
            "EXPECTED: None\n",
            "RETURNED: None\n",
            "PASS \n",
            "\n",
            "Length of linked list (after second pop):\n",
            "EXPECTED: 0\n",
            "RETURNED: 0\n",
            "PASS \n",
            "\n",
            "Popped node from empty linked list (third pop):\n",
            "EXPECTED: None\n",
            "RETURNED: None\n",
            "PASS \n",
            "\n",
            "Head of linked list (after third pop):\n",
            "EXPECTED: None\n",
            "RETURNED: None\n",
            "PASS \n",
            "\n",
            "Tail of linked list (after third pop):\n",
            "EXPECTED: None\n",
            "RETURNED: None\n",
            "PASS \n",
            "\n",
            "Length of linked list (after third pop):\n",
            "EXPECTED: 0\n",
            "RETURNED: 0\n",
            "PASS \n",
            "\n"
          ]
        }
      ]
    },
    {
      "cell_type": "code",
      "source": [],
      "metadata": {
        "id": "cv7siSvLIKGh"
      },
      "execution_count": null,
      "outputs": []
    }
  ]
}