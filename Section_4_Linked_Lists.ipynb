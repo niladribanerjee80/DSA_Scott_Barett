{
  "nbformat": 4,
  "nbformat_minor": 0,
  "metadata": {
    "colab": {
      "provenance": [],
      "toc_visible": true,
      "authorship_tag": "ABX9TyPK3od5z3p+7FSj/9u9M/CN",
      "include_colab_link": true
    },
    "kernelspec": {
      "name": "python3",
      "display_name": "Python 3"
    },
    "language_info": {
      "name": "python"
    }
  },
  "cells": [
    {
      "cell_type": "markdown",
      "metadata": {
        "id": "view-in-github",
        "colab_type": "text"
      },
      "source": [
        "<a href=\"https://colab.research.google.com/github/niladribanerjee80/DSA_Scott_Barett/blob/main/Section_4_Linked_Lists.ipynb\" target=\"_parent\"><img src=\"https://colab.research.google.com/assets/colab-badge.svg\" alt=\"Open In Colab\"/></a>"
      ]
    },
    {
      "cell_type": "code",
      "source": [
        "# Creating the Linked List\n",
        "node_7 = {\n",
        "    \"value\" : 7,\n",
        "    \"next\"  : None\n",
        "}\n",
        "\n",
        "node_23 = {\n",
        "    \"value\" : 23,\n",
        "    \"next\"  : node_7\n",
        "}\n",
        "\n",
        "node_3 = {\n",
        "    \"value\" : 3,\n",
        "    \"next\"  : node_23\n",
        "}\n",
        "\n",
        "node_11 = {\n",
        "    \"value\" : 11,\n",
        "    \"next\"  : node_3\n",
        "}"
      ],
      "metadata": {
        "id": "LoM7ZDzyOX0S"
      },
      "execution_count": null,
      "outputs": []
    },
    {
      "cell_type": "code",
      "source": [
        "# ---------------\n",
        "# head -> 11 -> 3 -> 23 -> 7 -> None\n",
        "# this is what was covered in class\n",
        "# ---------------\n",
        "\n",
        "head = {\n",
        "    \"value\": 11,\n",
        "    \"next\": {\n",
        "        \"value\" : 3,\n",
        "        \"next\"  : {\n",
        "            \"value\" : 23,\n",
        "            \"next\" : {\n",
        "                \"value\" : 7,\n",
        "                \"next\" : None\n",
        "            }\n",
        "\n",
        "        }\n",
        "    }\n",
        "}"
      ],
      "metadata": {
        "id": "ON_yYCaSP1Hy"
      },
      "execution_count": null,
      "outputs": []
    },
    {
      "cell_type": "code",
      "source": [
        "print(head[\"next\"][\"next\"][\"value\"])"
      ],
      "metadata": {
        "colab": {
          "base_uri": "https://localhost:8080/"
        },
        "id": "ZHuSReJuQmOW",
        "outputId": "c5adeca5-d18c-4002-920c-f661bcfb3a14"
      },
      "execution_count": null,
      "outputs": [
        {
          "output_type": "stream",
          "name": "stdout",
          "text": [
            "23\n"
          ]
        }
      ]
    },
    {
      "cell_type": "markdown",
      "source": [
        "#Linked List"
      ],
      "metadata": {
        "id": "nJhGphXUhOtz"
      }
    },
    {
      "cell_type": "code",
      "source": [
        "class Node:\n",
        "\n",
        "    def __init__(self,value):\n",
        "        self.value = value\n",
        "        self.next = None"
      ],
      "metadata": {
        "id": "2S4abPizTKsy"
      },
      "execution_count": 29,
      "outputs": []
    },
    {
      "cell_type": "code",
      "source": [
        "class LinkedList:\n",
        "\n",
        "    def __init__(self,value):\n",
        "        # create a new node\n",
        "        new_node = Node(value)\n",
        "\n",
        "        # assign values\n",
        "        self.head = new_node\n",
        "        self.tail = new_node\n",
        "        self.length = 1\n",
        "\n",
        "    def make_empty(self):\n",
        "        self.head = None\n",
        "        self.tail = None\n",
        "        self.length = 0\n",
        "\n",
        "    # prints all values of linked list\n",
        "    def print_list(self,msg):\n",
        "        print('--------')\n",
        "        print(msg)\n",
        "        print('--------')\n",
        "        # get the 1st element\n",
        "        temp = self.head\n",
        "\n",
        "        # traverse the list\n",
        "        while temp is not None:\n",
        "            print(temp.value)\n",
        "            temp = temp.next\n",
        "\n",
        "    def append(self,value):\n",
        "        # create a new node with the new element\n",
        "        new_node = Node(value)\n",
        "\n",
        "        # check if the list is empty\n",
        "        if self.head is None:\n",
        "            self.head = new_node\n",
        "            self.tail = new_node\n",
        "        else:\n",
        "            # items already present in linked list\n",
        "            self.tail.next = new_node # set the last element point to new node created\n",
        "            self.tail = new_node # set the tail variable to new_node\n",
        "\n",
        "        # increment the counter\n",
        "        self.length += 1\n",
        "        return True\n",
        "\n",
        "    def prepend(self,value):\n",
        "        # create a new node with the new element\n",
        "        new_node = Node(value)\n",
        "\n",
        "        if self.length == 0:\n",
        "            self.head = new_node\n",
        "            self.tail = new_node\n",
        "        else:\n",
        "            new_node.next = self.head\n",
        "            self.head = new_node\n",
        "        self.length += 1\n",
        "        return True\n",
        "\n",
        "    def pop(self):\n",
        "        # other ways : | if self.head is None | if self.tail is None\n",
        "        if self.length == 0:\n",
        "            return None\n",
        "\n",
        "        temp = self.head\n",
        "        pre = self.head\n",
        "\n",
        "        while(temp.next):\n",
        "            pre = temp\n",
        "            temp = temp.next\n",
        "\n",
        "        self.tail = pre\n",
        "        self.tail.next = None\n",
        "        self.length -= 1\n",
        "\n",
        "        # now if the length is 0\n",
        "        if self.length == 0:\n",
        "            self.head = None\n",
        "            self.tail = None\n",
        "\n",
        "        # return the popped item\n",
        "        return temp\n",
        "\n",
        "    def pop_first(self):\n",
        "        if self.length == 0:\n",
        "            return None\n",
        "\n",
        "        popped_node = self.head\n",
        "\n",
        "        if self.length == 1:\n",
        "            self.head = None\n",
        "            self.tail = None\n",
        "        else:\n",
        "            self.head = self.head.next\n",
        "\n",
        "        popped_node.next = None\n",
        "\n",
        "        self.length -= 1\n",
        "        return popped_node\n",
        "\n",
        "\n",
        "    def get(self,index):\n",
        "        # return the node at that index\n",
        "        if index < 0 or index >= self.length:\n",
        "            return None\n",
        "\n",
        "        if self.length == 0:\n",
        "            return None\n",
        "\n",
        "        temp = self.head\n",
        "\n",
        "        for _ in range(index):\n",
        "            temp = temp.next\n",
        "\n",
        "        return temp\n",
        "\n",
        "\n",
        "    def set_value(self,index,value):\n",
        "        temp = self.get(index)\n",
        "\n",
        "        if temp: # if temp is not None\n",
        "            temp.value = value\n",
        "            return True\n",
        "        else:\n",
        "            return False\n",
        "\n",
        "    def insert(self,index,value):\n",
        "        if index == 0:\n",
        "            self.prepend(value)\n",
        "            return True\n",
        "\n",
        "        # get the node at the index where we need to insert the new_node\n",
        "        temp = self.get(index)\n",
        "\n",
        "        if temp:\n",
        "            new_node = Node(value) # Create a new node now\n",
        "\n",
        "            new_node.next = temp.next # ensure we point the new_mode.next to current temp.next\n",
        "            temp.next = new_node # connect the temp.next -> new_node, link done\n",
        "\n",
        "            self.length += 1 # increment the counter\n",
        "            return True\n",
        "        else:\n",
        "            return False\n",
        "\n",
        "    def remove(self,index):\n",
        "        temp = self.get(index)\n",
        "\n",
        "        if temp is None:\n",
        "            return False\n",
        "\n",
        "        if temp == self.tail:\n",
        "            self.pop()\n",
        "        elif temp == self.head:\n",
        "            self.pop_first()\n",
        "        else:\n",
        "            prev = self.get(index-1)\n",
        "            post = temp.next\n",
        "            prev.next = post\n",
        "            temp.next = None\n",
        "\n",
        "        self.length -= 1\n",
        "        return temp\n",
        "\n",
        "    def reverse(self):\n",
        "        pass"
      ],
      "metadata": {
        "id": "TSfB8PwEhWAb"
      },
      "execution_count": 54,
      "outputs": []
    },
    {
      "cell_type": "markdown",
      "source": [
        "## Test Linked List creation"
      ],
      "metadata": {
        "id": "sXqW7uWs0OVc"
      }
    },
    {
      "cell_type": "code",
      "source": [
        "# create an object with arbitrary element\n",
        "my_linked_list = LinkedList(99)\n",
        "\n",
        "if my_linked_list is not None:\n",
        "    del my_linked_list\n",
        "\n",
        "# Test creating a new linked list\n",
        "my_linked_list = LinkedList(7)\n",
        "print(my_linked_list.head.value)"
      ],
      "metadata": {
        "colab": {
          "base_uri": "https://localhost:8080/"
        },
        "id": "cqKbRrKMiJLw",
        "outputId": "1ac540c1-739b-492a-95ec-189a15ff3858"
      },
      "execution_count": null,
      "outputs": [
        {
          "output_type": "stream",
          "name": "stdout",
          "text": [
            "7\n"
          ]
        }
      ]
    },
    {
      "cell_type": "markdown",
      "source": [
        "## Test : append()"
      ],
      "metadata": {
        "id": "W_l8bSPA0g-b"
      }
    },
    {
      "cell_type": "code",
      "source": [
        "# create an object with arbitrary element\n",
        "my_linked_list = LinkedList(99)\n",
        "\n",
        "## Initial state = [head]-> 1 <-[tail]\n",
        "## after append 2 =  [head]-> 1 -> 2 <-[tail]\n",
        "\n",
        "if my_linked_list is not None:\n",
        "    del my_linked_list\n",
        "\n",
        "my_linked_list = LinkedList(1)\n",
        "my_linked_list.append(2)\n",
        "my_linked_list.append(3)\n",
        "my_linked_list.print_list(\"After append\")"
      ],
      "metadata": {
        "colab": {
          "base_uri": "https://localhost:8080/"
        },
        "id": "wjwo5aP8iNe7",
        "outputId": "af3f99ff-dfde-4e0c-868e-e8aa1f6aea1d"
      },
      "execution_count": null,
      "outputs": [
        {
          "output_type": "stream",
          "name": "stdout",
          "text": [
            "--------\n",
            "After append\n",
            "--------\n",
            "1\n",
            "2\n",
            "3\n",
            "--------\n"
          ]
        }
      ]
    },
    {
      "cell_type": "markdown",
      "source": [
        "## Test : pop() - Try with multiple elements in the LL"
      ],
      "metadata": {
        "id": "b3Eeitve8Rcw"
      }
    },
    {
      "cell_type": "code",
      "source": [
        "# create an object with arbitrary element\n",
        "my_linked_list = LinkedList(99)\n",
        "\n",
        "# del my_linked_list\n",
        "if my_linked_list is not None:\n",
        "    del my_linked_list\n",
        "\n",
        "# first append\n",
        "my_linked_list = LinkedList(1)\n",
        "my_linked_list.append(2)\n",
        "my_linked_list.append(3)\n",
        "my_linked_list.print_list(\"First append\")\n",
        "\n",
        "# now pop\n",
        "popped_item = my_linked_list.pop()\n",
        "my_linked_list.print_list(\"After pop\")\n",
        "print('\\n')\n",
        "print(\"Popped item = \",popped_item.value)"
      ],
      "metadata": {
        "colab": {
          "base_uri": "https://localhost:8080/"
        },
        "id": "a01j0S47xE92",
        "outputId": "03605176-f3aa-42e9-9fd3-0f73508e76dd"
      },
      "execution_count": null,
      "outputs": [
        {
          "output_type": "stream",
          "name": "stdout",
          "text": [
            "--------\n",
            "First append\n",
            "--------\n",
            "1\n",
            "2\n",
            "3\n",
            "--------\n",
            "After pop\n",
            "--------\n",
            "1\n",
            "2\n",
            "\n",
            "\n",
            "Popped item =  3\n"
          ]
        }
      ]
    },
    {
      "cell_type": "markdown",
      "source": [
        "## Test : pop() - Try with 1 element in the LL"
      ],
      "metadata": {
        "id": "YhjLv6tCWsZg"
      }
    },
    {
      "cell_type": "code",
      "source": [
        "# create an object with arbitrary element\n",
        "my_linked_list = LinkedList(99)\n",
        "\n",
        "# del my_linked_list\n",
        "if my_linked_list is not None:\n",
        "    del my_linked_list\n",
        "\n",
        "# first append\n",
        "my_linked_list = LinkedList(1)\n",
        "my_linked_list.print_list(\"First append\")\n",
        "\n",
        "# now pop\n",
        "popped_item = my_linked_list.pop()\n",
        "my_linked_list.print_list(\"After pop\")\n",
        "print('\\n')\n",
        "print(\"Popped item = \",popped_item.value)"
      ],
      "metadata": {
        "id": "QnADbAVCxFB6",
        "colab": {
          "base_uri": "https://localhost:8080/"
        },
        "outputId": "2d4abd0d-cd1a-465c-84c9-dc4b981d427d"
      },
      "execution_count": null,
      "outputs": [
        {
          "output_type": "stream",
          "name": "stdout",
          "text": [
            "--------\n",
            "First append\n",
            "--------\n",
            "1\n",
            "--------\n",
            "After pop\n",
            "--------\n",
            "\n",
            "\n",
            "Popped item =  1\n"
          ]
        }
      ]
    },
    {
      "cell_type": "markdown",
      "source": [
        "## Test : prepend()"
      ],
      "metadata": {
        "id": "LYRJxIW2Kn3c"
      }
    },
    {
      "cell_type": "code",
      "source": [
        "my_linked_list = LinkedList(1)\n",
        "my_linked_list.append(2)\n",
        "my_linked_list.append(3)\n",
        "my_linked_list.print_list(\"After append\")\n",
        "\n",
        "my_linked_list.prepend(4)\n",
        "my_linked_list.print_list(\"After Prepend\")\n",
        "\n",
        "\n",
        "# Try when there was an empty linked list\n",
        "my_linked_list.make_empty()\n",
        "my_linked_list.prepend(4)\n",
        "my_linked_list.print_list(\"After Prepend when empty list\")"
      ],
      "metadata": {
        "id": "YFcocCKXxFF0",
        "colab": {
          "base_uri": "https://localhost:8080/"
        },
        "outputId": "c0cd2069-baa4-4b0c-e297-83aa34e905d8"
      },
      "execution_count": null,
      "outputs": [
        {
          "output_type": "stream",
          "name": "stdout",
          "text": [
            "--------\n",
            "After append\n",
            "--------\n",
            "1\n",
            "2\n",
            "3\n",
            "--------\n",
            "After Prepend\n",
            "--------\n",
            "4\n",
            "1\n",
            "2\n",
            "3\n",
            "--------\n",
            "After Prepend when empty list\n",
            "--------\n",
            "4\n"
          ]
        }
      ]
    },
    {
      "cell_type": "markdown",
      "source": [
        "## Test : pop_first()"
      ],
      "metadata": {
        "id": "u6wgHK7yUPMk"
      }
    },
    {
      "cell_type": "code",
      "source": [
        "# create an object with arbitrary element\n",
        "my_linked_list = LinkedList(99)\n",
        "\n",
        "# del my_linked_list\n",
        "if my_linked_list is not None:\n",
        "    del my_linked_list\n",
        "\n",
        "# first append\n",
        "my_linked_list = LinkedList(1)\n",
        "my_linked_list.append(2)\n",
        "my_linked_list.append(3)\n",
        "my_linked_list.print_list(\"First append\")\n",
        "\n",
        "# now pop\n",
        "popped_item = my_linked_list.pop_first()\n",
        "print(\"popped item = \",popped_item.value)\n",
        "\n",
        "my_linked_list.print_list(\"after pop\")"
      ],
      "metadata": {
        "colab": {
          "base_uri": "https://localhost:8080/"
        },
        "id": "V6-bLz0fKnCF",
        "outputId": "cd5519f0-9b41-4581-8cc9-9d62713d0d91"
      },
      "execution_count": null,
      "outputs": [
        {
          "output_type": "stream",
          "name": "stdout",
          "text": [
            "--------\n",
            "First append\n",
            "--------\n",
            "1\n",
            "2\n",
            "3\n",
            "popped item =  1\n",
            "--------\n",
            "after pop\n",
            "--------\n",
            "2\n",
            "3\n"
          ]
        }
      ]
    },
    {
      "cell_type": "markdown",
      "source": [
        "## Test : get(self,index) - get the node at index"
      ],
      "metadata": {
        "id": "CG0ollhDK7CB"
      }
    },
    {
      "cell_type": "code",
      "source": [
        "# create an object with arbitrary element\n",
        "my_linked_list = LinkedList(99)\n",
        "\n",
        "# del my_linked_list\n",
        "if my_linked_list is not None:\n",
        "    del my_linked_list\n",
        "\n",
        "# first append\n",
        "my_linked_list = LinkedList(0)\n",
        "my_linked_list.append(1)\n",
        "my_linked_list.append(2)\n",
        "my_linked_list.append(3)\n",
        "my_linked_list.print_list(\"List Created\")\n",
        "\n",
        "# now pop\n",
        "# node_2 = my_linked_list.get(2)\n",
        "# print(\"node_2 = \",node_2.value)\n",
        "print('-------')\n",
        "print(\"node 2 : \",my_linked_list.get(2).value)"
      ],
      "metadata": {
        "id": "_PXuNF97KnJm",
        "colab": {
          "base_uri": "https://localhost:8080/"
        },
        "outputId": "e96726e6-bd3d-4234-e845-52aa053c20a9"
      },
      "execution_count": null,
      "outputs": [
        {
          "output_type": "stream",
          "name": "stdout",
          "text": [
            "--------\n",
            "List Created\n",
            "--------\n",
            "0\n",
            "1\n",
            "2\n",
            "3\n",
            "-------\n",
            "node 2 :  2\n"
          ]
        }
      ]
    },
    {
      "cell_type": "markdown",
      "source": [
        "## Test : set_value(index,value)"
      ],
      "metadata": {
        "id": "4hxXShKQUwGe"
      }
    },
    {
      "cell_type": "code",
      "source": [
        "# create an object with arbitrary element\n",
        "my_linked_list = LinkedList(99)\n",
        "\n",
        "# del my_linked_list\n",
        "if my_linked_list is not None:\n",
        "    del my_linked_list\n",
        "\n",
        "# first append\n",
        "my_linked_list = LinkedList(0)\n",
        "my_linked_list.append(1)\n",
        "my_linked_list.append(2)\n",
        "my_linked_list.append(3)\n",
        "my_linked_list.print_list(\"List Created\")\n",
        "\n",
        "my_linked_list.set_value(2,5)\n",
        "my_linked_list.print_list(\"List Updated\")\n"
      ],
      "metadata": {
        "id": "XgHN3pkMUvB9",
        "outputId": "4baf003b-0841-47c9-d748-55dd34f1cf2b",
        "colab": {
          "base_uri": "https://localhost:8080/"
        }
      },
      "execution_count": 31,
      "outputs": [
        {
          "output_type": "stream",
          "name": "stdout",
          "text": [
            "--------\n",
            "List Created\n",
            "--------\n",
            "0\n",
            "1\n",
            "2\n",
            "3\n",
            "--------\n",
            "List Updated\n",
            "--------\n",
            "0\n",
            "1\n",
            "5\n",
            "3\n"
          ]
        }
      ]
    },
    {
      "cell_type": "markdown",
      "source": [
        "## Test : insert(self,index,value)"
      ],
      "metadata": {
        "id": "U007RFm_o7sQ"
      }
    },
    {
      "cell_type": "code",
      "source": [
        "# create an object with arbitrary element\n",
        "my_linked_list = LinkedList(99)\n",
        "\n",
        "# del my_linked_list\n",
        "if my_linked_list is not None:\n",
        "    del my_linked_list\n",
        "\n",
        "# first append\n",
        "my_linked_list = LinkedList(0)\n",
        "my_linked_list.append(1)\n",
        "my_linked_list.append(2)\n",
        "my_linked_list.append(3)\n",
        "my_linked_list.print_list(\"List Created\")\n",
        "\n",
        "my_linked_list.insert(2,10)\n",
        "my_linked_list.print_list(\"List Updated\")\n",
        "\n",
        "# del my_linked_list\n",
        "if my_linked_list is not None:\n",
        "    del my_linked_list\n",
        "\n",
        "\n",
        "my_linked_list = LinkedList(0)\n",
        "my_linked_list.print_list(\"List Created\")\n",
        "my_linked_list.insert(0,50)\n",
        "my_linked_list.print_list(\"List Updated\")"
      ],
      "metadata": {
        "id": "cv7siSvLIKGh",
        "colab": {
          "base_uri": "https://localhost:8080/"
        },
        "outputId": "ad941afa-84de-4499-a568-e1aaa4943321"
      },
      "execution_count": 41,
      "outputs": [
        {
          "output_type": "stream",
          "name": "stdout",
          "text": [
            "--------\n",
            "List Created\n",
            "--------\n",
            "0\n",
            "1\n",
            "2\n",
            "3\n",
            "--------\n",
            "List Updated\n",
            "--------\n",
            "0\n",
            "1\n",
            "2\n",
            "10\n",
            "3\n",
            "--------\n",
            "List Created\n",
            "--------\n",
            "0\n",
            "--------\n",
            "List Updated\n",
            "--------\n",
            "50\n",
            "0\n"
          ]
        }
      ]
    },
    {
      "cell_type": "markdown",
      "source": [
        "## Test : remove(self,index)"
      ],
      "metadata": {
        "id": "uVNqkNdc1f1H"
      }
    },
    {
      "cell_type": "code",
      "source": [
        "my_linked_list = LinkedList(99)\n",
        "\n",
        "# del my_linked_list\n",
        "if my_linked_list is not None:\n",
        "    del my_linked_list\n",
        "\n",
        "# first append\n",
        "my_linked_list = LinkedList(0)\n",
        "my_linked_list.print_list(\"List Created\")\n",
        "\n",
        "removed_node = my_linked_list.remove(0)\n",
        "print(\"removed node = \",removed_node.value)\n",
        "my_linked_list.print_list(\"List Updated\")\n",
        "\n",
        "# del my_linked_list\n",
        "if my_linked_list is not None:\n",
        "    del my_linked_list\n",
        "\n",
        "\n",
        "my_linked_list = LinkedList(0)\n",
        "\n",
        "n = 5\n",
        "for i in range(1,n):\n",
        "    my_linked_list.append(i)\n",
        "\n",
        "my_linked_list.print_list(\"List Created\")\n",
        "\n",
        "removed_node = my_linked_list.remove(2)\n",
        "print(\"removed node = \",removed_node.value)\n",
        "my_linked_list.print_list(\"List Updated\")\n",
        "\n",
        "removed_node = my_linked_list.remove(3)\n",
        "print(\"removed node = \",removed_node.value)\n",
        "my_linked_list.print_list(\"List Updated\")"
      ],
      "metadata": {
        "colab": {
          "base_uri": "https://localhost:8080/"
        },
        "id": "iSqIaVj3pG8D",
        "outputId": "441fee56-cff8-486d-fdc3-6bfd23546b52"
      },
      "execution_count": 55,
      "outputs": [
        {
          "output_type": "stream",
          "name": "stdout",
          "text": [
            "--------\n",
            "List Created\n",
            "--------\n",
            "0\n",
            "removed node =  0\n",
            "--------\n",
            "List Updated\n",
            "--------\n",
            "--------\n",
            "List Created\n",
            "--------\n",
            "0\n",
            "1\n",
            "2\n",
            "3\n",
            "4\n",
            "removed node =  2\n",
            "--------\n",
            "List Updated\n",
            "--------\n",
            "0\n",
            "1\n",
            "3\n",
            "4\n",
            "removed node =  4\n",
            "--------\n",
            "List Updated\n",
            "--------\n",
            "0\n",
            "1\n",
            "3\n"
          ]
        }
      ]
    },
    {
      "cell_type": "code",
      "source": [],
      "metadata": {
        "id": "xz8vgtFe1d8D"
      },
      "execution_count": null,
      "outputs": []
    },
    {
      "cell_type": "code",
      "source": [],
      "metadata": {
        "id": "07dM_BXG1eAl"
      },
      "execution_count": null,
      "outputs": []
    }
  ]
}