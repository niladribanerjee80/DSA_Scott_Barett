{
  "nbformat": 4,
  "nbformat_minor": 0,
  "metadata": {
    "colab": {
      "provenance": [],
      "authorship_tag": "ABX9TyNAfg1cdml5eQ0NHUFSsiXR",
      "include_colab_link": true
    },
    "kernelspec": {
      "name": "python3",
      "display_name": "Python 3"
    },
    "language_info": {
      "name": "python"
    }
  },
  "cells": [
    {
      "cell_type": "markdown",
      "metadata": {
        "id": "view-in-github",
        "colab_type": "text"
      },
      "source": [
        "<a href=\"https://colab.research.google.com/github/niladribanerjee80/DSA_Scott_Barett/blob/main/Section_6_assgn_LL_1_find_middle_node_code.ipynb\" target=\"_parent\"><img src=\"https://colab.research.google.com/assets/colab-badge.svg\" alt=\"Open In Colab\"/></a>"
      ]
    },
    {
      "cell_type": "markdown",
      "source": [
        "# find_middle_node"
      ],
      "metadata": {
        "id": "QemElIXzzPoA"
      }
    },
    {
      "cell_type": "markdown",
      "source": [
        "## Code"
      ],
      "metadata": {
        "id": "daTjGul04HXY"
      }
    },
    {
      "cell_type": "code",
      "source": [
        "class Node:\n",
        "    def __init__(self, value):\n",
        "        self.value = value\n",
        "        self.next = None\n",
        "\n",
        "class LinkedList:\n",
        "    def __init__(self, value):\n",
        "        new_node = Node(value)\n",
        "        self.head = new_node\n",
        "        self.tail = new_node\n",
        "\n",
        "\n",
        "    def append(self, value):\n",
        "        new_node = Node(value)\n",
        "        if self.head == None:\n",
        "            self.head = new_node\n",
        "            self.tail = new_node\n",
        "        else:\n",
        "            self.tail.next = new_node\n",
        "            self.tail = new_node\n",
        "        return True\n",
        "\n",
        "\n",
        "    def find_middle_node(self):\n",
        "\n",
        "        slow_pointer = self.head\n",
        "        fast_pointer = self.head\n",
        "\n",
        "        while fast_pointer.next is not None:\n",
        "            slow_pointer = slow_pointer.next\n",
        "\n",
        "            if fast_pointer.next is not None:\n",
        "                fast_pointer = fast_pointer.next\n",
        "\n",
        "            if fast_pointer.next is not None:\n",
        "                fast_pointer = fast_pointer.next\n",
        "\n",
        "        return slow_pointer"
      ],
      "metadata": {
        "id": "DcyNW9BRtjXp"
      },
      "execution_count": null,
      "outputs": []
    },
    {
      "cell_type": "markdown",
      "source": [
        "# Test Cases"
      ],
      "metadata": {
        "id": "hLKEyG4i39Ov"
      }
    },
    {
      "cell_type": "markdown",
      "source": [
        "## Odd number of Nodes"
      ],
      "metadata": {
        "id": "H_ZnYHbH4AlB"
      }
    },
    {
      "cell_type": "code",
      "source": [
        "my_linked_list = LinkedList(1)\n",
        "my_linked_list.append(2)\n",
        "my_linked_list.append(3)\n",
        "my_linked_list.append(4)\n",
        "my_linked_list.append(5)\n",
        "\n",
        "print( my_linked_list.find_middle_node().value )"
      ],
      "metadata": {
        "colab": {
          "base_uri": "https://localhost:8080/"
        },
        "id": "E1GT4hBNvXH5",
        "outputId": "fc787ca0-9aea-4c88-d141-db87ce0c96da"
      },
      "execution_count": null,
      "outputs": [
        {
          "output_type": "stream",
          "name": "stdout",
          "text": [
            "3\n"
          ]
        }
      ]
    },
    {
      "cell_type": "markdown",
      "source": [
        "## Even Number of Nodes"
      ],
      "metadata": {
        "id": "dfC6jgky4DLS"
      }
    },
    {
      "cell_type": "code",
      "source": [
        "# even number of node\n",
        "my_linked_list = LinkedList(1)\n",
        "my_linked_list.append(2)\n",
        "my_linked_list.append(3)\n",
        "my_linked_list.append(4)\n",
        "my_linked_list.append(5)\n",
        "my_linked_list.append(6)\n",
        "my_linked_list.append(7)\n",
        "my_linked_list.append(8)\n",
        "\n",
        "print( my_linked_list.find_middle_node().value )"
      ],
      "metadata": {
        "colab": {
          "base_uri": "https://localhost:8080/"
        },
        "id": "U_iW7gGlwUI-",
        "outputId": "22561b5c-39d8-4e29-affb-a0d463aaed10"
      },
      "execution_count": null,
      "outputs": [
        {
          "output_type": "stream",
          "name": "stdout",
          "text": [
            "5\n"
          ]
        }
      ]
    }
  ]
}