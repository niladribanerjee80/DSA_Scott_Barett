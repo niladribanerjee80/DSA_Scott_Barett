{
  "nbformat": 4,
  "nbformat_minor": 0,
  "metadata": {
    "colab": {
      "provenance": [],
      "include_colab_link": true
    },
    "kernelspec": {
      "name": "python3",
      "display_name": "Python 3"
    },
    "language_info": {
      "name": "python"
    }
  },
  "cells": [
    {
      "cell_type": "markdown",
      "metadata": {
        "id": "view-in-github",
        "colab_type": "text"
      },
      "source": [
        "<a href=\"https://colab.research.google.com/github/niladribanerjee80/DSA_Scott_Barett/blob/main/Section_6_assgn_LL_1_find_middle_node_req.ipynb\" target=\"_parent\"><img src=\"https://colab.research.google.com/assets/colab-badge.svg\" alt=\"Open In Colab\"/></a>"
      ]
    },
    {
      "cell_type": "markdown",
      "source": [
        "# Requirements : find_middle_node\n",
        "\n",
        "---\n",
        "\n",
        "Implement the find_middle_node method for the LinkedList class.\n",
        "Note: this LinkedList implementation does not have a length member variable.\n",
        "\n",
        "\n",
        "\n",
        "```\n",
        "class Node:\n",
        "    def __init__(self, value):\n",
        "        self.value = value\n",
        "        self.next = None\n",
        "        \n",
        "\n",
        "class LinkedList:\n",
        "    def __init__(self, value):\n",
        "        new_node = Node(value)\n",
        "        self.head = new_node\n",
        "        self.tail = new_node\n",
        "\n",
        "        \n",
        "    def append(self, value):\n",
        "        new_node = Node(value)\n",
        "        if self.head == None:\n",
        "            self.head = new_node\n",
        "            self.tail = new_node\n",
        "        else:\n",
        "            self.tail.next = new_node\n",
        "            self.tail = new_node\n",
        "        return True\n",
        "\n",
        "    def find_middle_node(self):\n",
        "    \t<< Your code >>\n",
        "```\n",
        "Keep in mind the following requirements:\n",
        "\n",
        "* If the linked list has an even number of nodes, return the first node of the second half of the list.\n",
        "\n",
        "* The method should use a two-pointer approach, where one pointer (slow) moves one node at a time and the other pointer (fast) moves two nodes at a time.\n",
        "\n",
        "* When the fast pointer reaches the end of the list or has no next node, the slow pointer should be at the middle node of the list.\n",
        "\n",
        "* The method should return the middle node when the number of nodes is odd or the first node of the second half of the list if the list has an even number of nodes.\n",
        "\n",
        "* The method should only traverse the linked list once. In other words, you can only use one loop.\n",
        "\n",
        "\n",
        "\n",
        "\n"
      ],
      "metadata": {
        "id": "V-zSQS3w_I6C"
      }
    },
    {
      "cell_type": "code",
      "source": [],
      "metadata": {
        "id": "QtUDyKFiAG_E"
      },
      "execution_count": null,
      "outputs": []
    },
    {
      "cell_type": "markdown",
      "source": [
        "# Solution pack\n",
        "\n",
        "\n",
        "---\n",
        "\n",
        "\n",
        "\n",
        "1.   **Requirements** [mandatory]\n",
        " - File name : Section_6_assgn_LL_1_find_middle_node_**req**.ipynb (this file)\n",
        " - You do not need to create this file, this will be shared with you in the below location\n",
        " - Repository : < >\n",
        " - Branch : < >\n",
        " - Note : Download the req file and upload in Colab for images embedded inside the files to work fine. Do not use \"Open in Colab\" link on the file to look into the requirements, you may miss out the images embedded inside it\n",
        "\n",
        "2.   **Solution Anatomy** [generally Optional, but good to have], in this case mandatory\n",
        " - File name : Section_6_assgn_LL_1_find_middle_node_**soln**\n",
        " - extension = .ods/xlsx/xls/jpg/png/jpeg/doc/docx/ods\n",
        "\n",
        "    * ensure if you are adding pictures, it is clear enough to read\n",
        "    * for multiple files - add soln_1, soln_2 etc.\n",
        "\n",
        "3. **Solution Code** [mandatory]\n",
        " - File name : Section_6_assgn_LL_1_find_middle_node_**code**.ipynb\n",
        " - Repository :\n",
        " - Branch : your name\n",
        "\n",
        "**Note**\n",
        "- You need to submit only\n",
        "    - 2 (optional) and\n",
        "    - 3 (mandatory)\n",
        "\n"
      ],
      "metadata": {
        "id": "Y_LlhwtvA1Ph"
      }
    },
    {
      "cell_type": "code",
      "source": [],
      "metadata": {
        "id": "AMxavtZlDTl5"
      },
      "execution_count": null,
      "outputs": []
    },
    {
      "cell_type": "markdown",
      "source": [
        "# How to use Headers in your code file"
      ],
      "metadata": {
        "id": "DpJdHS-AF4HH"
      }
    },
    {
      "cell_type": "markdown",
      "source": [
        "# Section 6 : Has Loop\n",
        "\n",
        "\n"
      ],
      "metadata": {
        "id": "Oa6tWHSJCH76"
      }
    },
    {
      "cell_type": "markdown",
      "source": [
        "## Your Code"
      ],
      "metadata": {
        "id": "ni3_kpZIGCr_"
      }
    },
    {
      "cell_type": "markdown",
      "source": [
        "## Test case 1 - what is it\n",
        "* ensure you run the test cases before submission"
      ],
      "metadata": {
        "id": "Y5gTkPjbGQdA"
      }
    },
    {
      "cell_type": "markdown",
      "source": [
        "## Test case 2 - what is it\n",
        "* ensure you run the test cases before submission"
      ],
      "metadata": {
        "id": "SfBMIoKeGf33"
      }
    },
    {
      "cell_type": "code",
      "source": [],
      "metadata": {
        "id": "wz9CgywPDShb"
      },
      "execution_count": null,
      "outputs": []
    },
    {
      "cell_type": "markdown",
      "source": [
        "# How to Save your codes in GitHub\n",
        "\n",
        "* **Step** : File -> Save a copy in GitHub\n",
        "* **Repository** : < will be provided to you >\n",
        "* **Branch** : < your name >\n",
        "* **Commit message** : for 1st time submission, keep it what comes by default. for next iterations if applicable, ensure you provide the change description in brief\n",
        "* **CheckBox** : Include a Link to Colab (keep this checkbox ticked all the time)\n"
      ],
      "metadata": {
        "id": "IK74j5NLC0ch"
      }
    },
    {
      "cell_type": "code",
      "source": [],
      "metadata": {
        "id": "RbUEX5r5CG2c"
      },
      "execution_count": null,
      "outputs": []
    }
  ]
}