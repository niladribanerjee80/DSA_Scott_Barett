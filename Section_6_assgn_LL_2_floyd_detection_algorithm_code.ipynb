{
  "nbformat": 4,
  "nbformat_minor": 0,
  "metadata": {
    "colab": {
      "provenance": [],
      "authorship_tag": "ABX9TyN+0q6gcrY3GvbeQ0HfJ1ql",
      "include_colab_link": true
    },
    "kernelspec": {
      "name": "python3",
      "display_name": "Python 3"
    },
    "language_info": {
      "name": "python"
    }
  },
  "cells": [
    {
      "cell_type": "markdown",
      "metadata": {
        "id": "view-in-github",
        "colab_type": "text"
      },
      "source": [
        "<a href=\"https://colab.research.google.com/github/niladribanerjee80/DSA_Scott_Barett/blob/main/Section_6_assgn_LL_2_floyd_detection_algorithm_code.ipynb\" target=\"_parent\"><img src=\"https://colab.research.google.com/assets/colab-badge.svg\" alt=\"Open In Colab\"/></a>"
      ]
    },
    {
      "cell_type": "code",
      "execution_count": null,
      "metadata": {
        "id": "c2Y-cQPxKd_K"
      },
      "outputs": [],
      "source": [
        "class Node:\n",
        "    def __init__(self, value):\n",
        "        self.value = value\n",
        "        self.next = None\n",
        "\n",
        "class LinkedList:\n",
        "    def __init__(self, value):\n",
        "        new_node = Node(value)\n",
        "        self.head = new_node\n",
        "        self.tail = new_node\n",
        "        self.length = 1\n",
        "\n",
        "    # prints all values of linked list\n",
        "    def print_list(self,msg):\n",
        "        print('--------')\n",
        "        print(msg)\n",
        "        print('--------')\n",
        "        # get the 1st element\n",
        "        temp = self.head\n",
        "\n",
        "        # traverse the list\n",
        "        while temp != self.tail:\n",
        "            print(temp.value)\n",
        "            temp = temp.next\n",
        "        else:\n",
        "            print(temp.value)\n",
        "            print(\"repeat value in the cycle : \",temp.next.value)\n",
        "\n",
        "    def append(self, value):\n",
        "        new_node = Node(value)\n",
        "        if self.length == 0:\n",
        "            self.head = new_node\n",
        "            self.tail = new_node\n",
        "        else:\n",
        "            self.tail.next = new_node\n",
        "            self.tail = new_node\n",
        "        self.length += 1\n",
        "        return True\n",
        "\n",
        "    def get(self,index):\n",
        "        # return the node at that index\n",
        "        if index < 0 or index >= self.length:\n",
        "            return None\n",
        "\n",
        "        if self.length == 0:\n",
        "            return None\n",
        "\n",
        "        temp = self.head\n",
        "\n",
        "        for _ in range(index):\n",
        "            temp = temp.next\n",
        "\n",
        "        return temp\n",
        "\n",
        "    def get_value(self,value):\n",
        "        # return the node at that index\n",
        "        if self.length == 0:\n",
        "            return None\n",
        "\n",
        "        if value is None:\n",
        "            return None\n",
        "\n",
        "        temp = self.head\n",
        "\n",
        "        for _ in range(self.length):\n",
        "            if temp.value == value:\n",
        "                return temp\n",
        "            else:\n",
        "                temp = temp.next\n",
        "        else:\n",
        "            return False\n",
        "\n",
        "    def has_loop(self):\n",
        "        slow = self.head\n",
        "        fast = self.head\n",
        "        while fast is not None and fast.next is not None:\n",
        "            slow = slow.next\n",
        "            fast = fast.next.next\n",
        "            if slow == fast:\n",
        "                return True\n",
        "                # return fast # if meet point is reqd\n",
        "        return False\n",
        "\n",
        "    # << my attempt - which is working fine >>\n",
        "\n",
        "    # def has_loop(self):\n",
        "\n",
        "    #     slow = self.head\n",
        "    #     fast = self.head\n",
        "\n",
        "    #     if slow.next is not None:\n",
        "    #         slow = slow.next\n",
        "    #     else:\n",
        "    #         return False\n",
        "\n",
        "    #     # 1st movement for fast\n",
        "    #     if fast.next is not None:\n",
        "    #         fast = fast.next\n",
        "    #     else:\n",
        "    #         return False\n",
        "\n",
        "    #     # 2nd movement for fast\n",
        "    #     if fast.next is not None:\n",
        "    #         fast = fast.next\n",
        "    #     else:\n",
        "    #         return False\n",
        "\n",
        "    #     while (slow != fast):\n",
        "\n",
        "    #         if slow.next is not None:\n",
        "    #             slow = slow.next\n",
        "    #         else:\n",
        "    #             return False\n",
        "\n",
        "    #         # 1st movement for fast\n",
        "    #         if fast.next is not None:\n",
        "    #             fast = fast.next\n",
        "    #         else:\n",
        "    #             return False\n",
        "\n",
        "    #         # 2nd movement for fast\n",
        "    #         if fast.next is not None:\n",
        "    #             fast = fast.next\n",
        "    #         else:\n",
        "    #             return False\n",
        "    #     else:\n",
        "    #         # return False if detect_first_node is not there\n",
        "    #         return fast\n",
        "\n",
        "    def detect_first_node(self, meet_point):\n",
        "        slow = self.head\n",
        "        fast = meet_point\n",
        "\n",
        "        while (slow != fast ):\n",
        "\n",
        "            if slow.next is not None:\n",
        "                slow = slow.next\n",
        "            else:\n",
        "                return False\n",
        "\n",
        "            if fast.next is not None:\n",
        "                fast = fast.next\n",
        "            else:\n",
        "                return False\n",
        "        else:\n",
        "            return fast\n"
      ]
    },
    {
      "cell_type": "code",
      "source": [
        "# case 1 :\n",
        "my_linked_list = LinkedList(11)\n",
        "my_linked_list.append(3)\n",
        "my_linked_list.append(23)\n",
        "my_linked_list.append(7)\n",
        "node_7 = my_linked_list.get(3)\n",
        "node_7.next = my_linked_list.head\n",
        "\n",
        "my_linked_list.print_list(\"List Created\")\n",
        "print(\"\\n\")\n",
        "print(\"Is there a a Loop ? \")\n",
        "print(\"---------\")\n",
        "my_linked_list.has_loop()"
      ],
      "metadata": {
        "colab": {
          "base_uri": "https://localhost:8080/"
        },
        "id": "undqCus0MUlg",
        "outputId": "cadc779f-ba71-4c2a-ef51-88f715d515e6"
      },
      "execution_count": null,
      "outputs": [
        {
          "output_type": "stream",
          "name": "stdout",
          "text": [
            "--------\n",
            "List Created\n",
            "--------\n",
            "11\n",
            "3\n",
            "23\n",
            "7\n",
            "repeat value in the cycle :  11\n",
            "\n",
            "\n",
            "Is there a a Loop ? \n",
            "---------\n"
          ]
        },
        {
          "output_type": "execute_result",
          "data": {
            "text/plain": [
              "True"
            ]
          },
          "metadata": {},
          "execution_count": 2
        }
      ]
    },
    {
      "cell_type": "code",
      "source": [
        "# case 2 :\n",
        "my_linked_list = LinkedList(11)\n",
        "my_linked_list.append(3)\n",
        "my_linked_list.append(23)\n",
        "my_linked_list.append(7)\n",
        "my_linked_list.append(4)\n",
        "node_7 = my_linked_list.get(3)\n",
        "node_7.next = my_linked_list.head\n",
        "\n",
        "print(\"Is there a a Loop ? \")\n",
        "print(\"---------\")\n",
        "my_linked_list.has_loop()"
      ],
      "metadata": {
        "colab": {
          "base_uri": "https://localhost:8080/"
        },
        "id": "tTxttW6ee4J7",
        "outputId": "8ec53c9e-0f40-4bc2-ba67-d718039f07fb"
      },
      "execution_count": null,
      "outputs": [
        {
          "output_type": "stream",
          "name": "stdout",
          "text": [
            "Is there a a Loop ? \n",
            "---------\n"
          ]
        },
        {
          "output_type": "execute_result",
          "data": {
            "text/plain": [
              "True"
            ]
          },
          "metadata": {},
          "execution_count": 3
        }
      ]
    },
    {
      "cell_type": "code",
      "source": [
        "# case 3 :\n",
        "my_linked_list = LinkedList(4)\n",
        "my_linked_list.append(11)\n",
        "my_linked_list.append(3)\n",
        "my_linked_list.append(23)\n",
        "my_linked_list.append(7)\n",
        "node_7 = my_linked_list.get(4) # node = 7\n",
        "node_7.next = my_linked_list.get(1) # node = 11\n",
        "my_linked_list.tail = None\n",
        "\n",
        "print(\"Is there a a Loop ? \")\n",
        "print(\"---------\")\n",
        "my_linked_list.has_loop()"
      ],
      "metadata": {
        "colab": {
          "base_uri": "https://localhost:8080/"
        },
        "id": "4ajz4mazfOPe",
        "outputId": "0a9cba92-a86a-4488-dfda-07399386883f"
      },
      "execution_count": null,
      "outputs": [
        {
          "output_type": "stream",
          "name": "stdout",
          "text": [
            "Is there a a Loop ? \n",
            "---------\n"
          ]
        },
        {
          "output_type": "execute_result",
          "data": {
            "text/plain": [
              "True"
            ]
          },
          "metadata": {},
          "execution_count": 4
        }
      ]
    },
    {
      "cell_type": "code",
      "source": [
        "# case 3 : Detect first node\n",
        "# correct the code in has_loop to return the meet point first\n",
        "\n",
        "my_linked_list = LinkedList(4)\n",
        "my_linked_list.append(11)\n",
        "my_linked_list.append(3)\n",
        "my_linked_list.append(23)\n",
        "my_linked_list.append(7)\n",
        "node_7 = my_linked_list.get(4) # node = 7\n",
        "node_7.next = my_linked_list.get(1) # node = 11\n",
        "my_linked_list.tail = None\n",
        "\n",
        "meet_point = my_linked_list.has_loop()\n",
        "\n",
        "if meet_point:\n",
        "    print(\"Cycle first node : \",my_linked_list.detect_first_node(meet_point).value)"
      ],
      "metadata": {
        "colab": {
          "base_uri": "https://localhost:8080/"
        },
        "id": "0ri9pG-xjBYk",
        "outputId": "474d1dda-a870-4263-d444-fd992ad02790"
      },
      "execution_count": null,
      "outputs": [
        {
          "output_type": "stream",
          "name": "stdout",
          "text": [
            "Cycle first node :  11\n"
          ]
        }
      ]
    },
    {
      "cell_type": "code",
      "source": [],
      "metadata": {
        "id": "VHZzwXzLkVy_"
      },
      "execution_count": null,
      "outputs": []
    }
  ]
}