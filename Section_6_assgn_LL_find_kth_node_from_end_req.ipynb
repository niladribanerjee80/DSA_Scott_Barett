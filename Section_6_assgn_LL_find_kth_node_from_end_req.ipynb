{
  "nbformat": 4,
  "nbformat_minor": 0,
  "metadata": {
    "colab": {
      "provenance": [],
      "include_colab_link": true
    },
    "kernelspec": {
      "name": "python3",
      "display_name": "Python 3"
    },
    "language_info": {
      "name": "python"
    }
  },
  "cells": [
    {
      "cell_type": "markdown",
      "metadata": {
        "id": "view-in-github",
        "colab_type": "text"
      },
      "source": [
        "<a href=\"https://colab.research.google.com/github/niladribanerjee80/DSA_Scott_Barett/blob/main/Section_6_assgn_LL_find_kth_node_from_end_req.ipynb\" target=\"_parent\"><img src=\"https://colab.research.google.com/assets/colab-badge.svg\" alt=\"Open In Colab\"/></a>"
      ]
    },
    {
      "cell_type": "markdown",
      "source": [
        "# Requirements : Find kth node from the end\n",
        "\n",
        "---\n",
        "\n",
        "Implement the find_kth_from_end function, which takes the LinkedList (ll) and an integer k as input, and returns the k-th node from the end of the linked list WITHOUT USING LENGTH.\n",
        "\n",
        "Given this LinkedList:\n",
        "\n",
        "1 -> 2 -> 3 -> 4\n",
        "\n",
        "If k=1 then return the first node from the end (the last node) which contains the value of 4.\n",
        "\n",
        "If k=2 then return the second node from the end which contains the value of 3, etc.\n",
        "\n",
        "If the index is out of bounds, the program should return None.\n",
        "\n",
        "The find_kth_from_end function should follow these requirements:\n",
        "\n",
        "The function should utilize two pointers, slow and fast, initialized to the head of the linked list.\n",
        "\n",
        "The fast pointer should move k nodes ahead in the list.\n",
        "\n",
        "If the fast pointer becomes None before moving k nodes, the function should return None, as the list is shorter than k nodes.\n",
        "\n",
        "The slow and fast pointers should then move forward in the list at the same time until the fast pointer reaches the end of the list.\n",
        "\n",
        "The function should return the slow pointer, which will be at the k-th position from the end of the list.\n",
        "\n"
      ],
      "metadata": {
        "id": "V-zSQS3w_I6C"
      }
    },
    {
      "cell_type": "code",
      "source": [],
      "metadata": {
        "id": "QtUDyKFiAG_E"
      },
      "execution_count": null,
      "outputs": []
    },
    {
      "cell_type": "markdown",
      "source": [
        "# Solution pack\n",
        "\n",
        "\n",
        "---\n",
        "\n",
        "\n",
        "\n",
        "1.   **Requirements** [mandatory]\n",
        " - File name : Section_6_assgn_LL_find_kth_node_from_end_**req**.ipynb (this file)\n",
        " - You do not need to create this file, this will be shared with you in the below location\n",
        " - Repository : < >\n",
        " - Branch : < >\n",
        " - Note : Download the req file and upload in Colab for images embedded inside the files to work fine. Do not use \"Open in Colab\" link on the file to look into the requirements, you may miss out the images embedded inside it\n",
        "\n",
        "2.   **Solution Anatomy** [generally Optional, but good to have], in this case mandatory\n",
        " - File name : Section_6_assgn_LL_find_kth_node_from_end_**soln**\n",
        " - extension = .ods/xlsx/xls/jpg/png/jpeg/doc/docx/ods\n",
        "\n",
        "    * ensure if you are adding pictures, it is clear enough to read\n",
        "    * for multiple files - add soln_1, soln_2 etc.\n",
        "\n",
        "3. **Solution Code** [mandatory]\n",
        " - File name : Section_6_assgn_LL_find_kth_node_from_end_**code**.ipynb\n",
        " - Repository :\n",
        " - Branch : your name\n",
        "\n",
        "**Note**\n",
        "- You need to submit only\n",
        "    - 2 (optional) and\n",
        "    - 3 (mandatory)\n",
        "\n"
      ],
      "metadata": {
        "id": "Y_LlhwtvA1Ph"
      }
    },
    {
      "cell_type": "code",
      "source": [],
      "metadata": {
        "id": "AMxavtZlDTl5"
      },
      "execution_count": null,
      "outputs": []
    },
    {
      "cell_type": "markdown",
      "source": [
        "# How to use Headers in your code file"
      ],
      "metadata": {
        "id": "DpJdHS-AF4HH"
      }
    },
    {
      "cell_type": "markdown",
      "source": [
        "# Find Kth Node from End\n",
        "\n",
        "\n"
      ],
      "metadata": {
        "id": "Oa6tWHSJCH76"
      }
    },
    {
      "cell_type": "markdown",
      "source": [
        "## Your Code"
      ],
      "metadata": {
        "id": "ni3_kpZIGCr_"
      }
    },
    {
      "cell_type": "markdown",
      "source": [
        "## Test case 1 - what is it\n",
        "* ensure you run the test cases before submission"
      ],
      "metadata": {
        "id": "Y5gTkPjbGQdA"
      }
    },
    {
      "cell_type": "markdown",
      "source": [
        "## Test case 2 - what is it\n",
        "* ensure you run the test cases before submission"
      ],
      "metadata": {
        "id": "SfBMIoKeGf33"
      }
    },
    {
      "cell_type": "code",
      "source": [],
      "metadata": {
        "id": "wz9CgywPDShb"
      },
      "execution_count": null,
      "outputs": []
    },
    {
      "cell_type": "markdown",
      "source": [
        "# How to Save your codes in GitHub\n",
        "\n",
        "* **Step** : File -> Save a copy in GitHub\n",
        "* **Repository** : < will be provided to you >\n",
        "* **Branch** : < your name >\n",
        "* **Commit message** : for 1st time submission, keep it what comes by default. for next iterations if applicable, ensure you provide the change description in brief\n",
        "* **CheckBox** : Include a Link to Colab (keep this checkbox ticked all the time)\n"
      ],
      "metadata": {
        "id": "IK74j5NLC0ch"
      }
    },
    {
      "cell_type": "code",
      "source": [],
      "metadata": {
        "id": "RbUEX5r5CG2c"
      },
      "execution_count": null,
      "outputs": []
    }
  ]
}