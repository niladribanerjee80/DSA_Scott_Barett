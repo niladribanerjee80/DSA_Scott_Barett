{
  "nbformat": 4,
  "nbformat_minor": 0,
  "metadata": {
    "colab": {
      "provenance": [],
      "authorship_tag": "ABX9TyMX5f4w2xEvUmV9twz71kbf",
      "include_colab_link": true
    },
    "kernelspec": {
      "name": "python3",
      "display_name": "Python 3"
    },
    "language_info": {
      "name": "python"
    }
  },
  "cells": [
    {
      "cell_type": "markdown",
      "metadata": {
        "id": "view-in-github",
        "colab_type": "text"
      },
      "source": [
        "<a href=\"https://colab.research.google.com/github/niladribanerjee80/DSA_Scott_Barett/blob/main/Section_6_assgn_LL_has_loop_req.ipynb\" target=\"_parent\"><img src=\"https://colab.research.google.com/assets/colab-badge.svg\" alt=\"Open In Colab\"/></a>"
      ]
    },
    {
      "cell_type": "markdown",
      "source": [
        "# LL: Has Loop\n",
        "\n",
        "---\n",
        "\n",
        "### **Requirements**\n",
        "\n",
        "* Write a method called has_loop that is part of the linked list class.<br>\n",
        " - The method should be able to detect if there is a cycle or loop present in the linked list.\n",
        "* You are required to use Floyd's cycle-finding algorithm (also known as the \"tortoise and the hare\" algorithm) to detect the loop.\n",
        "\n",
        "\n",
        "* This algorithm uses two pointers:\n",
        " - a slow pointer and\n",
        " - a fast pointer\n",
        "\n",
        " The slow pointer moves one step at a time, while the fast pointer moves two steps at a time.\n",
        "\n",
        " If there is a loop in the linked list, the two pointers will eventually meet at some point.\n",
        "\n",
        " If there is no loop, the fast pointer will reach the end of the list.\n",
        "\n",
        "### **Guidelines**\n",
        "\n",
        "* Create two pointers, slow and fast, both initially pointing to the head of the linked list.\n",
        "\n",
        "* Traverse the list with the slow pointer moving one step at a time, while the fast pointer moves two steps at a time.\n",
        "\n",
        "* If there is a loop in the list, the fast pointer will eventually meet the slow pointer. If this occurs, the method should return True.\n",
        "\n",
        "* If the fast pointer reaches the end of the list or encounters a None value, it means there is no loop in the list. In this case, the method should return False.\n",
        "\n",
        "\n"
      ],
      "metadata": {
        "id": "V-zSQS3w_I6C"
      }
    },
    {
      "cell_type": "code",
      "source": [],
      "metadata": {
        "id": "QtUDyKFiAG_E"
      },
      "execution_count": null,
      "outputs": []
    },
    {
      "cell_type": "markdown",
      "source": [
        "# Overall Guidelines\n",
        "\n",
        "\n",
        "---\n",
        "\n",
        "\n",
        "\n",
        "1.   **Requirements** [mandatory]\n",
        " - File name : Section_6_assgn_LL_has_loop_**req**.ipynb (this file)\n",
        " - Repository : < >\n",
        " - Branch : < >\n",
        "\n",
        "2.   **Solution Anatomy** [Optional, but good to have]\n",
        "- File name : Section_6_assgn_LL_has_loop_**soln**\n",
        "- extension = .ods/xlsx/xls/jpg/png/jpeg/doc/docx/ods\n",
        "\n",
        "    * ensure if you are adding pictures, it is clear enough to read\n",
        "    * for multiple files - add soln_1, soln_2 etc.\n",
        "\n",
        "3. **Solution Code** [mandatory]\n",
        " - File name : Section_6_assgn_LL_has_loop_**code**.ipynb\n",
        " - Repository :\n",
        " - Branch : your name\n",
        "\n"
      ],
      "metadata": {
        "id": "Y_LlhwtvA1Ph"
      }
    },
    {
      "cell_type": "code",
      "source": [],
      "metadata": {
        "id": "AMxavtZlDTl5"
      },
      "execution_count": null,
      "outputs": []
    },
    {
      "cell_type": "markdown",
      "source": [
        "# **How to use Headers in your code file**\n",
        "\n",
        "\n",
        "---\n",
        "\n",
        "\n",
        "# Section 6 : Has Loop\n",
        "## Your Code\n",
        "\n",
        "---\n",
        "\n",
        "# Test cases\n",
        "## Test case 1 - what is it (in brief)\n",
        "* Run the Test cases before you save in GitHub\n",
        "\n",
        "## Test case 2 - what is it (in brief)\n",
        "* Run the Test cases before you save in GitHub\n",
        "\n",
        "---\n",
        "\n",
        "# Notes - Optional\n",
        "Any notes you want to add\n",
        "\n",
        "\n"
      ],
      "metadata": {
        "id": "Oa6tWHSJCH76"
      }
    },
    {
      "cell_type": "code",
      "source": [],
      "metadata": {
        "id": "wz9CgywPDShb"
      },
      "execution_count": null,
      "outputs": []
    },
    {
      "cell_type": "markdown",
      "source": [
        "# How to Save your codes in GitHub\n",
        "\n",
        "* **Step** : File -> Save a copy in GitHub\n",
        "* **Repository** : < will be provided to you >\n",
        "* **Branch** : < your name >\n",
        "* **Commit message** : for 1st time submission, keep it what comes by default. for next iterations if applicable, ensure you provide the change description in brief\n",
        "* **CheckBox** : Include a Link to Colab (keep this checkbox ticked all the time)\n"
      ],
      "metadata": {
        "id": "IK74j5NLC0ch"
      }
    },
    {
      "cell_type": "code",
      "source": [],
      "metadata": {
        "id": "RbUEX5r5CG2c"
      },
      "execution_count": null,
      "outputs": []
    }
  ]
}