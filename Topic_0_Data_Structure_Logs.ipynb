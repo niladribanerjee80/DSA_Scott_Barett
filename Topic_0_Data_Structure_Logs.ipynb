{
  "nbformat": 4,
  "nbformat_minor": 0,
  "metadata": {
    "colab": {
      "provenance": [],
      "include_colab_link": true
    },
    "kernelspec": {
      "name": "python3",
      "display_name": "Python 3"
    },
    "language_info": {
      "name": "python"
    }
  },
  "cells": [
    {
      "cell_type": "markdown",
      "metadata": {
        "id": "view-in-github",
        "colab_type": "text"
      },
      "source": [
        "<a href=\"https://colab.research.google.com/github/niladribanerjee80/DSA_Scott_Barett/blob/main/Topic_0_Data_Structure_Logs.ipynb\" target=\"_parent\"><img src=\"https://colab.research.google.com/assets/colab-badge.svg\" alt=\"Open In Colab\"/></a>"
      ]
    },
    {
      "cell_type": "markdown",
      "source": [
        "# SLL"
      ],
      "metadata": {
        "id": "5aoC-vREHMkA"
      }
    },
    {
      "cell_type": "code",
      "execution_count": null,
      "metadata": {
        "id": "LdqHoFXAHJEa"
      },
      "outputs": [],
      "source": [
        "# a. Teaching materials\n",
        "    # File : Topic_1_SLL_artifacts.ods                      >> Done\n",
        "    # Ref : Topic_1_SLL.ipynb                               >> Done\n",
        "\n",
        "# b. classroom exercises\n",
        "    # need to prepare the file\n",
        "    # File : Topic_1_SLL_classroom_exercises.ipynb          >> Pending\n",
        "\n",
        "# c. assignment materials\n",
        "    # File : Topic_1_SLL_assignments.ipynb                  >> Partial\n",
        "\n",
        "# d. assignment artefacts\n",
        "    # File : Topic_1_SLL_assignments_artifacts.ods          >> Ready, need to revisit\n",
        "\n",
        "# e. assignment solutions\n",
        "    # File : Topic_1_SLL_assignments_solutions.ipynb.       >> Partial"
      ]
    },
    {
      "cell_type": "markdown",
      "source": [
        "# DLL"
      ],
      "metadata": {
        "id": "VvJN0P5iHcoI"
      }
    },
    {
      "cell_type": "code",
      "source": [
        "# a. Teaching materials\n",
        "    # OneNote : Topic_2_DLL_artifacts.                      >> WIP\n",
        "    # Ref : Topic_2_DLL.ipynb                               >> Done\n",
        "\n",
        "# b. classroom exercises\n",
        "    # File : Topic_2_DLL_classroom_exercises.ipynb          >> Pending, Thu, 19-Sep-2024\n",
        "\n",
        "# c. assignment materials\n",
        "    # File : Topic_2_DLL_assignments.ipynb                  >> Done\n",
        "\n",
        "# d. assignment artefacts                                   >> Done, Wed 18-Sep-2024\n",
        "\n",
        "# e. assignment solutions                                   >> Done, Wed 18-Sep-2024"
      ],
      "metadata": {
        "id": "6qu-mdDTHdbw"
      },
      "execution_count": null,
      "outputs": []
    },
    {
      "cell_type": "markdown",
      "source": [
        "# Stacks and Queues"
      ],
      "metadata": {
        "id": "APHU1Srrb8ng"
      }
    },
    {
      "cell_type": "code",
      "source": [
        "# a. Teaching materials\n",
        "    # OneNote : Topic_3_Stacks_artifacts                    >> Done, Thu, 19-Sep-2024\n",
        "    # Ref : Topic_3_Stacks.ipynb                            >> Done, Thu, 19-Sep-2024\n",
        "\n",
        "# b. classroom exercises\n",
        "    # File : Topic_3_Stacks_classroom_exercises.ipynb       >> Done, Thu, 19-Sep-2024\n",
        "\n",
        "# c. assignment materials\n",
        "    # File : Topic_3_Stacks_assignments.ipynb                  >> Done, Fri, 20-Sep-2024\n",
        "\n",
        "# d. assignment artefacts\n",
        "    # OneNote : Topic_3_Stacks_assignments_artifacts        >> A little needs to be updated\n",
        "\n",
        "# e. assignment solutions\n",
        "    # File : Topic_3_Stacks_assignments_solutions.ipynb     >> Done, Fri, 20-Sep-2024"
      ],
      "metadata": {
        "id": "uPADjx1tb974"
      },
      "execution_count": null,
      "outputs": []
    },
    {
      "cell_type": "markdown",
      "source": [
        "# Trees"
      ],
      "metadata": {
        "id": "X64s2woqGDT6"
      }
    },
    {
      "cell_type": "code",
      "source": [
        "# a. Teaching materials\n",
        "    # OneNote : Topic_4_Trees_artifacts                    >> Pending\n",
        "    # Ref : Topic_4_Trees.ipynb                            >> Pending\n",
        "\n",
        "# b. classroom exercises\n",
        "    # File : Topic_4_Trees_classroom_exercises.ipynb       >> Pending\n",
        "\n",
        "# c. assignment materials\n",
        "    # File : Topic_4_Trees_assignments.ipynb               >> Pending\n",
        "\n",
        "# d. assignment artefacts\n",
        "    # OneNote : Topic_4_Trees_assignments_artifacts        >> Pending\n",
        "\n",
        "# e. assignment solutions\n",
        "    # File : Topic_4_Trees_assignments_solutions.ipynb     >> Pending"
      ],
      "metadata": {
        "id": "KjgdDDM1GD9M"
      },
      "execution_count": null,
      "outputs": []
    }
  ]
}