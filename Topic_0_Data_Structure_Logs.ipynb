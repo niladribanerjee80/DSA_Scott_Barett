{
  "nbformat": 4,
  "nbformat_minor": 0,
  "metadata": {
    "colab": {
      "provenance": [],
      "authorship_tag": "ABX9TyPYRi7rzVyDKuSoTtRpRpQF",
      "include_colab_link": true
    },
    "kernelspec": {
      "name": "python3",
      "display_name": "Python 3"
    },
    "language_info": {
      "name": "python"
    }
  },
  "cells": [
    {
      "cell_type": "markdown",
      "metadata": {
        "id": "view-in-github",
        "colab_type": "text"
      },
      "source": [
        "<a href=\"https://colab.research.google.com/github/niladribanerjee80/DSA_Scott_Barett/blob/main/Topic_0_Data_Structure_Logs.ipynb\" target=\"_parent\"><img src=\"https://colab.research.google.com/assets/colab-badge.svg\" alt=\"Open In Colab\"/></a>"
      ]
    },
    {
      "cell_type": "markdown",
      "source": [
        "# SLL"
      ],
      "metadata": {
        "id": "5aoC-vREHMkA"
      }
    },
    {
      "cell_type": "code",
      "execution_count": null,
      "metadata": {
        "id": "LdqHoFXAHJEa"
      },
      "outputs": [],
      "source": [
        "# a. Teaching materials\n",
        "    # File : Topic_1_SLL_artifacts.ods                      >> Ready\n",
        "    # Ref : Topic_1_SLL.ipynb                               >> Ready\n",
        "\n",
        "# b. classroom exercises\n",
        "    # need to prepare the file\n",
        "    # File : Topic_1_SLL_classroom_exercises.ipynb          >> Pending\n",
        "\n",
        "# c. assignment materials\n",
        "    # need to update the pending leetcodes into             >> Partial\n",
        "    # File : Topic_1_SLL_assignments.ipynb\n",
        "\n",
        "# d. assignment artefacts                                   >> Ready, need to revisit\n",
        "    # File : Topic_1_SLL_assignments_artifacts.ods\n",
        "\n",
        "# e. assignment solutions                                   >> Partial\n",
        "    # File : Topic_1_SLL_assignments_solutions.ipynb"
      ]
    },
    {
      "cell_type": "markdown",
      "source": [
        "# DLL"
      ],
      "metadata": {
        "id": "VvJN0P5iHcoI"
      }
    },
    {
      "cell_type": "code",
      "source": [
        "# a. Teaching materials\n",
        "    # File : Topic_2_DLL_artifacts.ods                      >> Pending, today\n",
        "    # Ref : Topic_2_DLL.ipynb                               >> Ready\n",
        "\n",
        "# b. classroom exercises\n",
        "    # need to prepare the file                              >> Pending, today\n",
        "    # File : Topic_2_DLL_classroom_exercises.ipynb\n",
        "\n",
        "# c. assignment materials\n",
        "    # File : Topic_2_DLL_assignments.ipynb                  >> Ready\n",
        "\n",
        "# d. assignment artefacts                                   >> Pending, today\n",
        "\n",
        "# e. assignment solutions                                   >> Pending, today"
      ],
      "metadata": {
        "id": "6qu-mdDTHdbw"
      },
      "execution_count": null,
      "outputs": []
    }
  ]
}