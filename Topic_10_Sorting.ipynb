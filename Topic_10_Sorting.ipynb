{
  "nbformat": 4,
  "nbformat_minor": 0,
  "metadata": {
    "colab": {
      "provenance": [],
      "authorship_tag": "ABX9TyNZa6vSgkJcoGn0qFuTUdQo",
      "include_colab_link": true
    },
    "kernelspec": {
      "name": "python3",
      "display_name": "Python 3"
    },
    "language_info": {
      "name": "python"
    }
  },
  "cells": [
    {
      "cell_type": "markdown",
      "metadata": {
        "id": "view-in-github",
        "colab_type": "text"
      },
      "source": [
        "<a href=\"https://colab.research.google.com/github/niladribanerjee80/DSA_Scott_Barett/blob/main/Topic_10_Sorting.ipynb\" target=\"_parent\"><img src=\"https://colab.research.google.com/assets/colab-badge.svg\" alt=\"Open In Colab\"/></a>"
      ]
    },
    {
      "cell_type": "markdown",
      "source": [
        "# Bubble Sort"
      ],
      "metadata": {
        "id": "ViiKMaV0iF7T"
      }
    },
    {
      "cell_type": "code",
      "execution_count": null,
      "metadata": {
        "id": "NG-KRP5viCuv"
      },
      "outputs": [],
      "source": [
        "def bubble_sort(my_list):\n",
        "    n = len(my_list)\n",
        "\n",
        "    for i in range(n):\n",
        "        for j in range(0, n-i-1):\n",
        "            if my_list[j] > my_list[j+1]:\n",
        "                # swap\n",
        "                my_list[j], my_list[j+1] = my_list[j+1], my_list[j]\n",
        "\n",
        "    return my_list"
      ]
    },
    {
      "cell_type": "code",
      "source": [
        "my_list = [4,2,6,5,1,3]\n",
        "my_list = bubble_sort(my_list)\n",
        "print(my_list)"
      ],
      "metadata": {
        "colab": {
          "base_uri": "https://localhost:8080/"
        },
        "id": "tP6sk0hkidRI",
        "outputId": "aaa5fe20-63bf-44fb-9fc2-33b14dbbce05"
      },
      "execution_count": null,
      "outputs": [
        {
          "output_type": "stream",
          "name": "stdout",
          "text": [
            "[1, 2, 3, 4, 5, 6]\n"
          ]
        }
      ]
    },
    {
      "cell_type": "markdown",
      "source": [
        "# Selection Sort"
      ],
      "metadata": {
        "id": "f3Gy7yUp4ECR"
      }
    },
    {
      "cell_type": "code",
      "source": [
        "def selection_sort(my_list):\n",
        "    n = len(my_list)\n",
        "\n",
        "    # run the loop from 0..4 = 5 times\n",
        "    # i starts from 0\n",
        "    for i in range(n-1):\n",
        "        min_index = i\n",
        "\n",
        "        # now run for loop to check if the min_index changes or not\n",
        "        # j needs to start from 1..5\n",
        "        for j in range(i+1,n):\n",
        "            if my_list[j] < my_list[min_index]:\n",
        "                min_index = j\n",
        "\n",
        "        if i != min_index:\n",
        "            # swap operation\n",
        "            my_list[i], my_list[min_index] = my_list[min_index], my_list[i]\n",
        "\n",
        "    return my_list\n"
      ],
      "metadata": {
        "id": "c4oWcO-Vixoe"
      },
      "execution_count": null,
      "outputs": []
    },
    {
      "cell_type": "code",
      "source": [
        "my_list = [4,2,6,5,1,3]\n",
        "my_list = selection_sort(my_list)\n",
        "print(my_list)"
      ],
      "metadata": {
        "colab": {
          "base_uri": "https://localhost:8080/"
        },
        "id": "XInUXp_p49dl",
        "outputId": "2a0d869b-0bae-4d0e-cfce-1636703d45b4"
      },
      "execution_count": null,
      "outputs": [
        {
          "output_type": "stream",
          "name": "stdout",
          "text": [
            "[1, 2, 3, 4, 5, 6]\n"
          ]
        }
      ]
    },
    {
      "cell_type": "markdown",
      "source": [
        "# Insertion Sort"
      ],
      "metadata": {
        "id": "Oeyw3c81Pbfw"
      }
    },
    {
      "cell_type": "code",
      "source": [
        "def insertion_sort(my_list):\n",
        "    n = len(my_list)\n",
        "    for i in range(1,n):\n",
        "        temp = my_list[i]\n",
        "        j = i-1\n",
        "        while temp < my_list[j] and j > -1:\n",
        "            my_list[j+1] = my_list[j]\n",
        "            my_list[j] = temp\n",
        "            j -= 1\n",
        "    return my_list"
      ],
      "metadata": {
        "id": "8BdLX2bw5C5m"
      },
      "execution_count": null,
      "outputs": []
    },
    {
      "cell_type": "code",
      "source": [
        "my_list = [4,2,6,5,1,3]\n",
        "my_list = insertion_sort(my_list)\n",
        "print(my_list)"
      ],
      "metadata": {
        "colab": {
          "base_uri": "https://localhost:8080/"
        },
        "id": "M6db8lpXQBRX",
        "outputId": "e3362d7b-24b8-4814-c197-b69abdac1719"
      },
      "execution_count": null,
      "outputs": [
        {
          "output_type": "stream",
          "name": "stdout",
          "text": [
            "[1, 2, 3, 4, 5, 6]\n"
          ]
        }
      ]
    },
    {
      "cell_type": "markdown",
      "source": [
        "# Merge Sort | merge function"
      ],
      "metadata": {
        "id": "EQz6yyG6bKTq"
      }
    },
    {
      "cell_type": "code",
      "source": [
        "def merge(list1,list2):\n",
        "    combined = []\n",
        "    i = 0\n",
        "    j = 0\n",
        "\n",
        "    while i < len(list1) and j < len(list2):\n",
        "        if list1[i] < list2[j]:\n",
        "            combined.append(list1[i])\n",
        "            i += 1\n",
        "        else:\n",
        "            combined.append(list2[j])\n",
        "            j += 1\n",
        "\n",
        "    while i < len(list1):\n",
        "        combined.append(list1[i])\n",
        "        i += 1\n",
        "\n",
        "    while j < len(list2):\n",
        "        combined.append(list2[j])\n",
        "        j += 1\n",
        "\n",
        "    return combined"
      ],
      "metadata": {
        "id": "y0z9dnlDX4N0"
      },
      "execution_count": 2,
      "outputs": []
    },
    {
      "cell_type": "code",
      "source": [
        "print(merge([1,2,7,8], [3,4,5,6]))"
      ],
      "metadata": {
        "id": "58w7blYvbzkQ",
        "outputId": "d6d973a1-0742-47ae-c70f-a944ac5ad45a",
        "colab": {
          "base_uri": "https://localhost:8080/"
        }
      },
      "execution_count": 3,
      "outputs": [
        {
          "output_type": "stream",
          "name": "stdout",
          "text": [
            "[1, 2, 3, 4, 5, 6, 7, 8]\n"
          ]
        }
      ]
    },
    {
      "cell_type": "code",
      "source": [],
      "metadata": {
        "id": "2PVI3sFrb-jP"
      },
      "execution_count": null,
      "outputs": []
    }
  ]
}