{
  "nbformat": 4,
  "nbformat_minor": 0,
  "metadata": {
    "colab": {
      "provenance": [],
      "authorship_tag": "ABX9TyOsT++1rE1Y/wmpsJjEkjZK",
      "include_colab_link": true
    },
    "kernelspec": {
      "name": "python3",
      "display_name": "Python 3"
    },
    "language_info": {
      "name": "python"
    }
  },
  "cells": [
    {
      "cell_type": "markdown",
      "metadata": {
        "id": "view-in-github",
        "colab_type": "text"
      },
      "source": [
        "<a href=\"https://colab.research.google.com/github/niladribanerjee80/DSA_Scott_Barett/blob/main/Topic_10_Sorting_classroom_exercises.ipynb\" target=\"_parent\"><img src=\"https://colab.research.google.com/assets/colab-badge.svg\" alt=\"Open In Colab\"/></a>"
      ]
    },
    {
      "cell_type": "markdown",
      "source": [
        "# Bubble Sort"
      ],
      "metadata": {
        "id": "0cKcu6bOgGDn"
      }
    },
    {
      "cell_type": "code",
      "execution_count": null,
      "metadata": {
        "id": "r0d3GdVogAek"
      },
      "outputs": [],
      "source": [
        "## WRITE BUBBLE_SORT FUNCTION HERE ##\n",
        "#                                   #\n",
        "#                                   #\n",
        "#                                   #\n",
        "#                                   #\n",
        "#####################################\n",
        "\n",
        "\n",
        "\n",
        "\n",
        "print(bubble_sort([4,2,6,5,1,3]))\n",
        "\n",
        "\n",
        "\n",
        "\"\"\"\n",
        "    EXPECTED OUTPUT:\n",
        "    ----------------\n",
        "    [1, 2, 3, 4, 5, 6]\n",
        "\n",
        " \"\"\""
      ]
    },
    {
      "cell_type": "markdown",
      "source": [
        "# Selection Sort"
      ],
      "metadata": {
        "id": "D_00F4IGgIjG"
      }
    },
    {
      "cell_type": "code",
      "source": [
        "## WRITE SELECTION_SORT FUNCTION HERE ##\n",
        "#                                      #\n",
        "#                                      #\n",
        "#                                      #\n",
        "#                                      #\n",
        "########################################\n",
        "\n",
        "\n",
        "\n",
        "\n",
        "print(selection_sort([4,2,6,5,1,3]))\n",
        "\n",
        "\n",
        "\n",
        "\"\"\"\n",
        "    EXPECTED OUTPUT:\n",
        "    ----------------\n",
        "    [1, 2, 3, 4, 5, 6]\n",
        "\n",
        " \"\"\"\n",
        "\n"
      ],
      "metadata": {
        "id": "51PxSMo6gPiI"
      },
      "execution_count": null,
      "outputs": []
    },
    {
      "cell_type": "markdown",
      "source": [
        "# Insertion Sort"
      ],
      "metadata": {
        "id": "MtTxxa4TgXXI"
      }
    },
    {
      "cell_type": "code",
      "source": [
        "## WRITE INSERTION_SORT FUNCTION HERE ##\n",
        "#                                      #\n",
        "#                                      #\n",
        "#                                      #\n",
        "#                                      #\n",
        "########################################\n",
        "\n",
        "\n",
        "\n",
        "\n",
        "print(insertion_sort([4,2,6,5,1,3]))\n",
        "\n",
        "\n",
        "\n",
        "\"\"\"\n",
        "    EXPECTED OUTPUT:\n",
        "    ----------------\n",
        "    [1, 2, 3, 4, 5, 6]\n",
        "\n",
        " \"\"\"\n",
        "\n"
      ],
      "metadata": {
        "id": "bAveceDagYy7"
      },
      "execution_count": null,
      "outputs": []
    }
  ]
}