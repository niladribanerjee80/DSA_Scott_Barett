{
  "nbformat": 4,
  "nbformat_minor": 0,
  "metadata": {
    "colab": {
      "provenance": [],
      "authorship_tag": "ABX9TyOpJpxIb3DurI0n3ovh7T9w",
      "include_colab_link": true
    },
    "kernelspec": {
      "name": "python3",
      "display_name": "Python 3"
    },
    "language_info": {
      "name": "python"
    }
  },
  "cells": [
    {
      "cell_type": "markdown",
      "metadata": {
        "id": "view-in-github",
        "colab_type": "text"
      },
      "source": [
        "<a href=\"https://colab.research.google.com/github/niladribanerjee80/DSA_Scott_Barett/blob/main/Topic_1_SLL_classroom_exercises.ipynb\" target=\"_parent\"><img src=\"https://colab.research.google.com/assets/colab-badge.svg\" alt=\"Open In Colab\"/></a>"
      ]
    },
    {
      "cell_type": "markdown",
      "source": [
        "# Constructor"
      ],
      "metadata": {
        "id": "NmduUHVvAFFP"
      }
    },
    {
      "cell_type": "code",
      "execution_count": null,
      "metadata": {
        "id": "U1hdbPI3_sYC"
      },
      "outputs": [],
      "source": [
        "class Node:\n",
        "    # Implement : __init__\n",
        "\n",
        "\n",
        "class LinkedList:\n",
        "    # Implement : __init__\n",
        "\n",
        "\"\"\"\n",
        "-------------------------------\n",
        "                Test cases\n",
        "- create your own test cases as well if required.\n",
        "- These are basic test cases that I created for you\n",
        "-------------------------------\n",
        "\"\"\"\n",
        "\n",
        "my_linked_list = LinkedList(4)\n",
        "\n",
        "print('Head:', my_linked_list.head.value)\n",
        "print('Tail:', my_linked_list.tail.value)\n",
        "print('Length:', my_linked_list.length)\n",
        "\n",
        "\n",
        "\n",
        "\"\"\"\n",
        "    EXPECTED OUTPUT:\n",
        "    ----------------\n",
        "    Head: 4\n",
        "    Tail: 4\n",
        "    Length: 1\n",
        "\n",
        "\"\"\""
      ]
    },
    {
      "cell_type": "markdown",
      "source": [
        "# append(value) and print_list"
      ],
      "metadata": {
        "id": "vJJfQNQUAKbp"
      }
    },
    {
      "cell_type": "code",
      "source": [
        "class Node:\n",
        "    # write code from above for : __init__\n",
        "\n",
        "\n",
        "class LinkedList:\n",
        "\n",
        "    # write code from above for : __init__\n",
        "\n",
        "    # Implement : append\n",
        "\n",
        "    # Implement : print_list\n",
        "\n",
        "\n",
        "\"\"\"\n",
        "-------------------------------\n",
        "                Test cases\n",
        "- create your own test cases as well if required.\n",
        "- These are basic test cases that I created for you\n",
        "-------------------------------\n",
        "\"\"\"\n",
        "\n",
        "my_linked_list = LinkedList(1)\n",
        "my_linked_list.append(2)\n",
        "my_linked_list.append(3)\n",
        "\n",
        "my_linked_list.print_list()\n",
        "\n",
        "\n",
        "\"\"\"\n",
        "    EXPECTED OUTPUT:\n",
        "    ----------------\n",
        "    1\n",
        "    2\n",
        "    3\n",
        "\n",
        "\"\"\"\n"
      ],
      "metadata": {
        "id": "dFNV_yNYAKwE"
      },
      "execution_count": null,
      "outputs": []
    },
    {
      "cell_type": "markdown",
      "source": [
        "# prepend(value)"
      ],
      "metadata": {
        "id": "QzUB7TfyALZ7"
      }
    },
    {
      "cell_type": "code",
      "source": [
        "class Node:\n",
        "    # write code from above for : __init__\n",
        "\n",
        "\n",
        "class LinkedList:\n",
        "    # write code from above for : __init__\n",
        "\n",
        "    # write code from above for : print_list\n",
        "\n",
        "    # write code from above for : append\n",
        "\n",
        "    # Implement : prepend\n",
        "\n",
        "\"\"\"\n",
        "-------------------------------\n",
        "                Test cases\n",
        "- create your own test cases as well if required.\n",
        "- These are basic test cases that I created for you\n",
        "-------------------------------\n",
        "\"\"\"\n",
        "\n",
        "my_linked_list = LinkedList(2)\n",
        "my_linked_list.append(3)\n",
        "\n",
        "print('Before prepend():')\n",
        "print('----------------')\n",
        "print('Head:', my_linked_list.head.value)\n",
        "print('Tail:', my_linked_list.tail.value)\n",
        "print('Length:', my_linked_list.length, '\\n')\n",
        "print('Linked List:')\n",
        "my_linked_list.print_list()\n",
        "\n",
        "\n",
        "my_linked_list.prepend(1)\n",
        "\n",
        "\n",
        "print('\\n\\nAfter prepend():')\n",
        "print('---------------')\n",
        "print('Head:', my_linked_list.head.value)\n",
        "print('Tail:', my_linked_list.tail.value)\n",
        "print('Length:', my_linked_list.length, '\\n')\n",
        "print('Linked List:')\n",
        "my_linked_list.print_list()\n",
        "\n",
        "\n",
        "\n",
        "\"\"\"\n",
        "    EXPECTED OUTPUT:\n",
        "\n",
        "    Before prepend():\n",
        "    ----------------\n",
        "    Head: 2\n",
        "    Tail: 3\n",
        "    Length: 2\n",
        "\n",
        "    Linked List:\n",
        "    2\n",
        "    3\n",
        "\n",
        "\n",
        "    After prepend():\n",
        "    ---------------\n",
        "    Head: 1\n",
        "    Tail: 3\n",
        "    Length: 3\n",
        "\n",
        "    Linked List:\n",
        "    1\n",
        "    2\n",
        "    3\n",
        "\n",
        "\"\"\""
      ],
      "metadata": {
        "id": "Agh8Oz0OALri"
      },
      "execution_count": null,
      "outputs": []
    },
    {
      "cell_type": "markdown",
      "source": [
        "# pop()"
      ],
      "metadata": {
        "id": "G8Uhsrz0FIzr"
      }
    },
    {
      "cell_type": "code",
      "source": [
        "class Node:\n",
        "    # write code from above for : __init__\n",
        "\n",
        "\n",
        "class LinkedList:\n",
        "    # write code from above for : __init__\n",
        "\n",
        "    # write code from above for : print_list\n",
        "\n",
        "    # write code from above for : append\n",
        "\n",
        "    # write code from above for : append\n",
        "\n",
        "    # Implement : pop\n",
        "\n",
        "##########################################################\n",
        "##   Test code below will print output to \"User logs\"   ##\n",
        "##########################################################\n",
        "\n",
        "def check(expect, actual, message):\n",
        "    print(message)\n",
        "    print(\"EXPECTED:\", expect)\n",
        "    print(\"RETURNED:\", actual)\n",
        "    print(\"PASS\" if expect == actual else \"FAIL\", \"\\n\")\n",
        "\n",
        "print(\"\\n----- Test: Pop on linked list with one node -----\\n\")\n",
        "linked_list = LinkedList(1)\n",
        "linked_list.print_list()\n",
        "popped_node = linked_list.pop()\n",
        "check(1, popped_node.value, \"Value of popped node:\")\n",
        "check(None, linked_list.head, \"Head of linked list:\")\n",
        "check(None, linked_list.tail, \"Tail of linked list:\")\n",
        "check(0, linked_list.length, \"Length of linked list:\")\n",
        "\n",
        "print(\"\\n----- Test: Pop on linked list with multiple nodes -----\\n\")\n",
        "linked_list = LinkedList(1)\n",
        "linked_list.append(2)\n",
        "linked_list.append(3)\n",
        "linked_list.print_list()\n",
        "popped_node = linked_list.pop()\n",
        "check(3, popped_node.value, \"Value of popped node:\")\n",
        "check(1, linked_list.head.value, \"Head of linked list:\")\n",
        "check(2, linked_list.tail.value, \"Tail of linked list:\")\n",
        "check(2, linked_list.length, \"Length of linked list:\")\n",
        "\n",
        "print(\"\\n----- Test: Pop on empty linked list -----\\n\")\n",
        "linked_list = LinkedList(1)\n",
        "linked_list.head = None\n",
        "linked_list.tail = None\n",
        "linked_list.length = 0\n",
        "popped_node = linked_list.pop()\n",
        "check(None, popped_node, \"Popped node from empty linked list:\")\n",
        "check(None, linked_list.head, \"Head of linked list:\")\n",
        "check(None, linked_list.tail, \"Tail of linked list:\")\n",
        "check(0, linked_list.length, \"Length of linked list:\")\n",
        "\n",
        "print(\"\\n----- Test: Pop all -----\\n\")\n",
        "linked_list = LinkedList(1)\n",
        "linked_list.append(2)\n",
        "linked_list.print_list()\n",
        "popped_node = linked_list.pop()\n",
        "check(2, popped_node.value, \"Value of popped node (first pop):\")\n",
        "check(1, linked_list.head.value, \"Head of linked list (after first pop):\")\n",
        "check(1, linked_list.tail.value, \"Tail of linked list (after first pop):\")\n",
        "check(1, linked_list.length, \"Length of linked list (after first pop):\")\n",
        "popped_node = linked_list.pop()\n",
        "check(1, popped_node.value, \"Value of popped node (second pop):\")\n",
        "check(None, linked_list.head, \"Head of linked list (after second pop):\")\n",
        "check(None, linked_list.tail, \"Tail of linked list (after second pop):\")\n",
        "check(0, linked_list.length, \"Length of linked list (after second pop):\")\n",
        "popped_node = linked_list.pop()\n",
        "check(None, popped_node, \"Popped node from empty linked list (third pop):\")\n",
        "check(None, linked_list.head, \"Head of linked list (after third pop):\")\n",
        "check(None, linked_list.tail, \"Tail of linked list (after third pop):\")\n",
        "check(0, linked_list.length, \"Length of linked list (after third pop):\")"
      ],
      "metadata": {
        "id": "772ifpBwFJ4k"
      },
      "execution_count": null,
      "outputs": []
    },
    {
      "cell_type": "markdown",
      "source": [
        "# pop_first()"
      ],
      "metadata": {
        "id": "eiWghhF-GA8c"
      }
    },
    {
      "cell_type": "code",
      "source": [
        "class Node:\n",
        "    # write code from above for : __init__\n",
        "\n",
        "\n",
        "class LinkedList:\n",
        "    # write code from above for : __init__\n",
        "\n",
        "    # write code from above for : print_list\n",
        "\n",
        "    # write code from above for : append\n",
        "\n",
        "    # write code from above for : append\n",
        "\n",
        "    # write code from above for : pop\n",
        "\n",
        "    # Implement : pop_first\n",
        "\n",
        "my_linked_list = LinkedList(2)\n",
        "my_linked_list.append(1)\n",
        "\n",
        "\n",
        "# (2) Items - Returns 2 Node\n",
        "print(my_linked_list.pop_first().value)\n",
        "# (1) Item -  Returns 1 Node\n",
        "print(my_linked_list.pop_first().value)\n",
        "# (0) Items - Returns None\n",
        "print(my_linked_list.pop_first())\n",
        "\n",
        "\"\"\"\n",
        "    EXPECTED OUTPUT:\n",
        "    ----------------\n",
        "    2\n",
        "    1\n",
        "    None\n",
        "\n",
        "\"\"\"\n"
      ],
      "metadata": {
        "id": "dIZKvL3BGCwG"
      },
      "execution_count": null,
      "outputs": []
    },
    {
      "cell_type": "markdown",
      "source": [
        "# get(index)"
      ],
      "metadata": {
        "id": "B_0tsuxEGxn2"
      }
    },
    {
      "cell_type": "code",
      "source": [
        "class Node:\n",
        "    # write code from above for : __init__\n",
        "\n",
        "\n",
        "class LinkedList:\n",
        "    # write code from above for : __init__\n",
        "\n",
        "    # write code from above for : print_list\n",
        "\n",
        "    # write code from above for : append\n",
        "\n",
        "    # Implement : get(index)\n",
        "\n",
        "my_linked_list = LinkedList(0)\n",
        "my_linked_list.append(1)\n",
        "my_linked_list.append(2)\n",
        "my_linked_list.append(3)\n",
        "\n",
        "print(my_linked_list.get(3).value)\n",
        "\n",
        "\"\"\"\n",
        "    EXPECTED OUTPUT:\n",
        "    ----------------\n",
        "    3\n",
        "\n",
        "\"\"\""
      ],
      "metadata": {
        "id": "mGQ-tyY1GzyD"
      },
      "execution_count": null,
      "outputs": []
    },
    {
      "cell_type": "markdown",
      "source": [
        "# set(index,value)"
      ],
      "metadata": {
        "id": "hfzWxULoLtuZ"
      }
    },
    {
      "cell_type": "code",
      "source": [
        "class Node:\n",
        "    # write code from above for : __init__\n",
        "\n",
        "class LinkedList:\n",
        "    # write code from above for : __init__\n",
        "\n",
        "    # write code from above for : print_list\n",
        "\n",
        "    # write code from above for : append\n",
        "\n",
        "    # write code from above for : get(index)\n",
        "\n",
        "    # Implement : set(index,value)\n",
        "\n",
        "\n",
        "\n",
        "my_linked_list = LinkedList(11)\n",
        "my_linked_list.append(3)\n",
        "my_linked_list.append(23)\n",
        "my_linked_list.append(7)\n",
        "\n",
        "print('LL before set_value():')\n",
        "my_linked_list.print_list()\n",
        "\n",
        "my_linked_list.set_value(1,4)\n",
        "\n",
        "print('\\nLL after set_value():')\n",
        "my_linked_list.print_list()\n",
        "\n",
        "\n",
        "\n",
        "\"\"\"\n",
        "    EXPECTED OUTPUT:\n",
        "    ----------------\n",
        "    LL before set_value():\n",
        "    11\n",
        "    3\n",
        "    23\n",
        "    7\n",
        "\n",
        "    LL after set_value():\n",
        "    11\n",
        "    4\n",
        "    23\n",
        "    7\n",
        "\"\"\""
      ],
      "metadata": {
        "id": "vGZ8uWPILwWM"
      },
      "execution_count": null,
      "outputs": []
    },
    {
      "cell_type": "markdown",
      "source": [
        "# Next Class Items for SLL\n",
        "\n",
        "* insert\n",
        "* remove\n",
        "* reverse"
      ],
      "metadata": {
        "id": "BrcMWTdVMMDl"
      }
    },
    {
      "cell_type": "code",
      "source": [],
      "metadata": {
        "id": "qmpJfZ7TMSr2"
      },
      "execution_count": null,
      "outputs": []
    }
  ]
}