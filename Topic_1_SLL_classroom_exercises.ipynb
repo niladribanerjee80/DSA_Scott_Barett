{
  "nbformat": 4,
  "nbformat_minor": 0,
  "metadata": {
    "colab": {
      "provenance": [],
      "authorship_tag": "ABX9TyMDoANxw1qv5N4tc1KGdNuG",
      "include_colab_link": true
    },
    "kernelspec": {
      "name": "python3",
      "display_name": "Python 3"
    },
    "language_info": {
      "name": "python"
    }
  },
  "cells": [
    {
      "cell_type": "markdown",
      "metadata": {
        "id": "view-in-github",
        "colab_type": "text"
      },
      "source": [
        "<a href=\"https://colab.research.google.com/github/niladribanerjee80/DSA_Scott_Barett/blob/main/Topic_1_SLL_classroom_exercises.ipynb\" target=\"_parent\"><img src=\"https://colab.research.google.com/assets/colab-badge.svg\" alt=\"Open In Colab\"/></a>"
      ]
    },
    {
      "cell_type": "markdown",
      "source": [
        "# LL: Constructor"
      ],
      "metadata": {
        "id": "NmduUHVvAFFP"
      }
    },
    {
      "cell_type": "code",
      "execution_count": null,
      "metadata": {
        "id": "U1hdbPI3_sYC"
      },
      "outputs": [],
      "source": [
        "class Node:\n",
        "    # Implement : __init__\n",
        "\n",
        "\n",
        "class LinkedList:\n",
        "    # Implement : __init__\n",
        "\n",
        "\"\"\"\n",
        "-------------------------------\n",
        "                Test cases\n",
        "- create your own test cases as well if required.\n",
        "- These are basic test cases that I created for you\n",
        "-------------------------------\n",
        "\"\"\"\n",
        "\n",
        "my_linked_list = LinkedList(4)\n",
        "\n",
        "print('Head:', my_linked_list.head.value)\n",
        "print('Tail:', my_linked_list.tail.value)\n",
        "print('Length:', my_linked_list.length)\n",
        "\n",
        "\n",
        "\n",
        "\"\"\"\n",
        "    EXPECTED OUTPUT:\n",
        "    ----------------\n",
        "    Head: 4\n",
        "    Tail: 4\n",
        "    Length: 1\n",
        "\n",
        "\"\"\""
      ]
    },
    {
      "cell_type": "markdown",
      "source": [
        "# LL: Append and Print list"
      ],
      "metadata": {
        "id": "vJJfQNQUAKbp"
      }
    },
    {
      "cell_type": "code",
      "source": [
        "class Node:\n",
        "    # write code from above for : __init__\n",
        "\n",
        "\n",
        "class LinkedList:\n",
        "\n",
        "    # write code from above for : __init__\n",
        "\n",
        "    # Implement : append\n",
        "\n",
        "    # Implement : print_list\n",
        "\n",
        "\n",
        "\"\"\"\n",
        "-------------------------------\n",
        "                Test cases\n",
        "- create your own test cases as well if required.\n",
        "- These are basic test cases that I created for you\n",
        "-------------------------------\n",
        "\"\"\"\n",
        "\n",
        "my_linked_list = LinkedList(1)\n",
        "my_linked_list.append(2)\n",
        "my_linked_list.append(3)\n",
        "\n",
        "my_linked_list.print_list()\n",
        "\n",
        "\n",
        "\"\"\"\n",
        "    EXPECTED OUTPUT:\n",
        "    ----------------\n",
        "    1\n",
        "    2\n",
        "    3\n",
        "\n",
        "\"\"\"\n"
      ],
      "metadata": {
        "id": "dFNV_yNYAKwE"
      },
      "execution_count": null,
      "outputs": []
    },
    {
      "cell_type": "markdown",
      "source": [
        "# LL: Prepend"
      ],
      "metadata": {
        "id": "QzUB7TfyALZ7"
      }
    },
    {
      "cell_type": "code",
      "source": [
        "class Node:\n",
        "    # write code from above for : __init__\n",
        "\n",
        "\n",
        "class LinkedList:\n",
        "    # write code from above for : __init__\n",
        "\n",
        "    # write code from above for : print_list\n",
        "\n",
        "    # write code from above for : append\n",
        "\n",
        "    # Implement : prepend\n",
        "\n",
        "\"\"\"\n",
        "-------------------------------\n",
        "                Test cases\n",
        "- create your own test cases as well if required.\n",
        "- These are basic test cases that I created for you\n",
        "-------------------------------\n",
        "\"\"\"\n",
        "\n",
        "my_linked_list = LinkedList(2)\n",
        "my_linked_list.append(3)\n",
        "\n",
        "print('Before prepend():')\n",
        "print('----------------')\n",
        "print('Head:', my_linked_list.head.value)\n",
        "print('Tail:', my_linked_list.tail.value)\n",
        "print('Length:', my_linked_list.length, '\\n')\n",
        "print('Linked List:')\n",
        "my_linked_list.print_list()\n",
        "\n",
        "\n",
        "my_linked_list.prepend(1)\n",
        "\n",
        "\n",
        "print('\\n\\nAfter prepend():')\n",
        "print('---------------')\n",
        "print('Head:', my_linked_list.head.value)\n",
        "print('Tail:', my_linked_list.tail.value)\n",
        "print('Length:', my_linked_list.length, '\\n')\n",
        "print('Linked List:')\n",
        "my_linked_list.print_list()\n",
        "\n",
        "\n",
        "\n",
        "\"\"\"\n",
        "    EXPECTED OUTPUT:\n",
        "\n",
        "    Before prepend():\n",
        "    ----------------\n",
        "    Head: 2\n",
        "    Tail: 3\n",
        "    Length: 2\n",
        "\n",
        "    Linked List:\n",
        "    2\n",
        "    3\n",
        "\n",
        "\n",
        "    After prepend():\n",
        "    ---------------\n",
        "    Head: 1\n",
        "    Tail: 3\n",
        "    Length: 3\n",
        "\n",
        "    Linked List:\n",
        "    1\n",
        "    2\n",
        "    3\n",
        "\n",
        "\"\"\""
      ],
      "metadata": {
        "id": "Agh8Oz0OALri"
      },
      "execution_count": null,
      "outputs": []
    }
  ]
}