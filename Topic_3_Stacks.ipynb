{
  "nbformat": 4,
  "nbformat_minor": 0,
  "metadata": {
    "colab": {
      "provenance": [],
      "authorship_tag": "ABX9TyPD/LfsmXhB7W/mpJWA9h9M",
      "include_colab_link": true
    },
    "kernelspec": {
      "name": "python3",
      "display_name": "Python 3"
    },
    "language_info": {
      "name": "python"
    }
  },
  "cells": [
    {
      "cell_type": "markdown",
      "metadata": {
        "id": "view-in-github",
        "colab_type": "text"
      },
      "source": [
        "<a href=\"https://colab.research.google.com/github/niladribanerjee80/DSA_Scott_Barett/blob/main/Topic_3_Stacks.ipynb\" target=\"_parent\"><img src=\"https://colab.research.google.com/assets/colab-badge.svg\" alt=\"Open In Colab\"/></a>"
      ]
    },
    {
      "cell_type": "markdown",
      "source": [
        "# Stack : constructor"
      ],
      "metadata": {
        "id": "pdPQqGO7neCR"
      }
    },
    {
      "cell_type": "code",
      "execution_count": 1,
      "metadata": {
        "id": "TRD5yc9Vby6c"
      },
      "outputs": [],
      "source": [
        "class Node:\n",
        "\n",
        "    def __init__(self,value):\n",
        "        self.value = value\n",
        "        self.next = None\n",
        "\n",
        "class Stack:\n",
        "\n",
        "    def __init__(self,value):\n",
        "        new_node = Node(value)\n",
        "        self.top = new_node\n",
        "        self.height = 1\n",
        "\n",
        "    def print_stack(self):\n",
        "        temp = self.top\n",
        "\n",
        "        while temp is not None:\n",
        "            print(temp.value)\n",
        "            temp = temp.next"
      ]
    },
    {
      "cell_type": "code",
      "source": [
        "my_stack = Stack(4)\n",
        "my_stack.print_stack()"
      ],
      "metadata": {
        "id": "KwRSMwrfnSuL",
        "outputId": "e2fcefab-835f-412e-fa16-9942befd5932",
        "colab": {
          "base_uri": "https://localhost:8080/"
        }
      },
      "execution_count": 2,
      "outputs": [
        {
          "output_type": "stream",
          "name": "stdout",
          "text": [
            "4\n"
          ]
        }
      ]
    },
    {
      "cell_type": "markdown",
      "source": [
        "# Stack : push(self,value)\n",
        "\n",
        "\n",
        "---\n",
        "\n",
        "\n",
        "* like prepend() for LL"
      ],
      "metadata": {
        "id": "-HAqKaqrnqbh"
      }
    },
    {
      "cell_type": "code",
      "source": [
        "class Node:\n",
        "\n",
        "    def __init__(self,value):\n",
        "        self.value = value\n",
        "        self.next = None\n",
        "\n",
        "class Stack:\n",
        "\n",
        "    def __init__(self,value):\n",
        "        new_node = Node(value)\n",
        "        self.top = new_node\n",
        "        self.height = 1\n",
        "\n",
        "    def print_stack(self,msg = \"Stack created : \"):\n",
        "        print(\"--------------\")\n",
        "        print(msg)\n",
        "        temp = self.top\n",
        "\n",
        "        while temp is not None:\n",
        "            print(temp.value)\n",
        "            temp = temp.next\n",
        "        print('\\n')\n",
        "        print(f\"Stack height / no. of nodes present = {self.height}\")\n",
        "\n",
        "    def push(self,value):\n",
        "        # create a new node\n",
        "        new_node = Node(value)\n",
        "\n",
        "        # current top\n",
        "        temp = self.top\n",
        "\n",
        "        self.top = new_node\n",
        "        new_node.next = temp\n",
        "\n",
        "        self.height += 1"
      ],
      "metadata": {
        "id": "E7PkA0lwncxK"
      },
      "execution_count": 24,
      "outputs": []
    },
    {
      "cell_type": "code",
      "source": [
        "my_stack = Stack(4)\n",
        "my_stack.print_stack()\n",
        "my_stack.push(11)\n",
        "my_stack.print_stack(\"Stack Updated : \")"
      ],
      "metadata": {
        "id": "StJi1OL7ovGN",
        "outputId": "cb398d36-5631-40a2-e7a1-0f1692ca17ef",
        "colab": {
          "base_uri": "https://localhost:8080/"
        }
      },
      "execution_count": 25,
      "outputs": [
        {
          "output_type": "stream",
          "name": "stdout",
          "text": [
            "--------------\n",
            "Stack created : \n",
            "4\n",
            "\n",
            "\n",
            "Stack height / no. of nodes present = 1\n",
            "--------------\n",
            "Stack Updated : \n",
            "11\n",
            "4\n",
            "\n",
            "\n",
            "Stack height / no. of nodes present = 2\n"
          ]
        }
      ]
    },
    {
      "cell_type": "markdown",
      "source": [
        "# Stack : pop(self)"
      ],
      "metadata": {
        "id": "DtdocV9ErxeG"
      }
    },
    {
      "cell_type": "code",
      "source": [
        "class Node:\n",
        "\n",
        "    def __init__(self,value):\n",
        "        self.value = value\n",
        "        self.next = None\n",
        "\n",
        "class Stack:\n",
        "\n",
        "    def __init__(self,value):\n",
        "        new_node = Node(value)\n",
        "        self.top = new_node\n",
        "        self.height = 1\n",
        "\n",
        "    def stack_empty(self):\n",
        "        self.height = 0\n",
        "        self.top = None\n",
        "\n",
        "    def print_stack(self,msg = \"Stack created : \"):\n",
        "        print(\"--------------\")\n",
        "        print(msg)\n",
        "        temp = self.top\n",
        "\n",
        "        while temp is not None:\n",
        "            print(temp.value)\n",
        "            temp = temp.next\n",
        "        print('\\n')\n",
        "        print(f\"Stack height / no. of nodes present = {self.height}\")\n",
        "\n",
        "    def push(self,value):\n",
        "        # create a new node\n",
        "        new_node = Node(value)\n",
        "\n",
        "        # current top\n",
        "        temp = self.top\n",
        "\n",
        "        self.top = new_node\n",
        "        new_node.next = temp\n",
        "\n",
        "        self.height += 1\n",
        "\n",
        "    def pop(self):\n",
        "\n",
        "        if self.height == 0:\n",
        "            return None\n",
        "\n",
        "        # collect the node\n",
        "        temp = self.top\n",
        "\n",
        "        # move the head pointer\n",
        "        self.top = temp.next\n",
        "\n",
        "        # ensure the next is dettached from temp\n",
        "        temp.next = None\n",
        "\n",
        "        # adjust the height\n",
        "        self.height -= 1\n",
        "\n",
        "        return temp\n"
      ],
      "metadata": {
        "id": "CpZyW3jyo1km"
      },
      "execution_count": 30,
      "outputs": []
    },
    {
      "cell_type": "code",
      "source": [
        "my_stack = Stack(4)\n",
        "my_stack.print_stack()\n",
        "my_stack.push(11)\n",
        "\n",
        "my_stack.print_stack(\"Stack Updated : \")\n",
        "popped_node = my_stack.pop()\n",
        "\n",
        "if popped_node:\n",
        "    print(f\"Popped Node = {popped_node.value}\")\n",
        "\n",
        "my_stack.print_stack(\"Stack Updated after pop : \")"
      ],
      "metadata": {
        "id": "z5awPXdAspPJ",
        "outputId": "79e97bfe-fdc3-467e-c5ed-6c384dfc69d5",
        "colab": {
          "base_uri": "https://localhost:8080/"
        }
      },
      "execution_count": 29,
      "outputs": [
        {
          "output_type": "stream",
          "name": "stdout",
          "text": [
            "--------------\n",
            "Stack created : \n",
            "4\n",
            "\n",
            "\n",
            "Stack height / no. of nodes present = 1\n",
            "--------------\n",
            "Stack Updated : \n",
            "11\n",
            "4\n",
            "\n",
            "\n",
            "Stack height / no. of nodes present = 2\n",
            "Popped Node = 11\n",
            "--------------\n",
            "Stack Updated after pop : \n",
            "4\n",
            "\n",
            "\n",
            "Stack height / no. of nodes present = 1\n"
          ]
        }
      ]
    },
    {
      "cell_type": "code",
      "source": [],
      "metadata": {
        "id": "fsUzlhPhtAYN"
      },
      "execution_count": null,
      "outputs": []
    }
  ]
}