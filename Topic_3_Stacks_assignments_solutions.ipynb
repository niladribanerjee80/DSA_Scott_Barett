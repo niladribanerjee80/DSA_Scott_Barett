{
  "nbformat": 4,
  "nbformat_minor": 0,
  "metadata": {
    "colab": {
      "provenance": [],
      "authorship_tag": "ABX9TyMVvvCZ1O56KOOQWe1mBJJp",
      "include_colab_link": true
    },
    "kernelspec": {
      "name": "python3",
      "display_name": "Python 3"
    },
    "language_info": {
      "name": "python"
    }
  },
  "cells": [
    {
      "cell_type": "markdown",
      "metadata": {
        "id": "view-in-github",
        "colab_type": "text"
      },
      "source": [
        "<a href=\"https://colab.research.google.com/github/niladribanerjee80/DSA_Scott_Barett/blob/main/Topic_3_Stacks_assignments_solutions.ipynb\" target=\"_parent\"><img src=\"https://colab.research.google.com/assets/colab-badge.svg\" alt=\"Open In Colab\"/></a>"
      ]
    },
    {
      "cell_type": "markdown",
      "source": [
        "# Stack: Implement Stack Using a List\n",
        "\n",
        "\n",
        "---\n",
        "\n",
        "In the Stack: Intro video we discussed how stacks are commonly implemented using a list instead of a linked list.\n",
        "\n",
        "Create a constructor for Class Stack that implements a new stack with an empty list called stack_list."
      ],
      "metadata": {
        "id": "wh2Iqfew645e"
      }
    },
    {
      "cell_type": "code",
      "execution_count": 1,
      "metadata": {
        "id": "L0x6ryfVdXnX"
      },
      "outputs": [],
      "source": [
        "class Stack:\n",
        "\n",
        "    def __init__(self):\n",
        "        self.stack_list = []"
      ]
    },
    {
      "cell_type": "code",
      "source": [
        "# Example usage:\n",
        "my_stack = Stack()\n",
        "print(my_stack.stack_list)  # Output: []"
      ],
      "metadata": {
        "id": "IN-oqVzJ7A_Z",
        "colab": {
          "base_uri": "https://localhost:8080/"
        },
        "outputId": "af802b43-2ad7-4601-dadf-202bbc657fbc"
      },
      "execution_count": 2,
      "outputs": [
        {
          "output_type": "stream",
          "name": "stdout",
          "text": [
            "[]\n"
          ]
        }
      ]
    },
    {
      "cell_type": "markdown",
      "source": [
        "# Stack: Push for Stack That Uses List\n",
        "\n",
        "\n",
        "---\n",
        "\n",
        "Add a method to push a value onto the Stack implementation that we began in the last Coding Exercise.\n",
        "\n",
        "Remember: This Stack implementation uses a list instead of a linked list."
      ],
      "metadata": {
        "id": "iniVvgWN7BTD"
      }
    },
    {
      "cell_type": "code",
      "source": [
        "class Stack:\n",
        "\n",
        "    def __init__(self):\n",
        "        self.stack_list = []\n",
        "\n",
        "    def print_stack(self):\n",
        "        for i in range(len(self.stack_list)-1, -1, -1):\n",
        "            print(self.stack_list[i])\n",
        "\n",
        "\n",
        "    def push(self,value):\n",
        "        self.stack_list.append(value)\n"
      ],
      "metadata": {
        "id": "N8t67L3J7Icl"
      },
      "execution_count": 4,
      "outputs": []
    },
    {
      "cell_type": "code",
      "source": [
        "my_stack = Stack()\n",
        "my_stack.push(1)\n",
        "my_stack.push(2)\n",
        "my_stack.push(3)\n",
        "\n",
        "my_stack.print_stack()\n",
        "\n",
        "# \"\"\"\n",
        "#     EXPECTED OUTPUT:\n",
        "#     ----------------\n",
        "#     3\n",
        "#     2\n",
        "#     1\n",
        "\n",
        "# \"\"\""
      ],
      "metadata": {
        "id": "vXtTCSHx7Khr",
        "colab": {
          "base_uri": "https://localhost:8080/"
        },
        "outputId": "7ef83ec2-7858-4028-9d89-ff79f96c535b"
      },
      "execution_count": 5,
      "outputs": [
        {
          "output_type": "stream",
          "name": "stdout",
          "text": [
            "3\n",
            "2\n",
            "1\n"
          ]
        }
      ]
    },
    {
      "cell_type": "markdown",
      "source": [
        "# Stack: Pop for Stack That Uses List\n",
        "\n",
        "\n",
        "---\n",
        "Add a method to pop a value from the Stack implementation that we began in the last two Coding Exercises.\n",
        "\n",
        "Remember: This Stack implementation uses a list instead of a linked list.\n"
      ],
      "metadata": {
        "id": "7CHkQDxj7K_6"
      }
    },
    {
      "cell_type": "code",
      "source": [
        "class Stack:\n",
        "\n",
        "    def __init__(self):\n",
        "        self.stack_list = []\n",
        "\n",
        "    def print_stack(self):\n",
        "        for i in range(len(self.stack_list)-1, -1, -1):\n",
        "            print(self.stack_list[i])\n",
        "\n",
        "    def is_empty(self):\n",
        "        return len(self.stack_list) == 0\n",
        "\n",
        "    def peek(self):\n",
        "        if self.is_empty():\n",
        "            return None\n",
        "        else:\n",
        "            return self.stack_list[-1]\n",
        "\n",
        "    def size(self):\n",
        "        return len(self.stack_list)\n",
        "\n",
        "    def push(self, value):\n",
        "        self.stack_list.append(value)\n",
        "\n",
        "    def pop(self):\n",
        "        if self.is_empty():\n",
        "            return None\n",
        "        else:\n",
        "            # pop is a list method and not recursion here\n",
        "            return self.stack_list.pop()"
      ],
      "metadata": {
        "id": "mA4rrLrR7SCq"
      },
      "execution_count": 6,
      "outputs": []
    },
    {
      "cell_type": "code",
      "source": [
        "my_stack = Stack()\n",
        "my_stack.push(1)\n",
        "my_stack.push(2)\n",
        "my_stack.push(3)\n",
        "\n",
        "print(\"Stack before pop():\")\n",
        "my_stack.print_stack()\n",
        "\n",
        "print(\"\\nPopped node:\")\n",
        "print(my_stack.pop())\n",
        "\n",
        "print(\"\\nStack after pop():\")\n",
        "my_stack.print_stack()\n",
        "\n",
        "\n",
        "\n",
        "# \"\"\"\n",
        "#     EXPECTED OUTPUT:\n",
        "#     ----------------\n",
        "#     Stack before pop():\n",
        "#     3\n",
        "#     2\n",
        "#     1\n",
        "\n",
        "#     Popped node:\n",
        "#     3\n",
        "\n",
        "#     Stack after pop():\n",
        "#     2\n",
        "#     1\n",
        "\n",
        "# \"\"\""
      ],
      "metadata": {
        "colab": {
          "base_uri": "https://localhost:8080/"
        },
        "id": "pA5DLVvIop_J",
        "outputId": "0ad16ad8-1b3e-4e4c-9753-ad39aedf6e3d"
      },
      "execution_count": 7,
      "outputs": [
        {
          "output_type": "stream",
          "name": "stdout",
          "text": [
            "Stack before pop():\n",
            "3\n",
            "2\n",
            "1\n",
            "\n",
            "Popped node:\n",
            "3\n",
            "\n",
            "Stack after pop():\n",
            "2\n",
            "1\n"
          ]
        }
      ]
    },
    {
      "cell_type": "code",
      "source": [],
      "metadata": {
        "id": "Cycf4A3Q7UOi"
      },
      "execution_count": null,
      "outputs": []
    },
    {
      "cell_type": "markdown",
      "source": [
        "# Stack: Parentheses Balanced\n",
        "\n",
        "\n",
        "---\n",
        "\n",
        "Check to see if a string of parentheses is balanced or not.\n",
        "\n",
        "By \"balanced,\" we mean that for every open parenthesis, there is a matching closing parenthesis in the correct order. For example, the string \"((()))\" has three pairs of balanced parentheses, so it is a balanced string. On the other hand, the string \"(()))\" has an imbalance, as the last two parentheses do not match, so it is not balanced.  Also, the string \")(\" is not balanced because the close parenthesis needs to follow the open parenthesis.\n",
        "\n",
        "Your program should take a string of parentheses as input and return True if it is balanced, or False if it is not. In order to solve this problem, use a Stack data structure.\n",
        "\n",
        "Function name:\n",
        "is_balanced_parentheses\n",
        "\n",
        "Remember: this is not a method within the Stack class, this is a separate function.  Indent all the way to the left.\n",
        "\n",
        "\n",
        "\n",
        "This will use the Stack class we created in these coding exercises:"
      ],
      "metadata": {
        "id": "odcGtKg-7UV3"
      }
    },
    {
      "cell_type": "code",
      "source": [
        "class Stack:\n",
        "    def __init__(self):\n",
        "        self.stack_list = []\n",
        "\n",
        "    def print_stack(self):\n",
        "        for i in range(len(self.stack_list)-1, -1, -1):\n",
        "            print(self.stack_list[i])\n",
        "\n",
        "    def is_empty(self):\n",
        "        return len(self.stack_list) == 0\n",
        "\n",
        "    def peek(self):\n",
        "        if self.is_empty():\n",
        "            return None\n",
        "        else:\n",
        "            return self.stack_list[-1]\n",
        "\n",
        "    def size(self):\n",
        "        return len(self.stack_list)\n",
        "\n",
        "    def push(self, value):\n",
        "        self.stack_list.append(value)\n",
        "\n",
        "    def pop(self):\n",
        "        if self.is_empty():\n",
        "            return None\n",
        "        else:\n",
        "            return self.stack_list.pop()"
      ],
      "metadata": {
        "id": "D511Uu487bLl"
      },
      "execution_count": null,
      "outputs": []
    },
    {
      "cell_type": "code",
      "source": [
        "def is_balanced_parentheses(text):\n",
        "    stack = Stack()\n",
        "    for char in text:\n",
        "        if char == '(':\n",
        "            stack.push(char)\n",
        "        elif char == ')':\n",
        "            if stack.is_empty():\n",
        "                return False\n",
        "            stack.pop()\n",
        "    return stack.is_empty()"
      ],
      "metadata": {
        "id": "Prymx0i8vWJ4"
      },
      "execution_count": 10,
      "outputs": []
    },
    {
      "cell_type": "code",
      "source": [
        "def test_is_balanced_parentheses():\n",
        "    try:\n",
        "        assert is_balanced_parentheses('((()))') == True\n",
        "        print('Test case 1 passed')\n",
        "    except AssertionError:\n",
        "        print('Test case 1 failed')\n",
        "\n",
        "    try:\n",
        "        assert is_balanced_parentheses('()') == True\n",
        "        print('Test case 2 passed')\n",
        "    except AssertionError:\n",
        "        print('Test case 2 failed')\n",
        "\n",
        "    try:\n",
        "        assert is_balanced_parentheses('(()())') == True\n",
        "        print('Test case 3 passed')\n",
        "    except AssertionError:\n",
        "        print('Test case 3 failed')\n",
        "\n",
        "    try:\n",
        "        assert is_balanced_parentheses('(()') == False\n",
        "        print('Test case 4 passed')\n",
        "    except AssertionError:\n",
        "        print('Test case 4 failed')\n",
        "\n",
        "    try:\n",
        "        assert is_balanced_parentheses('())') == False\n",
        "        print('Test case 5 passed')\n",
        "    except AssertionError:\n",
        "        print('Test case 5 failed')\n",
        "\n",
        "    try:\n",
        "        assert is_balanced_parentheses(')(') == False\n",
        "        print('Test case 6 passed')\n",
        "    except AssertionError:\n",
        "        print('Test case 6 failed')\n",
        "\n",
        "    try:\n",
        "        assert is_balanced_parentheses('') == True\n",
        "        print('Test case 7 passed')\n",
        "    except AssertionError:\n",
        "        print('Test case 7 failed')\n",
        "\n",
        "    try:\n",
        "        assert is_balanced_parentheses('()()()()') == True\n",
        "        print('Test case 8 passed')\n",
        "    except AssertionError:\n",
        "        print('Test case 8 failed')\n",
        "\n",
        "    try:\n",
        "        assert is_balanced_parentheses('(())(())') == True\n",
        "        print('Test case 9 passed')\n",
        "    except AssertionError:\n",
        "        print('Test case 9 failed')\n",
        "\n",
        "    try:\n",
        "        assert is_balanced_parentheses('(()()())') == True\n",
        "        print('Test case 10 passed')\n",
        "    except AssertionError:\n",
        "        print('Test case 10 failed')\n",
        "\n",
        "    try:\n",
        "        assert is_balanced_parentheses('((())') == False\n",
        "        print('Test case 11 passed')\n",
        "    except AssertionError:\n",
        "        print('Test case 11 failed')\n",
        "\n",
        "test_is_balanced_parentheses()\n"
      ],
      "metadata": {
        "id": "5xZW1t7w7e5F",
        "colab": {
          "base_uri": "https://localhost:8080/"
        },
        "outputId": "34e0f872-7116-41fd-961c-f268392d1c56"
      },
      "execution_count": 11,
      "outputs": [
        {
          "output_type": "stream",
          "name": "stdout",
          "text": [
            "Test case 1 passed\n",
            "Test case 2 passed\n",
            "Test case 3 passed\n",
            "Test case 4 passed\n",
            "Test case 5 passed\n",
            "Test case 6 passed\n",
            "Test case 7 passed\n",
            "Test case 8 passed\n",
            "Test case 9 passed\n",
            "Test case 10 passed\n",
            "Test case 11 passed\n"
          ]
        }
      ]
    },
    {
      "cell_type": "code",
      "source": [],
      "metadata": {
        "id": "X7XQgfnLzRIS"
      },
      "execution_count": null,
      "outputs": []
    },
    {
      "cell_type": "markdown",
      "source": [
        "# Stack: Reverse String\n",
        "\n",
        "\n",
        "---\n",
        "\n",
        "The reverse_string function takes a single parameter string, which is the string you want to reverse.\n",
        "\n",
        "Return a new string with the letters in reverse order.\n",
        "\n",
        "This will use the Stack class we created in the last three coding exercises:"
      ],
      "metadata": {
        "id": "MSzmdsP27fbv"
      }
    },
    {
      "cell_type": "code",
      "source": [
        "class Stack:\n",
        "    def __init__(self):\n",
        "        self.stack_list = []\n",
        "\n",
        "    def print_stack(self):\n",
        "        for i in range(len(self.stack_list)-1, -1, -1):\n",
        "            print(self.stack_list[i])\n",
        "\n",
        "    def is_empty(self):\n",
        "        return len(self.stack_list) == 0\n",
        "\n",
        "    def peek(self):\n",
        "        if self.is_empty():\n",
        "            return None\n",
        "        else:\n",
        "            return self.stack_list[-1]\n",
        "\n",
        "    def size(self):\n",
        "        return len(self.stack_list)\n",
        "\n",
        "    def push(self, value):\n",
        "        self.stack_list.append(value)\n",
        "\n",
        "    def pop(self):\n",
        "        if self.is_empty():\n",
        "            return None\n",
        "        else:\n",
        "            return self.stack_list.pop()\n",
        "\n",
        "## WRITE REVERSE_STRING FUNCTION HERE ###\n",
        "#                                       #\n",
        "#  This is a separate function that is  #\n",
        "#  not a method within the Stack class. #\n",
        "#  Indent all the way to the left.      #\n",
        "#                                       #\n",
        "#########################################\n",
        "def reverse_string(my_string):\n",
        "    my_stack = Stack()\n",
        "\n",
        "    for letter in my_string:\n",
        "        my_stack.push(letter)\n",
        "\n",
        "    popped_letter = ''\n",
        "\n",
        "    for _ in range(my_stack.size()):\n",
        "        popped_letter = popped_letter + my_stack.pop()\n",
        "\n",
        "    return popped_letter"
      ],
      "metadata": {
        "id": "dV8dMCLm7lHd"
      },
      "execution_count": 35,
      "outputs": []
    },
    {
      "cell_type": "code",
      "source": [],
      "metadata": {
        "id": "PnmrNFjo5SDh"
      },
      "execution_count": null,
      "outputs": []
    },
    {
      "cell_type": "code",
      "source": [
        "my_string = 'hello'\n",
        "print (reverse_string(my_string) )\n",
        "\n",
        "# \"\"\"\n",
        "#     EXPECTED OUTPUT:\n",
        "#     ----------------\n",
        "#     olleh\n",
        "\n",
        "# \"\"\"\n"
      ],
      "metadata": {
        "colab": {
          "base_uri": "https://localhost:8080/"
        },
        "id": "cXld_hgd4l5V",
        "outputId": "8e5fe7cb-4775-4451-d7db-f021eddc01e7"
      },
      "execution_count": 36,
      "outputs": [
        {
          "output_type": "stream",
          "name": "stdout",
          "text": [
            "olleh\n"
          ]
        }
      ]
    },
    {
      "cell_type": "code",
      "source": [],
      "metadata": {
        "id": "_QV-APjr7m63"
      },
      "execution_count": null,
      "outputs": []
    },
    {
      "cell_type": "markdown",
      "source": [
        "# Stack: Sort Stack\n",
        "\n",
        "\n",
        "---\n",
        "\n",
        "The sort_stack function takes a single argument, a Stack object.  The function should sort the elements in the stack in ascending order (the lowest value will be at the top of the stack) using only one additional stack.\n",
        "\n",
        "The function should use the pop, push, peek, and is_empty methods of the Stack object.\n",
        "\n",
        "Note: This is a new function, not a method within the Stack class. So, your indent should be all the way to the LEFT.\n",
        "\n",
        "This will use the Stack class we created in these coding exercises:\n",
        "\n",
        "\n",
        "The function should perform the following tasks:\n",
        "\n",
        "Create a new instance of the Stack class called sorted_stack.\n",
        "\n",
        "While the input stack is not empty, perform the following:\n",
        "\n",
        "Pop the top element from the input stack and store it in a variable temp.\n",
        "\n",
        "While the sorted_stack is not empty and its top element is greater than temp, pop the top element from sorted_stack and push it back onto the input stack.\n",
        "\n",
        "Push the temp variable onto the sorted_stack.\n",
        "\n",
        "Once the input stack is empty, transfer the elements back from sorted_stack to the input stack. To do this, while sorted_stack is not empty, pop the top element from sorted_stack and push it onto the input stack.\n",
        "\n",
        "\n",
        "Overall, the function should have a time complexity of O(n^2), where n is the number of elements in the original stack, due to the nested loops used to compare the elements.  However, the function should only use one additional stack, which could be useful in situations where memory is limited."
      ],
      "metadata": {
        "id": "NPp14YrX7nDh"
      }
    },
    {
      "cell_type": "code",
      "source": [
        "class Stack:\n",
        "    def __init__(self):\n",
        "        self.stack_list = []\n",
        "\n",
        "    def print_stack(self):\n",
        "        for i in range(len(self.stack_list)-1, -1, -1):\n",
        "            print(self.stack_list[i])\n",
        "\n",
        "    def is_empty(self):\n",
        "        return len(self.stack_list) == 0\n",
        "\n",
        "    def peek(self):\n",
        "        if self.is_empty():\n",
        "            return None\n",
        "        else:\n",
        "            return self.stack_list[-1]\n",
        "\n",
        "    def size(self):\n",
        "        return len(self.stack_list)\n",
        "\n",
        "    def push(self, value):\n",
        "        self.stack_list.append(value)\n",
        "\n",
        "    def pop(self):\n",
        "        if self.is_empty():\n",
        "            return None\n",
        "        else:\n",
        "            return self.stack_list.pop()\n",
        "\n",
        "\n",
        "\n",
        "\n",
        "##### WRITE SORT_STACK FUNCTION HERE #####\n",
        "#                                        #\n",
        "#  This is a separate function that is   #\n",
        "#  not a method within the Stack class.  #\n",
        "#                                        #\n",
        "#  <- INDENT ALL THE WAY TO THE LEFT <-  #\n",
        "#                                        #\n",
        "##########################################\n",
        "\n",
        "def sort_stack(input_stack):\n",
        "    # ---------  Using List method -----------\n",
        "\n",
        "    # elements = []\n",
        "\n",
        "    # for _ in range(input_stack.size()):\n",
        "    #     elements.append(input_stack.pop())\n",
        "\n",
        "    # elements.sort()\n",
        "    # sorted_stack = Stack()\n",
        "\n",
        "    # for element in elements:\n",
        "    #     sorted_stack.push(element)\n",
        "\n",
        "    # # clear the input stack\n",
        "    # for _ in range(input_stack.size()):\n",
        "    #     input_stack.pop()\n",
        "\n",
        "    # # put the values from sorted_stack into input_stack\n",
        "    # for _ in range(sorted_stack.size()):\n",
        "    #     input_stack.push(sorted_stack.pop())\n",
        "\n",
        "    # ---------   xxxxxxxxx   ---------------\n",
        "\n",
        "\n",
        "    while not input_stack.is_empty():\n",
        "        temp = input_stack.pop()\n",
        "\n",
        "        while not sorted_stack.is_empty() and sorted_stack.peek() > temp:\n",
        "            input_stack.push(sorted_stack.pop())\n",
        "\n",
        "        sorted_stack.push(temp)\n",
        "\n",
        "    while not sorted_stack.is_empty():\n",
        "        input_stack.push(sorted_stack.pop())"
      ],
      "metadata": {
        "id": "nAKJQq5S7wNe"
      },
      "execution_count": 58,
      "outputs": []
    },
    {
      "cell_type": "code",
      "source": [
        "my_stack = Stack()\n",
        "my_stack.push(3)\n",
        "my_stack.push(1)\n",
        "my_stack.push(5)\n",
        "my_stack.push(4)\n",
        "my_stack.push(2)\n",
        "\n",
        "print(\"Stack before sort_stack():\")\n",
        "my_stack.print_stack()\n",
        "\n",
        "sort_stack(my_stack)\n",
        "\n",
        "print(\"\\nStack after sort_stack:\")\n",
        "my_stack.print_stack()\n",
        "\n",
        "\n",
        "\n",
        "# \"\"\"\n",
        "#     EXPECTED OUTPUT:\n",
        "#     ----------------\n",
        "#     Stack before sort_stack():\n",
        "#     2\n",
        "#     4\n",
        "#     5\n",
        "#     1\n",
        "#     3\n",
        "\n",
        "#     Stack after sort_stack:\n",
        "#     1\n",
        "#     2\n",
        "#     3\n",
        "#     4\n",
        "#     5\n",
        "\n",
        "# \"\"\""
      ],
      "metadata": {
        "id": "uDxYLuyX7zWA",
        "colab": {
          "base_uri": "https://localhost:8080/"
        },
        "outputId": "896bd5b5-a87f-40d2-ae44-4db2c5bce74f"
      },
      "execution_count": 59,
      "outputs": [
        {
          "output_type": "stream",
          "name": "stdout",
          "text": [
            "Stack before sort_stack():\n",
            "2\n",
            "4\n",
            "5\n",
            "1\n",
            "3\n",
            "\n",
            "Stack after sort_stack:\n",
            "1\n",
            "2\n",
            "3\n",
            "4\n",
            "5\n"
          ]
        }
      ]
    },
    {
      "cell_type": "code",
      "source": [],
      "metadata": {
        "id": "kID51woACfef"
      },
      "execution_count": null,
      "outputs": []
    },
    {
      "cell_type": "code",
      "source": [],
      "metadata": {
        "id": "S8txL-UfCfiI"
      },
      "execution_count": null,
      "outputs": []
    },
    {
      "cell_type": "markdown",
      "source": [
        "# Queue Using Stacks: Enqueue\n",
        "\n",
        "\n",
        "---\n",
        "\n",
        "You are given a class MyQueue which implements a queue using two stacks. Your task is to implement the enqueue method which should add an element to the back of the queue.\n",
        "\n",
        "To achieve this, you can use the two stacks stack1 and stack2. Initially, all elements are stored in stack1 and stack2 is empty. In order to add an element to the back of the queue, you need to first transfer all elements from stack1 to stack2 using a loop that pops each element from stack1 and pushes it onto stack2.\n",
        "\n",
        "Once all elements have been transferred to stack2, push the new element onto stack1. Finally, transfer all elements from stack2 back to stack1 in the same way as before, so that the queue maintains its ordering.\n",
        "\n",
        "Your implementation should satisfy the following constraints:\n",
        "\n",
        "\n",
        "\n",
        "The method signature should be def enqueue(self, value).\n",
        "\n",
        "The method should add the element value to the back of the queue.\n",
        "\n",
        "\n"
      ],
      "metadata": {
        "id": "EM2BzRHk71-g"
      }
    },
    {
      "cell_type": "code",
      "source": [
        "class MyQueue:\n",
        "    def __init__(self):\n",
        "        self.stack1 = []\n",
        "        self.stack2 = []\n",
        "\n",
        "    # WRITE ENQUEUE MEHTOD HERE #\n",
        "    #                           #\n",
        "    #                           #\n",
        "    #                           #\n",
        "    #                           #\n",
        "    #############################\n",
        "\n",
        "    def peek(self):\n",
        "        return self.stack1[-1]\n",
        "\n",
        "    def is_empty(self):\n",
        "        return len(self.stack1) == 0\n",
        "\n",
        "\n",
        "\n",
        "# Create a new queue\n",
        "q = MyQueue()\n",
        "\n",
        "# Enqueue some values\n",
        "q.enqueue(1)\n",
        "q.enqueue(2)\n",
        "q.enqueue(3)\n",
        "\n",
        "# Output the front of the queue\n",
        "print(\"Front of the queue:\", q.peek())\n",
        "\n",
        "# Check if the queue is empty\n",
        "print(\"Is the queue empty?\", q.is_empty())\n",
        "\n",
        "\n",
        "\"\"\"\n",
        "    EXPECTED OUTPUT:\n",
        "    ----------------\n",
        "    Front of the queue: 1\n",
        "    Is the queue empty? False\n",
        "\n",
        "\"\"\"\n"
      ],
      "metadata": {
        "id": "7hW6K21N74n-"
      },
      "execution_count": null,
      "outputs": []
    },
    {
      "cell_type": "code",
      "source": [],
      "metadata": {
        "id": "Aihal3z476Uj"
      },
      "execution_count": null,
      "outputs": []
    },
    {
      "cell_type": "markdown",
      "source": [
        "# Queue Using Stacks: Dequeue\n",
        "\n",
        "\n",
        "---\n",
        "\n",
        "You have been tasked with implementing a queue data structure using two stacks in Python, and you need to write the dequeue method.\n",
        "\n",
        "The dequeue method should remove and return the first element in the queue.\n",
        "\n"
      ],
      "metadata": {
        "id": "hbN5oDCG76ex"
      }
    },
    {
      "cell_type": "code",
      "source": [
        "class MyQueue:\n",
        "    def __init__(self):\n",
        "        self.stack1 = []\n",
        "        self.stack2 = []\n",
        "\n",
        "    def enqueue(self, value):\n",
        "        while len(self.stack1) > 0:\n",
        "            self.stack2.append(self.stack1.pop())\n",
        "        self.stack1.append(value)\n",
        "        while len(self.stack2) > 0:\n",
        "            self.stack1.append(self.stack2.pop())\n",
        "\n",
        "    # WRITE DEQUEUE MEHTOD HERE #\n",
        "    #                           #\n",
        "    #                           #\n",
        "    #                           #\n",
        "    #                           #\n",
        "    #############################\n",
        "\n",
        "    def peek(self):\n",
        "        return self.stack1[-1]\n",
        "\n",
        "    def is_empty(self):\n",
        "        return len(self.stack1) == 0\n",
        "\n",
        "\n",
        "\n",
        "# Create a new queue\n",
        "q = MyQueue()\n",
        "\n",
        "# Enqueue some values\n",
        "q.enqueue(1)\n",
        "q.enqueue(2)\n",
        "q.enqueue(3)\n",
        "\n",
        "# Output the front of the queue\n",
        "print(\"Front of the queue:\", q.peek())\n",
        "\n",
        "# Dequeue some values\n",
        "print(\"Dequeued value:\", q.dequeue())\n",
        "print(\"Dequeued value:\", q.dequeue())\n",
        "\n",
        "# Enqueue another value\n",
        "q.enqueue(4)\n",
        "\n",
        "# Output the front of the queue again\n",
        "print(\"Front of the queue:\", q.peek())\n",
        "\n",
        "# Dequeue all remaining values\n",
        "print(\"Dequeued value:\", q.dequeue())\n",
        "print(\"Dequeued value:\", q.dequeue())\n",
        "\n",
        "# Check if the queue is empty\n",
        "print(\"Is the queue empty?\", q.is_empty())\n",
        "\n",
        "# Dequeue from an empty queue and check if it returns None\n",
        "print(\"Dequeued value from empty queue:\", q.dequeue())\n",
        "\n",
        "\n",
        "\n",
        "\"\"\"\n",
        "    EXPECTED OUTPUT:\n",
        "    ----------------\n",
        "    Front of the queue: 1\n",
        "    Dequeued value: 1\n",
        "    Dequeued value: 2\n",
        "    Front of the queue: 3\n",
        "    Dequeued value: 3\n",
        "    Dequeued value: 4\n",
        "    Is the queue empty? True\n",
        "    Dequeued value from empty queue: None\n",
        "\n",
        "\"\"\"\n"
      ],
      "metadata": {
        "id": "mxJ5WfLE7_de"
      },
      "execution_count": null,
      "outputs": []
    },
    {
      "cell_type": "code",
      "source": [],
      "metadata": {
        "id": "W2FDuo2q8AzJ"
      },
      "execution_count": null,
      "outputs": []
    }
  ]
}