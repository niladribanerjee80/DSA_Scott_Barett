{
  "nbformat": 4,
  "nbformat_minor": 0,
  "metadata": {
    "colab": {
      "provenance": [],
      "authorship_tag": "ABX9TyOrJrls8pF9F/cL/pQl5Tw7",
      "include_colab_link": true
    },
    "kernelspec": {
      "name": "python3",
      "display_name": "Python 3"
    },
    "language_info": {
      "name": "python"
    }
  },
  "cells": [
    {
      "cell_type": "markdown",
      "metadata": {
        "id": "view-in-github",
        "colab_type": "text"
      },
      "source": [
        "<a href=\"https://colab.research.google.com/github/niladribanerjee80/DSA_Scott_Barett/blob/main/Topic_3_Stacks_classroom_exercises.ipynb\" target=\"_parent\"><img src=\"https://colab.research.google.com/assets/colab-badge.svg\" alt=\"Open In Colab\"/></a>"
      ]
    },
    {
      "cell_type": "markdown",
      "source": [
        "# Stack : Constructor"
      ],
      "metadata": {
        "id": "OdkuADZhuBAz"
      }
    },
    {
      "cell_type": "code",
      "execution_count": null,
      "metadata": {
        "id": "mb4bA6iZc9Gn"
      },
      "outputs": [],
      "source": [
        "# class Node:\n",
        "    ## WRITE NODE CONSTRUCTOR HERE ##\n",
        "    #                               #\n",
        "    #                               #\n",
        "    #                               #\n",
        "    #                               #\n",
        "    #################################\n",
        "\n",
        "# class Stack:\n",
        "    ## WRITE STACK CONSTRUCTOR HERE ##\n",
        "    #                                #\n",
        "    #                                #\n",
        "    #                                #\n",
        "    #                                #\n",
        "    ##################################"
      ]
    },
    {
      "cell_type": "code",
      "source": [
        "my_stack = Stack(4)\n",
        "\n",
        "print('Top:', my_stack.top.value)\n",
        "print('Height:', my_stack.height)\n",
        "\n",
        "\n",
        "\n",
        "\"\"\"\n",
        "    EXPECTED OUTPUT:\n",
        "    ----------------\n",
        "    Top: 4\n",
        "    Height: 1\n",
        "\n",
        "\"\"\""
      ],
      "metadata": {
        "id": "ccPKbgiKuOZc"
      },
      "execution_count": null,
      "outputs": []
    },
    {
      "cell_type": "code",
      "source": [],
      "metadata": {
        "id": "YI9YIHQnuPxc"
      },
      "execution_count": null,
      "outputs": []
    },
    {
      "cell_type": "markdown",
      "source": [
        "# Stack : Push"
      ],
      "metadata": {
        "id": "cQvdaX8auFUK"
      }
    },
    {
      "cell_type": "code",
      "source": [
        "class Node:\n",
        "    def __init__(self, value):\n",
        "        self.value = value\n",
        "        self.next = None\n",
        "\n",
        "\n",
        "class Stack:\n",
        "    def __init__(self, value):\n",
        "        new_node = Node(value)\n",
        "        self.top = new_node\n",
        "        self.height = 1\n",
        "\n",
        "    def print_stack(self):\n",
        "        temp = self.top\n",
        "        while temp is not None:\n",
        "            print(temp.value)\n",
        "            temp = temp.next\n",
        "\n",
        "    ### WRITE PUSH METHOD HERE ###\n",
        "    #                            #\n",
        "    #                            #\n",
        "    #                            #\n",
        "    #                            #\n",
        "    ##############################"
      ],
      "metadata": {
        "id": "-nPt_DH6uE1d"
      },
      "execution_count": null,
      "outputs": []
    },
    {
      "cell_type": "code",
      "source": [
        "my_stack = Stack(2)\n",
        "\n",
        "print('Stack before push(1):')\n",
        "my_stack.print_stack()\n",
        "\n",
        "my_stack.push(1)\n",
        "\n",
        "print('\\nStack after push(1):')\n",
        "my_stack.print_stack()\n",
        "\n",
        "\n",
        "\n",
        "\"\"\"\n",
        "    EXPECTED OUTPUT:\n",
        "    ----------------\n",
        "    Stack before push(1):\n",
        "    2\n",
        "\n",
        "    Stack after push(1):\n",
        "    1\n",
        "    2\n",
        "\n",
        "\"\"\""
      ],
      "metadata": {
        "id": "PZKK8bALub1P"
      },
      "execution_count": null,
      "outputs": []
    },
    {
      "cell_type": "markdown",
      "source": [
        "# Stack pop"
      ],
      "metadata": {
        "id": "8_j3WpVuucrp"
      }
    },
    {
      "cell_type": "code",
      "source": [
        "class Node:\n",
        "    def __init__(self, value):\n",
        "        self.value = value\n",
        "        self.next = None\n",
        "\n",
        "\n",
        "class Stack:\n",
        "    def __init__(self, value):\n",
        "        new_node = Node(value)\n",
        "        self.top = new_node\n",
        "        self.height = 1\n",
        "\n",
        "    def print_stack(self):\n",
        "        temp = self.top\n",
        "        while temp is not None:\n",
        "            print(temp.value)\n",
        "            temp = temp.next\n",
        "\n",
        "    def push(self, value):\n",
        "        new_node = Node(value)\n",
        "        if self.height == 0:\n",
        "            self.top = new_node\n",
        "        else:\n",
        "            new_node.next = self.top\n",
        "            self.top = new_node\n",
        "        self.height += 1\n",
        "        return True\n",
        "\n",
        "    ### WRITE POP METHOD HERE ###\n",
        "    #                           #\n",
        "    #                           #\n",
        "    #                           #\n",
        "    #                           #\n",
        "    #############################"
      ],
      "metadata": {
        "id": "o_tfseocuehL"
      },
      "execution_count": null,
      "outputs": []
    },
    {
      "cell_type": "code",
      "source": [
        "my_stack = Stack(4)\n",
        "my_stack.push(3)\n",
        "my_stack.push(2)\n",
        "my_stack.push(1)\n",
        "\n",
        "print('Stack before pop():')\n",
        "my_stack.print_stack()\n",
        "\n",
        "print('\\nPopped node:')\n",
        "print(my_stack.pop().value)\n",
        "\n",
        "print('\\nStack after pop():')\n",
        "my_stack.print_stack()\n",
        "\n",
        "\n",
        "\n",
        "\"\"\"\n",
        "    EXPECTED OUTPUT:\n",
        "    ----------------\n",
        "    Stack before pop():\n",
        "    1\n",
        "    2\n",
        "    3\n",
        "    4\n",
        "\n",
        "    Popped node:\n",
        "    1\n",
        "\n",
        "    Stack after pop():\n",
        "    2\n",
        "    3\n",
        "    4\n",
        "\n",
        "\"\"\""
      ],
      "metadata": {
        "id": "3_DI-zfaukwF"
      },
      "execution_count": null,
      "outputs": []
    },
    {
      "cell_type": "code",
      "source": [],
      "metadata": {
        "id": "1dRRrXg5up5l"
      },
      "execution_count": null,
      "outputs": []
    }
  ]
}