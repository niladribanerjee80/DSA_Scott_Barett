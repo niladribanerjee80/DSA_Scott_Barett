{
  "nbformat": 4,
  "nbformat_minor": 0,
  "metadata": {
    "colab": {
      "provenance": [],
      "authorship_tag": "ABX9TyO4NSDHOr51OKNnJ3c10+aV",
      "include_colab_link": true
    },
    "kernelspec": {
      "name": "python3",
      "display_name": "Python 3"
    },
    "language_info": {
      "name": "python"
    }
  },
  "cells": [
    {
      "cell_type": "markdown",
      "metadata": {
        "id": "view-in-github",
        "colab_type": "text"
      },
      "source": [
        "<a href=\"https://colab.research.google.com/github/niladribanerjee80/DSA_Scott_Barett/blob/main/Topic_4_Trees.ipynb\" target=\"_parent\"><img src=\"https://colab.research.google.com/assets/colab-badge.svg\" alt=\"Open In Colab\"/></a>"
      ]
    },
    {
      "cell_type": "markdown",
      "source": [
        "# BST Constructor"
      ],
      "metadata": {
        "id": "N86gzUnBcoQw"
      }
    },
    {
      "cell_type": "code",
      "execution_count": null,
      "metadata": {
        "id": "nvQ50sWrGfvk"
      },
      "outputs": [],
      "source": [
        "class Node:\n",
        "    def __init__(self,value):\n",
        "        self.value = value\n",
        "        self.left = None\n",
        "        self.right = None\n",
        "\n",
        "class BinarySearchTree:\n",
        "    def __init__(self):\n",
        "        self.root = None"
      ]
    },
    {
      "cell_type": "code",
      "source": [
        "my_tree = BinarySearchTree()\n",
        "print(my_tree.root)"
      ],
      "metadata": {
        "colab": {
          "base_uri": "https://localhost:8080/"
        },
        "id": "Z6l42r6Ec87E",
        "outputId": "eccdf8ec-f349-4c3d-8339-e451d006e8cd"
      },
      "execution_count": null,
      "outputs": [
        {
          "output_type": "stream",
          "name": "stdout",
          "text": [
            "None\n"
          ]
        }
      ]
    },
    {
      "cell_type": "markdown",
      "source": [
        "# Insert\n",
        "\n",
        "---\n",
        "* Insert a new node into a tree\n",
        "\n"
      ],
      "metadata": {
        "id": "PdCHno3hijcS"
      }
    },
    {
      "cell_type": "code",
      "source": [
        "class Node:\n",
        "    def __init__(self,value):\n",
        "        self.value = value\n",
        "        self.left = None\n",
        "        self.right = None\n",
        "\n",
        "class BinarySearchTree:\n",
        "    def __init__(self):\n",
        "        self.root = None\n",
        "\n",
        "    def insert(self,value):\n",
        "        # create a new node\n",
        "        new_node = Node(value)\n",
        "\n",
        "        if self.root is None:\n",
        "            self.root = new_node\n",
        "            return True\n",
        "\n",
        "        temp = self.root\n",
        "\n",
        "        while True:\n",
        "            if new_node.value < temp.value:\n",
        "                if temp.left is None:\n",
        "                    temp.left = new_node\n",
        "                    return True\n",
        "                temp = temp.left\n",
        "\n",
        "            elif new_node.value > temp.value:\n",
        "                if temp.right is None:\n",
        "                    temp.right = new_node\n",
        "                    return True\n",
        "                temp = temp.right\n",
        "\n",
        "            else: # new_node and existing node values are equal\n",
        "                return False"
      ],
      "metadata": {
        "id": "vOGXY_jfdODy"
      },
      "execution_count": null,
      "outputs": []
    },
    {
      "cell_type": "code",
      "source": [
        "my_tree = BinarySearchTree()\n",
        "my_tree.insert(2)\n",
        "my_tree.insert(1)\n",
        "my_tree.insert(3)\n",
        "\n",
        "print(my_tree.root.value)\n",
        "print(my_tree.root.left.value)\n",
        "print(my_tree.root.right.value)"
      ],
      "metadata": {
        "colab": {
          "base_uri": "https://localhost:8080/"
        },
        "id": "FpppKR8BmWcd",
        "outputId": "f22da9dd-24dd-4b6c-ee47-518573ebecd3"
      },
      "execution_count": null,
      "outputs": [
        {
          "output_type": "stream",
          "name": "stdout",
          "text": [
            "2\n",
            "1\n",
            "3\n"
          ]
        }
      ]
    },
    {
      "cell_type": "markdown",
      "source": [
        "# Contains\n",
        "\n",
        "\n",
        "---\n",
        "* If a tree contains a specific value\n",
        "* kind of lookup\n"
      ],
      "metadata": {
        "id": "U-Lb0-5Wm5bz"
      }
    },
    {
      "cell_type": "code",
      "source": [
        "class Node:\n",
        "    def __init__(self,value):\n",
        "        self.value = value\n",
        "        self.left = None\n",
        "        self.right = None\n",
        "\n",
        "class BinarySearchTree:\n",
        "    def __init__(self):\n",
        "        self.root = None\n",
        "\n",
        "    def insert(self,value):\n",
        "        # create a new node\n",
        "        new_node = Node(value)\n",
        "\n",
        "        if self.root is None:\n",
        "            self.root = new_node\n",
        "            return True\n",
        "\n",
        "        temp = self.root\n",
        "\n",
        "        while True:\n",
        "            if new_node.value < temp.value:\n",
        "                if temp.left is None:\n",
        "                    temp.left = new_node\n",
        "                    return True\n",
        "                temp = temp.left\n",
        "\n",
        "            elif new_node.value > temp.value:\n",
        "                if temp.right is None:\n",
        "                    temp.right = new_node\n",
        "                    return True\n",
        "                temp = temp.right\n",
        "\n",
        "            else: # new_node and existing node values are equal\n",
        "                return False\n",
        "\n",
        "    def contains(self,value):\n",
        "\n",
        "        if self.root is None:\n",
        "            return False\n",
        "\n",
        "        temp = self.root\n",
        "\n",
        "        while True:\n",
        "            if value < temp.value:\n",
        "                if temp.left is None:\n",
        "                    return False\n",
        "                temp = temp.left\n",
        "            elif value > temp.value:\n",
        "                if temp.right is None:\n",
        "                    return False\n",
        "                temp = temp.right\n",
        "            else:\n",
        "                return True\n"
      ],
      "metadata": {
        "id": "7RbtSTQfmr6r"
      },
      "execution_count": null,
      "outputs": []
    },
    {
      "cell_type": "code",
      "source": [
        "my_tree = BinarySearchTree()\n",
        "my_tree.insert(2)\n",
        "my_tree.insert(1)\n",
        "my_tree.insert(3)\n",
        "print(my_tree.contains(3))\n",
        "print(my_tree.contains(5))"
      ],
      "metadata": {
        "id": "Foex7c1an1lD",
        "outputId": "6a2ca086-8f18-41a1-97ac-8820f07caaa1",
        "colab": {
          "base_uri": "https://localhost:8080/"
        }
      },
      "execution_count": null,
      "outputs": [
        {
          "output_type": "stream",
          "name": "stdout",
          "text": [
            "True\n",
            "False\n"
          ]
        }
      ]
    },
    {
      "cell_type": "markdown",
      "source": [
        "# use recursion : contains"
      ],
      "metadata": {
        "id": "kVEZ9iVErNRr"
      }
    },
    {
      "cell_type": "code",
      "source": [
        "class Node:\n",
        "    def __init__(self,value):\n",
        "        self.value = value\n",
        "        self.left = None\n",
        "        self.right = None\n",
        "\n",
        "class BinarySearchTree:\n",
        "    def __init__(self):\n",
        "        self.root = None\n",
        "\n",
        "    def insert(self,value):\n",
        "        # create a new node\n",
        "        new_node = Node(value)\n",
        "\n",
        "        if self.root is None:\n",
        "            self.root = new_node\n",
        "            return True\n",
        "\n",
        "        temp = self.root\n",
        "\n",
        "        while True:\n",
        "            if new_node.value < temp.value:\n",
        "                if temp.left is None:\n",
        "                    temp.left = new_node\n",
        "                    return True\n",
        "                temp = temp.left\n",
        "\n",
        "            elif new_node.value > temp.value:\n",
        "                if temp.right is None:\n",
        "                    temp.right = new_node\n",
        "                    return True\n",
        "                temp = temp.right\n",
        "\n",
        "            else: # new_node and existing node values are equal\n",
        "                return False\n",
        "\n",
        "    def __r_contains(self,current_node,value):\n",
        "\n",
        "        # if tree is empty\n",
        "        if current_node == None:\n",
        "            return False\n",
        "\n",
        "        # if current_node.value == value\n",
        "        if current_node.value == value:\n",
        "            return True\n",
        "\n",
        "        # if value < current_node.value\n",
        "        if value < current_node.value:\n",
        "            return self.__r_contains(current_node.left,value)\n",
        "        # else value > current_node.value\n",
        "        else:\n",
        "            return self.__r_contains(current_node.right,value)\n",
        "\n",
        "\n",
        "    def r_contains(self,value):\n",
        "        return self.__r_contains(self.root,value)"
      ],
      "metadata": {
        "id": "s7Ct6gqEn82f"
      },
      "execution_count": 4,
      "outputs": []
    },
    {
      "cell_type": "code",
      "source": [
        "my_tree = BinarySearchTree()\n",
        "my_tree.insert(47)\n",
        "my_tree.insert(21)\n",
        "my_tree.insert(76)\n",
        "my_tree.insert(18)\n",
        "my_tree.insert(27)\n",
        "my_tree.insert(52)\n",
        "my_tree.insert(82)"
      ],
      "metadata": {
        "id": "5P_tQi91sYtj",
        "outputId": "2854eb9a-f48d-4b1a-bc12-05d2b9dca2e6",
        "colab": {
          "base_uri": "https://localhost:8080/"
        }
      },
      "execution_count": 5,
      "outputs": [
        {
          "output_type": "execute_result",
          "data": {
            "text/plain": [
              "True"
            ]
          },
          "metadata": {},
          "execution_count": 5
        }
      ]
    },
    {
      "cell_type": "code",
      "source": [
        "my_tree.r_contains(52)"
      ],
      "metadata": {
        "id": "dqSOZyTjsszN",
        "outputId": "86519ac2-d67a-4d52-966c-ffd8bfe87e9a",
        "colab": {
          "base_uri": "https://localhost:8080/"
        }
      },
      "execution_count": 6,
      "outputs": [
        {
          "output_type": "execute_result",
          "data": {
            "text/plain": [
              "True"
            ]
          },
          "metadata": {},
          "execution_count": 6
        }
      ]
    },
    {
      "cell_type": "code",
      "source": [
        "my_tree.r_contains(17)"
      ],
      "metadata": {
        "id": "ihjkX25XsxZ6",
        "outputId": "f16f2396-8c7a-490e-8e35-7dd649d6993f",
        "colab": {
          "base_uri": "https://localhost:8080/"
        }
      },
      "execution_count": 7,
      "outputs": [
        {
          "output_type": "execute_result",
          "data": {
            "text/plain": [
              "False"
            ]
          },
          "metadata": {},
          "execution_count": 7
        }
      ]
    },
    {
      "cell_type": "markdown",
      "source": [
        "# use recursion : insert"
      ],
      "metadata": {
        "id": "kCNmWGVctKuh"
      }
    },
    {
      "cell_type": "code",
      "source": [
        "class Node:\n",
        "    def __init__(self,value):\n",
        "        self.value = value\n",
        "        self.left = None\n",
        "        self.right = None\n",
        "\n",
        "class BinarySearchTree:\n",
        "    def __init__(self):\n",
        "        self.root = None\n",
        "\n",
        "    def __r_insert(self,current_node,new_node):\n",
        "        if current_node == None:\n",
        "            current_node = new_node\n",
        "            if self.root == None:\n",
        "                self.root = current_node\n",
        "            return True\n",
        "\n",
        "        if new_node.value < current_node.value:\n",
        "            return self.__r_insert(current_node.left,new_node)\n",
        "        elif new_node.value > current_node.value:\n",
        "            return self.__r_insert(current_node.right,new_node)\n",
        "        else:\n",
        "            return False\n",
        "\n",
        "    def r_insert(self,value):\n",
        "        # create a new node\n",
        "        new_node = Node(value)\n",
        "        return self.__r_insert(self.root,new_node)\n",
        "\n",
        "    def __r_contains(self,current_node,value):\n",
        "        # if tree is empty\n",
        "        if current_node == None:\n",
        "            return False\n",
        "\n",
        "        # if current_node.value == value\n",
        "        if current_node.value == value:\n",
        "            return True\n",
        "\n",
        "        # if value < current_node.value\n",
        "        if value < current_node.value:\n",
        "            return self.__r_contains(current_node.left,value)\n",
        "        # else value > current_node.value\n",
        "        else:\n",
        "            return self.__r_contains(current_node.right,value)\n",
        "\n",
        "\n",
        "    def r_contains(self,value):\n",
        "        return self.__r_contains(self.root,value)"
      ],
      "metadata": {
        "id": "Yl3BLsKMtAjZ"
      },
      "execution_count": 12,
      "outputs": []
    },
    {
      "cell_type": "code",
      "source": [
        "my_tree = BinarySearchTree()\n",
        "my_tree.r_insert(47)\n",
        "my_tree.r_insert(21)\n",
        "my_tree.r_insert(76)\n",
        "my_tree.r_insert(18)\n",
        "my_tree.r_insert(27)\n",
        "my_tree.r_insert(52)\n",
        "my_tree.r_insert(82)"
      ],
      "metadata": {
        "id": "w0Rxe9t_ut4r",
        "outputId": "63b3c66d-4b5f-419f-9fff-aa56c205056f",
        "colab": {
          "base_uri": "https://localhost:8080/"
        }
      },
      "execution_count": 15,
      "outputs": [
        {
          "output_type": "execute_result",
          "data": {
            "text/plain": [
              "True"
            ]
          },
          "metadata": {},
          "execution_count": 15
        }
      ]
    },
    {
      "cell_type": "code",
      "source": [
        "my_tree.r_contains(47)"
      ],
      "metadata": {
        "id": "EKP45jMCuzVm",
        "outputId": "b0c224d1-a316-4980-fe3a-b44a08c22e56",
        "colab": {
          "base_uri": "https://localhost:8080/"
        }
      },
      "execution_count": 14,
      "outputs": [
        {
          "output_type": "execute_result",
          "data": {
            "text/plain": [
              "True"
            ]
          },
          "metadata": {},
          "execution_count": 14
        }
      ]
    },
    {
      "cell_type": "code",
      "source": [],
      "metadata": {
        "id": "8FwPpNX7vzZG"
      },
      "execution_count": null,
      "outputs": []
    }
  ]
}