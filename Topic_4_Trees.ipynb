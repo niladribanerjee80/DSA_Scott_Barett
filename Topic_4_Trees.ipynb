{
  "nbformat": 4,
  "nbformat_minor": 0,
  "metadata": {
    "colab": {
      "provenance": [],
      "authorship_tag": "ABX9TyNnW131jI2HVHH/W7/92P/g",
      "include_colab_link": true
    },
    "kernelspec": {
      "name": "python3",
      "display_name": "Python 3"
    },
    "language_info": {
      "name": "python"
    }
  },
  "cells": [
    {
      "cell_type": "markdown",
      "metadata": {
        "id": "view-in-github",
        "colab_type": "text"
      },
      "source": [
        "<a href=\"https://colab.research.google.com/github/niladribanerjee80/DSA_Scott_Barett/blob/main/Topic_4_Trees.ipynb\" target=\"_parent\"><img src=\"https://colab.research.google.com/assets/colab-badge.svg\" alt=\"Open In Colab\"/></a>"
      ]
    },
    {
      "cell_type": "markdown",
      "source": [
        "# BST Constructor"
      ],
      "metadata": {
        "id": "N86gzUnBcoQw"
      }
    },
    {
      "cell_type": "code",
      "execution_count": 2,
      "metadata": {
        "id": "nvQ50sWrGfvk"
      },
      "outputs": [],
      "source": [
        "class Node:\n",
        "    def __init__(self,value):\n",
        "        self.value = value\n",
        "        self.left = None\n",
        "        self.right = None\n",
        "\n",
        "class BinarySearchTree:\n",
        "    def __init__(self):\n",
        "        self.root = None"
      ]
    },
    {
      "cell_type": "code",
      "source": [
        "my_tree = BinarySearchTree()\n",
        "print(my_tree.root)"
      ],
      "metadata": {
        "colab": {
          "base_uri": "https://localhost:8080/"
        },
        "id": "Z6l42r6Ec87E",
        "outputId": "eccdf8ec-f349-4c3d-8339-e451d006e8cd"
      },
      "execution_count": 3,
      "outputs": [
        {
          "output_type": "stream",
          "name": "stdout",
          "text": [
            "None\n"
          ]
        }
      ]
    },
    {
      "cell_type": "markdown",
      "source": [
        "# Insert\n",
        "\n",
        "---\n",
        "* Insert a new node into a tree\n",
        "\n"
      ],
      "metadata": {
        "id": "PdCHno3hijcS"
      }
    },
    {
      "cell_type": "code",
      "source": [
        "class Node:\n",
        "    def __init__(self,value):\n",
        "        self.value = value\n",
        "        self.left = None\n",
        "        self.right = None\n",
        "\n",
        "class BinarySearchTree:\n",
        "    def __init__(self):\n",
        "        self.root = None\n",
        "\n",
        "    def insert(self,value):\n",
        "        # create a new node\n",
        "        new_node = Node(value)\n",
        "\n",
        "        if self.root is None:\n",
        "            self.root = new_node\n",
        "            return True\n",
        "\n",
        "        temp = self.root\n",
        "\n",
        "        while True:\n",
        "            if new_node.value < temp.value:\n",
        "                if temp.left is None:\n",
        "                    temp.left = new_node\n",
        "                    return True\n",
        "                temp = temp.left\n",
        "\n",
        "            elif new_node.value > temp.value:\n",
        "                if temp.right is None:\n",
        "                    temp.right = new_node\n",
        "                    return True\n",
        "                temp = temp.right\n",
        "\n",
        "            else: # new_node and existing node values are equal\n",
        "                return False"
      ],
      "metadata": {
        "id": "vOGXY_jfdODy"
      },
      "execution_count": 4,
      "outputs": []
    },
    {
      "cell_type": "code",
      "source": [
        "my_tree = BinarySearchTree()\n",
        "my_tree.insert(2)\n",
        "my_tree.insert(1)\n",
        "my_tree.insert(3)\n",
        "\n",
        "print(my_tree.root.value)\n",
        "print(my_tree.root.left.value)\n",
        "print(my_tree.root.right.value)"
      ],
      "metadata": {
        "colab": {
          "base_uri": "https://localhost:8080/"
        },
        "id": "FpppKR8BmWcd",
        "outputId": "f22da9dd-24dd-4b6c-ee47-518573ebecd3"
      },
      "execution_count": 5,
      "outputs": [
        {
          "output_type": "stream",
          "name": "stdout",
          "text": [
            "2\n",
            "1\n",
            "3\n"
          ]
        }
      ]
    },
    {
      "cell_type": "markdown",
      "source": [
        "# Contains\n",
        "\n",
        "\n",
        "---\n",
        "* If a tree contains a specific value\n",
        "* kind of lookup\n"
      ],
      "metadata": {
        "id": "U-Lb0-5Wm5bz"
      }
    },
    {
      "cell_type": "code",
      "source": [
        "class Node:\n",
        "    def __init__(self,value):\n",
        "        self.value = value\n",
        "        self.left = None\n",
        "        self.right = None\n",
        "\n",
        "class BinarySearchTree:\n",
        "    def __init__(self):\n",
        "        self.root = None\n",
        "\n",
        "    def insert(self,value):\n",
        "        # create a new node\n",
        "        new_node = Node(value)\n",
        "\n",
        "        if self.root is None:\n",
        "            self.root = new_node\n",
        "            return True\n",
        "\n",
        "        temp = self.root\n",
        "\n",
        "        while True:\n",
        "            if new_node.value < temp.value:\n",
        "                if temp.left is None:\n",
        "                    temp.left = new_node\n",
        "                    return True\n",
        "                temp = temp.left\n",
        "\n",
        "            elif new_node.value > temp.value:\n",
        "                if temp.right is None:\n",
        "                    temp.right = new_node\n",
        "                    return True\n",
        "                temp = temp.right\n",
        "\n",
        "            else: # new_node and existing node values are equal\n",
        "                return False\n",
        "\n",
        "    def contains(self,value):\n",
        "\n",
        "        if self.root is None:\n",
        "            return False\n",
        "\n",
        "        temp = self.root\n",
        "\n",
        "        while True:\n",
        "            if value < temp.value:\n",
        "                if temp.left is None:\n",
        "                    return False\n",
        "                temp = temp.left\n",
        "            elif value > temp.value:\n",
        "                if temp.right is None:\n",
        "                    return False\n",
        "                temp = temp.right\n",
        "            else:\n",
        "                return True\n",
        ""
      ],
      "metadata": {
        "id": "7RbtSTQfmr6r"
      },
      "execution_count": 11,
      "outputs": []
    },
    {
      "cell_type": "code",
      "source": [
        "my_tree = BinarySearchTree()\n",
        "my_tree.insert(2)\n",
        "my_tree.insert(1)\n",
        "my_tree.insert(3)\n",
        "print(my_tree.contains(3))\n",
        "print(my_tree.contains(5))"
      ],
      "metadata": {
        "id": "Foex7c1an1lD",
        "outputId": "6a2ca086-8f18-41a1-97ac-8820f07caaa1",
        "colab": {
          "base_uri": "https://localhost:8080/"
        }
      },
      "execution_count": 9,
      "outputs": [
        {
          "output_type": "stream",
          "name": "stdout",
          "text": [
            "True\n",
            "False\n"
          ]
        }
      ]
    },
    {
      "cell_type": "code",
      "source": [],
      "metadata": {
        "id": "s7Ct6gqEn82f"
      },
      "execution_count": null,
      "outputs": []
    }
  ]
}