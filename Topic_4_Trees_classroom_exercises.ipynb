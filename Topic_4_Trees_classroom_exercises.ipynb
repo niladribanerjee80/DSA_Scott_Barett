{
  "nbformat": 4,
  "nbformat_minor": 0,
  "metadata": {
    "colab": {
      "provenance": [],
      "authorship_tag": "ABX9TyN7zSzf2laGwDhDLsiboX9d",
      "include_colab_link": true
    },
    "kernelspec": {
      "name": "python3",
      "display_name": "Python 3"
    },
    "language_info": {
      "name": "python"
    }
  },
  "cells": [
    {
      "cell_type": "markdown",
      "metadata": {
        "id": "view-in-github",
        "colab_type": "text"
      },
      "source": [
        "<a href=\"https://colab.research.google.com/github/niladribanerjee80/DSA_Scott_Barett/blob/main/Topic_4_Trees_classroom_exercises.ipynb\" target=\"_parent\"><img src=\"https://colab.research.google.com/assets/colab-badge.svg\" alt=\"Open In Colab\"/></a>"
      ]
    },
    {
      "cell_type": "markdown",
      "source": [
        "# BST Constructor"
      ],
      "metadata": {
        "id": "yUvG4vkodiVs"
      }
    },
    {
      "cell_type": "code",
      "execution_count": null,
      "metadata": {
        "id": "tYJI4nSdHePN"
      },
      "outputs": [],
      "source": [
        "class Node:\n",
        "    ## WRITE NODE CONSTRUCTOR HERE ##\n",
        "    #                               #\n",
        "    #                               #\n",
        "    #                               #\n",
        "    #                               #\n",
        "    #################################\n",
        "\n",
        "\n",
        "# class BinarySearchTree:\n",
        "    ## WRITE BST CONSTRUCTOR HERE ##\n",
        "    #                              #\n",
        "    #                              #\n",
        "    #                              #\n",
        "    #                              #\n",
        "    ################################\n",
        "\n",
        "\n",
        "\n",
        "\n",
        "my_tree = BinarySearchTree()\n",
        "\n",
        "print(\"Root:\", my_tree.root)\n",
        "\n",
        "\n",
        "\n",
        "\"\"\"\n",
        "    EXPECTED OUTPUT:\n",
        "    ----------------\n",
        "    Root: None\n",
        "\n",
        "\"\"\""
      ]
    },
    {
      "cell_type": "code",
      "source": [],
      "metadata": {
        "id": "PeakXhjXdl_9"
      },
      "execution_count": null,
      "outputs": []
    },
    {
      "cell_type": "markdown",
      "source": [
        "# BST: Insert"
      ],
      "metadata": {
        "id": "cUfzumgcdq8q"
      }
    },
    {
      "cell_type": "code",
      "source": [
        "class Node:\n",
        "    # write the code from above\n",
        "    pass\n",
        "\n",
        "\n",
        "\n",
        "class BinarySearchTree:\n",
        "    # write the code from above\n",
        "    pass\n",
        "\n",
        "    ## WRITE INSERT METHOD HERE ##\n",
        "    #                            #\n",
        "    #                            #\n",
        "    #                            #\n",
        "    #                            #\n",
        "    ##############################\n",
        "\n",
        "\n",
        "\n",
        "\n",
        "##########################################################\n",
        "##   Test code below will print output to \"User logs\"   ##\n",
        "##########################################################\n",
        "\n",
        "\n",
        "def check(expect, actual, message):\n",
        "    print(message)\n",
        "    print(\"EXPECTED:\", expect)\n",
        "    print(\"RETURNED:\", actual)\n",
        "    print(\"PASS\" if expect == actual else \"FAIL\", \"\\n\")\n",
        "\n",
        "print(\"\\n----- Test: Insert to Empty Tree -----\\n\")\n",
        "bst = BinarySearchTree()\n",
        "result = bst.insert(5)\n",
        "check(True, result, \"Insert 5, should succeed:\")\n",
        "check(5, bst.root.value, \"Root value after inserting 5:\")\n",
        "check(None, bst.root.left, \"Root's left child after inserting 5:\")\n",
        "check(None, bst.root.right, \"Root's right child after inserting 5:\")\n",
        "\n",
        "print(\"\\n----- Test: Insert to Existing Tree -----\\n\")\n",
        "bst = BinarySearchTree()\n",
        "bst.insert(10)\n",
        "bst.insert(5)\n",
        "bst.insert(15)\n",
        "result = bst.insert(3)\n",
        "check(True, result, \"Insert 3, should succeed:\")\n",
        "check(3, bst.root.left.left.value, \"Root's left-left value after inserting 3:\")\n",
        "check(None, bst.root.left.left.left, \"Root's left-left-left child after inserting 3:\")\n",
        "check(None, bst.root.left.left.right, \"Root's left-left-right child after inserting 3:\")\n",
        "\n",
        "print(\"\\n----- Test: Insert Duplicate Value -----\\n\")\n",
        "bst = BinarySearchTree()\n",
        "bst.insert(10)\n",
        "bst.insert(5)\n",
        "result = bst.insert(5)\n",
        "check(False, result, \"Insert 5 again, should fail:\")\n",
        "check(None, bst.root.left.left, \"Root's left-left child after inserting 5 again:\")\n",
        "check(None, bst.root.left.right, \"Root's left-right child after inserting 5 again:\")\n",
        "\n",
        "print(\"\\n----- Test: Insert Greater Than Root -----\\n\")\n",
        "bst = BinarySearchTree()\n",
        "bst.insert(10)\n",
        "result = bst.insert(15)\n",
        "check(True, result, \"Insert 15, should succeed:\")\n",
        "check(15, bst.root.right.value, \"Root's right value after inserting 15:\")\n",
        "check(None, bst.root.right.left, \"Root's right-left child after inserting 15:\")\n",
        "check(None, bst.root.right.right, \"Root's right-right child after inserting 15:\")\n",
        "\n",
        "print(\"\\n----- Test: Insert Less Than Root -----\\n\")\n",
        "bst = BinarySearchTree()\n",
        "bst.insert(10)\n",
        "result = bst.insert(5)\n",
        "check(True, result, \"Insert 5, should succeed:\")\n",
        "check(5, bst.root.left.value, \"Root's left value after inserting 5:\")\n",
        "check(None, bst.root.left.left, \"Root's left-left child after inserting 5:\")\n",
        "check(None, bst.root.left.right, \"Root's left-right child after inserting 5:\")\n",
        "\n"
      ],
      "metadata": {
        "id": "vOAk92r1dmEZ"
      },
      "execution_count": null,
      "outputs": []
    },
    {
      "cell_type": "code",
      "source": [],
      "metadata": {
        "id": "3FSlDT-sd3kl"
      },
      "execution_count": null,
      "outputs": []
    },
    {
      "cell_type": "code",
      "source": [],
      "metadata": {
        "id": "_CGAKgRNd3rr"
      },
      "execution_count": null,
      "outputs": []
    },
    {
      "cell_type": "markdown",
      "source": [
        "# BST: Contains"
      ],
      "metadata": {
        "id": "81mvDa7zd2Y2"
      }
    },
    {
      "cell_type": "code",
      "source": [
        "class Node:\n",
        "    # write your code here from above\n",
        "\n",
        "\n",
        "class BinarySearchTree:\n",
        "    # write your code here from above\n",
        "\n",
        "    ## WRITE CONTAINS METHOD HERE ##\n",
        "    #                              #\n",
        "    #                              #\n",
        "    #                              #\n",
        "    #                              #\n",
        "    ################################\n",
        "\n",
        "\n",
        "\n",
        "\n",
        "##########################################################\n",
        "##   Test code below will print output to \"User logs\"   ##\n",
        "##########################################################\n",
        "\n",
        "\n",
        "def check(expect, actual, message):\n",
        "    print(message)\n",
        "    print(\"EXPECTED:\", expect)\n",
        "    print(\"RETURNED:\", actual)\n",
        "    print(\"PASS\" if expect == actual else \"FAIL\", \"\\n\")\n",
        "\n",
        "print(\"\\n----- Test: Contains on Empty Tree -----\\n\")\n",
        "bst = BinarySearchTree()\n",
        "result = bst.contains(5)\n",
        "check(False, result, \"Check if 5 exists in an empty tree:\")\n",
        "\n",
        "print(\"\\n----- Test: Contains Existing Value -----\\n\")\n",
        "bst = BinarySearchTree()\n",
        "bst.insert(10)\n",
        "bst.insert(5)\n",
        "bst.insert(15)\n",
        "result = bst.contains(10)\n",
        "check(True, result, \"Check if 10 exists:\")\n",
        "result = bst.contains(5)\n",
        "check(True, result, \"Check if 5 exists:\")\n",
        "result = bst.contains(15)\n",
        "check(True, result, \"Check if 15 exists:\")\n",
        "\n",
        "print(\"\\n----- Test: Contains Not Existing Value -----\\n\")\n",
        "bst = BinarySearchTree()\n",
        "bst.insert(10)\n",
        "bst.insert(5)\n",
        "result = bst.contains(15)\n",
        "check(False, result, \"Check if 15 exists:\")\n",
        "\n",
        "print(\"\\n----- Test: Contains with Duplicate Inserts -----\\n\")\n",
        "bst = BinarySearchTree()\n",
        "bst.insert(10)\n",
        "bst.insert(10)\n",
        "result = bst.contains(10)\n",
        "check(True, result, \"Check if 10 exists with duplicate inserts:\")\n",
        "\n",
        "print(\"\\n----- Test: Contains with Left and Right -----\\n\")\n",
        "bst = BinarySearchTree()\n",
        "bst.insert(10)\n",
        "bst.insert(5)\n",
        "bst.insert(15)\n",
        "bst.insert(1)\n",
        "bst.insert(8)\n",
        "bst.insert(12)\n",
        "bst.insert(20)\n",
        "result = bst.contains(1)\n",
        "check(True, result, \"Check if 1 exists:\")\n",
        "result = bst.contains(8)\n",
        "check(True, result, \"Check if 8 exists:\")\n",
        "result = bst.contains(12)\n",
        "check(True, result, \"Check if 12 exists:\")\n",
        "result = bst.contains(20)\n",
        "check(True, result, \"Check if 20 exists:\")\n",
        "\n"
      ],
      "metadata": {
        "id": "ORytTYyKdmIR"
      },
      "execution_count": null,
      "outputs": []
    },
    {
      "cell_type": "code",
      "source": [],
      "metadata": {
        "id": "hFEeoYMueIo-"
      },
      "execution_count": null,
      "outputs": []
    },
    {
      "cell_type": "code",
      "source": [],
      "metadata": {
        "id": "5fVFpub9dmLs"
      },
      "execution_count": null,
      "outputs": []
    },
    {
      "cell_type": "code",
      "source": [],
      "metadata": {
        "id": "2f1YVEhcdmPn"
      },
      "execution_count": null,
      "outputs": []
    },
    {
      "cell_type": "code",
      "source": [],
      "metadata": {
        "id": "vPF-wa7IdmTP"
      },
      "execution_count": null,
      "outputs": []
    },
    {
      "cell_type": "code",
      "source": [],
      "metadata": {
        "id": "wgAy9T91dmW_"
      },
      "execution_count": null,
      "outputs": []
    },
    {
      "cell_type": "code",
      "source": [],
      "metadata": {
        "id": "sdV8MetGdma3"
      },
      "execution_count": null,
      "outputs": []
    },
    {
      "cell_type": "code",
      "source": [],
      "metadata": {
        "id": "xCuHsu1Vdmey"
      },
      "execution_count": null,
      "outputs": []
    },
    {
      "cell_type": "code",
      "source": [],
      "metadata": {
        "id": "y9ZiSH9MdmiL"
      },
      "execution_count": null,
      "outputs": []
    }
  ]
}