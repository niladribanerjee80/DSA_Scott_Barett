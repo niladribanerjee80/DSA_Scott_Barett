{
  "nbformat": 4,
  "nbformat_minor": 0,
  "metadata": {
    "colab": {
      "provenance": [],
      "authorship_tag": "ABX9TyN3fcsyeArqx/CT3EHk6mAg",
      "include_colab_link": true
    },
    "kernelspec": {
      "name": "python3",
      "display_name": "Python 3"
    },
    "language_info": {
      "name": "python"
    }
  },
  "cells": [
    {
      "cell_type": "markdown",
      "metadata": {
        "id": "view-in-github",
        "colab_type": "text"
      },
      "source": [
        "<a href=\"https://colab.research.google.com/github/niladribanerjee80/DSA_Scott_Barett/blob/main/Topic_5_Hash_Tables_assignments_solutions.ipynb\" target=\"_parent\"><img src=\"https://colab.research.google.com/assets/colab-badge.svg\" alt=\"Open In Colab\"/></a>"
      ]
    },
    {
      "cell_type": "markdown",
      "source": [
        "# Item In Common\n",
        "\n",
        "---\n",
        "\n",
        "Write a function item_in_common(list1, list2) that takes two lists as input and returns True if there is at least one common item between the two lists, False otherwise.\n",
        "\n",
        "Use a dictionary to solve the problem that creates an O(n) time complexity."
      ],
      "metadata": {
        "id": "ocRINVfXFfYn"
      }
    },
    {
      "cell_type": "code",
      "execution_count": 1,
      "metadata": {
        "id": "rkkluJ1cFZZP"
      },
      "outputs": [],
      "source": [
        "def item_in_common(list1, list2):\n",
        "    # convert list1 into dict\n",
        "    my_dict = dict()\n",
        "\n",
        "    for item in list1:\n",
        "        my_dict[item] = True\n",
        "\n",
        "    for item in list2:\n",
        "        if item in my_dict:\n",
        "            return True\n",
        "\n",
        "    return False"
      ]
    },
    {
      "cell_type": "code",
      "source": [
        "list1 = [1,3,5]\n",
        "list2 = [2,4,5]\n",
        "\n",
        "print(item_in_common(list1, list2))\n",
        "\n",
        "# \"\"\"\n",
        "#     EXPECTED OUTPUT:\n",
        "#     ----------------\n",
        "#     True\n",
        "\n",
        "# \"\"\""
      ],
      "metadata": {
        "id": "ZfJ-exG8FoMv",
        "colab": {
          "base_uri": "https://localhost:8080/"
        },
        "outputId": "3940ca34-cffd-4da2-c57a-8cc49d8c8963"
      },
      "execution_count": 2,
      "outputs": [
        {
          "output_type": "stream",
          "name": "stdout",
          "text": [
            "True\n"
          ]
        }
      ]
    },
    {
      "cell_type": "markdown",
      "source": [
        "# Find Duplicates\n",
        "\n",
        "\n",
        "---\n",
        "find_duplicates()\n",
        "\n",
        "\n",
        "Problem: Given an array of integers nums, find all the duplicates in the array using a hash table (dictionary).\n",
        "\n",
        "\n",
        "Input:\n",
        "\n",
        "A list of integers nums.\n",
        "\n",
        "\n",
        "Output:\n",
        "\n",
        "A list of integers representing the numbers in the input array nums that appear more than once. If no duplicates are found in the input array, return an empty list [].\n",
        "\n",
        "Input: nums = [4, 3, 2, 7, 8, 2, 3, 1]\n",
        "Output: [2, 3]\n",
        "Explanation: The numbers 2 and 3 appear more than once in the input array.\n",
        "\n",
        "Input: nums = [1, 2, 3, 4, 5]\n",
        "Output: []\n",
        "Explanation: There are no duplicates in the input array, so the function returns an empty list [].\n",
        "\n",
        "Input: nums = [3, 3, 3, 3, 3]\n",
        "Output: [3]\n",
        "Explanation: The number 3 appears more than once in the input array.\n",
        "\n",
        "Input: nums = [-1, 0, 1, 0, -1, -1, 2, 2]\n",
        "Output: [-1, 0, 2]\n",
        "Explanation: The numbers -1, 0, and 2 appear more than once in the input array.\n",
        "\n",
        "Input: nums = []\n",
        "Output: []\n",
        "Explanation: There are no numbers in the input array, so the function returns an empty list [].\n"
      ],
      "metadata": {
        "id": "WwvvfS4gCP6f"
      }
    },
    {
      "cell_type": "code",
      "source": [
        "# Option 1\n",
        "from collections import Counter\n",
        "def find_duplicates(array):\n",
        "    output = []\n",
        "\n",
        "    c = Counter(array)\n",
        "\n",
        "    for key,value in c.items():\n",
        "        if value > 1:\n",
        "            output.append(key)\n",
        "\n",
        "    return output"
      ],
      "metadata": {
        "id": "Lg9rR8COCcZ0"
      },
      "execution_count": 3,
      "outputs": []
    },
    {
      "cell_type": "code",
      "source": [
        "# Option 2 - this is what we need to do\n",
        "def find_duplicates(nums):\n",
        "    num_counts = {}\n",
        "\n",
        "    for num in nums:\n",
        "        num_counts[num] = num_counts.get(num, 0) + 1\n",
        "\n",
        "    duplicates = []\n",
        "    for num, count in num_counts.items():\n",
        "        if count > 1:\n",
        "            duplicates.append(num)\n",
        "\n",
        "    return duplicates"
      ],
      "metadata": {
        "id": "ElYO57ZlVK13"
      },
      "execution_count": 19,
      "outputs": []
    },
    {
      "cell_type": "code",
      "source": [
        "print ( find_duplicates([1, 2, 3, 4, 5]) )\n",
        "print ( find_duplicates([1, 1, 2, 2, 3]) )\n",
        "print ( find_duplicates([1, 1, 1, 1, 1]) )\n",
        "print ( find_duplicates([1, 2, 3, 3, 3, 4, 4, 5]) )\n",
        "print ( find_duplicates([1, 1, 2, 2, 2, 3, 3, 3, 3]) )\n",
        "print ( find_duplicates([1, 1, 1, 2, 2, 2, 3, 3, 3, 3]) )\n",
        "print ( find_duplicates([]) )\n",
        "\n",
        "# \"\"\"\n",
        "#     EXPECTED OUTPUT:\n",
        "#     ----------------\n",
        "#     []\n",
        "#     [1, 2]\n",
        "#     [1]\n",
        "#     [3, 4]\n",
        "#     [1, 2, 3]\n",
        "#     [1, 2, 3]\n",
        "#     []\n",
        "\n",
        "# \"\"\""
      ],
      "metadata": {
        "id": "o3zJ7Ps5Chyn",
        "colab": {
          "base_uri": "https://localhost:8080/"
        },
        "outputId": "d18e91ad-e987-41b3-f759-881c19c971ef"
      },
      "execution_count": 20,
      "outputs": [
        {
          "output_type": "stream",
          "name": "stdout",
          "text": [
            "[]\n",
            "[1, 2]\n",
            "[1]\n",
            "[3, 4]\n",
            "[1, 2, 3]\n",
            "[1, 2, 3]\n",
            "[]\n"
          ]
        }
      ]
    },
    {
      "cell_type": "code",
      "source": [],
      "metadata": {
        "id": "qDju-PrZY7zX"
      },
      "execution_count": null,
      "outputs": []
    },
    {
      "cell_type": "markdown",
      "source": [
        "# First Non-Repeating Character\n",
        "\n",
        "\n",
        "---\n",
        "\n",
        "You have been given a string of lowercase letters.\n",
        "\n",
        "Write a function called first_non_repeating_char(string) that finds the first non-repeating character in the given string using a hash table (dictionary). If there is no non-repeating character in the string, the function should return None.\n",
        "\n",
        "For example, if the input string is \"leetcode\", the function should return \"l\" because \"l\" is the first character that appears only once in the string. Similarly, if the input string is \"hello\", the function should return \"h\" because \"h\" is the first non-repeating character in the string.\n",
        "\n",
        "\n"
      ],
      "metadata": {
        "id": "HtG-axnZCoeQ"
      }
    },
    {
      "cell_type": "code",
      "source": [
        "def first_non_repeating_char(text):\n",
        "    letter_freq = {}\n",
        "\n",
        "    # First pass: count the frequency of each character\n",
        "    for letter in text:\n",
        "        letter_freq[letter] = letter_freq.get(letter, 0) + 1\n",
        "\n",
        "    # Second pass: find the first non-repeating character\n",
        "    for letter in text:\n",
        "        if letter_freq[letter] == 1:\n",
        "            return letter\n",
        "\n",
        "    return None"
      ],
      "metadata": {
        "id": "bV2Qn7YXCt8O"
      },
      "execution_count": 25,
      "outputs": []
    },
    {
      "cell_type": "code",
      "source": [
        "print( first_non_repeating_char('leetcode') )\n",
        "\n",
        "print( first_non_repeating_char('hello') )\n",
        "\n",
        "print( first_non_repeating_char('aabbcc') )\n",
        "\n",
        "print( first_non_repeating_char('a') )\n",
        "\n",
        "\n",
        "\n",
        "# \"\"\"\n",
        "#     EXPECTED OUTPUT:\n",
        "#     ----------------\n",
        "#     l\n",
        "#     h\n",
        "#     None\n",
        "\n",
        "# \"\"\""
      ],
      "metadata": {
        "id": "9GB_ZkGKCw13",
        "colab": {
          "base_uri": "https://localhost:8080/"
        },
        "outputId": "5345fcf9-9e94-477a-94fc-c3d714cbceb9"
      },
      "execution_count": 26,
      "outputs": [
        {
          "output_type": "stream",
          "name": "stdout",
          "text": [
            "l\n",
            "h\n",
            "None\n",
            "a\n"
          ]
        }
      ]
    },
    {
      "cell_type": "markdown",
      "source": [
        "# Group Anagrams\n",
        "\n",
        "\n",
        "---\n",
        "\n",
        "You have been given an array of strings, where each string may contain only lowercase English letters. You need to write a function group_anagrams(strings) that groups the anagrams in the array together using a hash table (dictionary). The function should return a list of lists, where each inner list contains a group of anagrams.\n",
        "\n",
        "For example, if the input array is [\"eat\", \"tea\", \"tan\", \"ate\", \"nat\", \"bat\"], the function should return [[\"eat\",\"tea\",\"ate\"],[\"tan\",\"nat\"],[\"bat\"]] because the first three strings are anagrams of each other, the next two strings are anagrams of each other, and the last string has no anagrams in the input array.\n",
        "\n",
        "You need to implement the group_anagrams(strings) function and return a list of lists, where each inner list contains a group of anagrams according to the above requirements."
      ],
      "metadata": {
        "id": "A0sOdDyJC0EW"
      }
    },
    {
      "cell_type": "code",
      "source": [],
      "metadata": {
        "id": "Cb3suBVyUk1C"
      },
      "execution_count": null,
      "outputs": []
    },
    {
      "cell_type": "markdown",
      "source": [
        "![image.png](data:image/png;base64,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)"
      ],
      "metadata": {
        "id": "RrFU3BR3UlJa"
      }
    },
    {
      "cell_type": "code",
      "source": [
        "def group_anagrams(strings):\n",
        "    # Initialize a dictionary to hold our groups of anagrams\n",
        "    anagrams = {}\n",
        "\n",
        "    # Iterate through each string in the input list\n",
        "    for string in strings:\n",
        "        # Sort the string to get the key\n",
        "        sorted_string = ''.join(sorted(string))\n",
        "\n",
        "        # If the sorted string is not in the dictionary, add it with an empty list\n",
        "        if sorted_string not in anagrams:\n",
        "            anagrams[sorted_string] = []\n",
        "\n",
        "        # Append the original string to the list corresponding to the sorted string key\n",
        "        anagrams[sorted_string].append(string)\n",
        "\n",
        "    # Return the values of the dictionary as a list of lists\n",
        "    return list(anagrams.values())"
      ],
      "metadata": {
        "id": "vglO_GRmC6d9"
      },
      "execution_count": 29,
      "outputs": []
    },
    {
      "cell_type": "code",
      "source": [
        "print(\"1st set:\")\n",
        "print( group_anagrams([\"eat\", \"tea\", \"tan\", \"ate\", \"nat\", \"bat\"]) )\n",
        "\n",
        "print(\"\\n2nd set:\")\n",
        "print( group_anagrams([\"abc\", \"cba\", \"bac\", \"foo\", \"bar\"]) )\n",
        "\n",
        "print(\"\\n3rd set:\")\n",
        "print( group_anagrams([\"listen\", \"silent\", \"triangle\", \"integral\", \"garden\", \"ranged\"]) )\n",
        "\n",
        "\n",
        "\n",
        "# \"\"\"\n",
        "#     EXPECTED OUTPUT:\n",
        "#     ----------------\n",
        "#     1st set:\n",
        "#     [['eat', 'tea', 'ate'], ['tan', 'nat'], ['bat']]\n",
        "\n",
        "#     2nd set:\n",
        "#     [['abc', 'cba', 'bac'], ['foo'], ['bar']]\n",
        "\n",
        "#     3rd set:\n",
        "#     [['listen', 'silent'], ['triangle', 'integral'], ['garden', 'ranged']]\n",
        "\n",
        "# \"\"\""
      ],
      "metadata": {
        "id": "oyaF3t8AC-Ii",
        "colab": {
          "base_uri": "https://localhost:8080/"
        },
        "outputId": "4ebdb2c8-8b40-44e2-db59-acdf6a78e13b"
      },
      "execution_count": 30,
      "outputs": [
        {
          "output_type": "stream",
          "name": "stdout",
          "text": [
            "1st set:\n",
            "[['eat', 'tea', 'ate'], ['tan', 'nat'], ['bat']]\n",
            "\n",
            "2nd set:\n",
            "[['abc', 'cba', 'bac'], ['foo'], ['bar']]\n",
            "\n",
            "3rd set:\n",
            "[['listen', 'silent'], ['triangle', 'integral'], ['garden', 'ranged']]\n"
          ]
        }
      ]
    },
    {
      "cell_type": "markdown",
      "source": [
        "# Two Sum\n",
        "\n",
        "\n",
        "---\n",
        "\n",
        "two_sum()\n",
        "\n",
        "Problem:\n",
        "Given an array of integers nums and a target integer target, find the indices of two numbers in the array that add up to the target.\n",
        "\n",
        "The main challenge here is to implement this function in one pass through the array. This means you should not iterate over the array more than once. Therefore, your solution should have a time complexity of O(n), where n is the number of elements in nums.\n",
        "\n",
        "\n",
        "\n",
        "Input:\n",
        "\n",
        "A list of integers nums .\n",
        "\n",
        "A target integer target.\n",
        "\n",
        "\n",
        "\n",
        "Output:\n",
        "\n",
        "A list of two integers representing the indices of the two numbers in the input array nums that add up to the target. If no two numbers in the input array add up to the target, return an empty list [].\n",
        "\n",
        "\n",
        "\n",
        "Example:\n",
        "\n",
        "\n",
        "\n",
        "Input: nums = [5, 1, 7, 2, 9, 3], target = 10\n",
        "Output: [1, 4]\n",
        "Explanation: The numbers at indices 1 and 4 in the array add up to the target 10.\n",
        "\n",
        "Input: nums = [3, 2, 4], target = 6\n",
        "Output: [1, 2]\n",
        "Explanation: The numbers at indices 1 and 2 in the array add up to the target 6.\n",
        "\n",
        "Input: nums = [3, 3], target = 6\n",
        "Output: [0, 1]\n",
        "Explanation: The numbers at indices 0 and 1 in the array add up to the target 6.\n",
        "\n",
        "Input: nums = [2, 1, 2, 7, 11, 15], target = 9\n",
        "Output: [2, 3]\n",
        "Explanation: Notice there are two 2s in the array.  The second one will be used.\n",
        "\n",
        "Input: nums = [1, 2, 3, 4, 5], target = 10\n",
        "Output: []\n",
        "Explanation: There are no two numbers in the array add up to the target 10.\n",
        "\n",
        "Input: nums = [], target = 0\n",
        "Output: []\n",
        "Explanation: There are no numbers in the input array, so the function returns an empty list [].\n",
        "\n"
      ],
      "metadata": {
        "id": "_v7n8wzEDAYD"
      }
    },
    {
      "cell_type": "markdown",
      "source": [],
      "metadata": {
        "id": "hZ_41LnrTuUm"
      }
    },
    {
      "cell_type": "code",
      "source": [],
      "metadata": {
        "id": "bcfP4GEhTu0B"
      },
      "execution_count": null,
      "outputs": []
    },
    {
      "cell_type": "markdown",
      "source": [
        "![image.png](data:image/png;base64,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)"
      ],
      "metadata": {
        "id": "yZYGAcjPTr96"
      }
    },
    {
      "cell_type": "code",
      "source": [
        "def two_sum(nums, target):\n",
        "    num_to_index = {}\n",
        "    for index, num in enumerate(nums):\n",
        "        diff = target - num\n",
        "        if diff in num_to_index:\n",
        "            return [num_to_index[diff], index]\n",
        "        num_to_index[num] = index\n",
        "    return []"
      ],
      "metadata": {
        "id": "tn0LVT5KDIpc"
      },
      "execution_count": 74,
      "outputs": []
    },
    {
      "cell_type": "code",
      "source": [
        "print(two_sum([5, 1, 7, 2, 9, 3], 10))\n",
        "print(two_sum([4, 2, 11, 7, 6, 3], 9))\n",
        "print(two_sum([10, 15, 5, 2, 8, 1, 7], 12))\n",
        "print(two_sum([1, 3, 5, 7, 9], 10))\n",
        "print (two_sum([1, 2, 3, 4, 5], 10))\n",
        "print (two_sum([1, 2, 3, 4, 5], 7) )\n",
        "print (two_sum([1, 2, 3, 4, 5], 3) )\n",
        "print (two_sum([], 0) )\n",
        "\n",
        "\n",
        "\n",
        "# \"\"\"\n",
        "#     EXPECTED OUTPUT:\n",
        "#     ----------------\n",
        "#     [1, 4]\n",
        "#     [1, 3]\n",
        "#     [0, 3]\n",
        "#     [1, 3]\n",
        "#     []\n",
        "#     [2, 3]\n",
        "#     [0, 1]\n",
        "#     []\n",
        "\n",
        "# \"\"\""
      ],
      "metadata": {
        "id": "vIYXXpo2DMp_",
        "colab": {
          "base_uri": "https://localhost:8080/"
        },
        "outputId": "808a10d9-468b-4af1-f31d-9be6040758ed"
      },
      "execution_count": 75,
      "outputs": [
        {
          "output_type": "stream",
          "name": "stdout",
          "text": [
            "[1, 4]\n",
            "[1, 3]\n",
            "[0, 3]\n",
            "[1, 3]\n",
            "[]\n",
            "[2, 3]\n",
            "[0, 1]\n",
            "[]\n"
          ]
        }
      ]
    }
  ]
}