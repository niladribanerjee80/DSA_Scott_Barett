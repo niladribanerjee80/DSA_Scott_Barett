{
  "nbformat": 4,
  "nbformat_minor": 0,
  "metadata": {
    "colab": {
      "provenance": [],
      "authorship_tag": "ABX9TyOBjLn08mwNK8wcDebS94Q2",
      "include_colab_link": true
    },
    "kernelspec": {
      "name": "python3",
      "display_name": "Python 3"
    },
    "language_info": {
      "name": "python"
    }
  },
  "cells": [
    {
      "cell_type": "markdown",
      "metadata": {
        "id": "view-in-github",
        "colab_type": "text"
      },
      "source": [
        "<a href=\"https://colab.research.google.com/github/niladribanerjee80/DSA_Scott_Barett/blob/main/Topic_5_Hash_Tables_assignments_solutions.ipynb\" target=\"_parent\"><img src=\"https://colab.research.google.com/assets/colab-badge.svg\" alt=\"Open In Colab\"/></a>"
      ]
    },
    {
      "cell_type": "markdown",
      "source": [
        "# Item In Common\n",
        "\n",
        "---\n",
        "\n",
        "Write a function item_in_common(list1, list2) that takes two lists as input and returns True if there is at least one common item between the two lists, False otherwise.\n",
        "\n",
        "Use a dictionary to solve the problem that creates an O(n) time complexity."
      ],
      "metadata": {
        "id": "ocRINVfXFfYn"
      }
    },
    {
      "cell_type": "code",
      "execution_count": 1,
      "metadata": {
        "id": "rkkluJ1cFZZP"
      },
      "outputs": [],
      "source": [
        "def item_in_common(list1, list2):\n",
        "    # convert list1 into dict\n",
        "    my_dict = dict()\n",
        "\n",
        "    for item in list1:\n",
        "        my_dict[item] = True\n",
        "\n",
        "    for item in list2:\n",
        "        if item in my_dict:\n",
        "            return True\n",
        "\n",
        "    return False"
      ]
    },
    {
      "cell_type": "code",
      "source": [
        "list1 = [1,3,5]\n",
        "list2 = [2,4,5]\n",
        "\n",
        "print(item_in_common(list1, list2))\n",
        "\n",
        "# \"\"\"\n",
        "#     EXPECTED OUTPUT:\n",
        "#     ----------------\n",
        "#     True\n",
        "\n",
        "# \"\"\""
      ],
      "metadata": {
        "id": "ZfJ-exG8FoMv",
        "outputId": "3940ca34-cffd-4da2-c57a-8cc49d8c8963",
        "colab": {
          "base_uri": "https://localhost:8080/"
        }
      },
      "execution_count": 2,
      "outputs": [
        {
          "output_type": "stream",
          "name": "stdout",
          "text": [
            "True\n"
          ]
        }
      ]
    },
    {
      "cell_type": "markdown",
      "source": [
        "# Find Duplicates\n",
        "\n",
        "\n",
        "---\n",
        "find_duplicates()\n",
        "\n",
        "\n",
        "Problem: Given an array of integers nums, find all the duplicates in the array using a hash table (dictionary).\n",
        "\n",
        "\n",
        "Input:\n",
        "\n",
        "A list of integers nums.\n",
        "\n",
        "\n",
        "Output:\n",
        "\n",
        "A list of integers representing the numbers in the input array nums that appear more than once. If no duplicates are found in the input array, return an empty list [].\n",
        "\n",
        "Input: nums = [4, 3, 2, 7, 8, 2, 3, 1]\n",
        "Output: [2, 3]\n",
        "Explanation: The numbers 2 and 3 appear more than once in the input array.\n",
        "\n",
        "Input: nums = [1, 2, 3, 4, 5]\n",
        "Output: []\n",
        "Explanation: There are no duplicates in the input array, so the function returns an empty list [].\n",
        "\n",
        "Input: nums = [3, 3, 3, 3, 3]\n",
        "Output: [3]\n",
        "Explanation: The number 3 appears more than once in the input array.\n",
        "\n",
        "Input: nums = [-1, 0, 1, 0, -1, -1, 2, 2]\n",
        "Output: [-1, 0, 2]\n",
        "Explanation: The numbers -1, 0, and 2 appear more than once in the input array.\n",
        "\n",
        "Input: nums = []\n",
        "Output: []\n",
        "Explanation: There are no numbers in the input array, so the function returns an empty list [].\n"
      ],
      "metadata": {
        "id": "WwvvfS4gCP6f"
      }
    },
    {
      "cell_type": "code",
      "source": [
        "# Option 1\n",
        "from collections import Counter\n",
        "def find_duplicates(array):\n",
        "    output = []\n",
        "\n",
        "    c = Counter(array)\n",
        "\n",
        "    for key,value in c.items():\n",
        "        if value > 1:\n",
        "            output.append(key)\n",
        "\n",
        "    return output"
      ],
      "metadata": {
        "id": "Lg9rR8COCcZ0"
      },
      "execution_count": 3,
      "outputs": []
    },
    {
      "cell_type": "code",
      "source": [
        "# Option 2 - this is what we need to do\n",
        "def find_duplicates(array):\n",
        "    # temporay list\n",
        "    temp = []\n",
        "\n",
        "    # output array\n",
        "    output = set()\n",
        "\n",
        "    # we need to write the hash function which will act on each element of the list = array\n",
        "    for key in array:\n",
        "        index = key % 10\n",
        "        if index not in temp:\n",
        "            temp.append(index)\n",
        "        else:\n",
        "            output.add(index)\n",
        "\n",
        "    output = list(output)\n",
        "    return output"
      ],
      "metadata": {
        "id": "ElYO57ZlVK13"
      },
      "execution_count": 5,
      "outputs": []
    },
    {
      "cell_type": "code",
      "source": [
        "print ( find_duplicates([1, 2, 3, 4, 5]) )\n",
        "print ( find_duplicates([1, 1, 2, 2, 3]) )\n",
        "print ( find_duplicates([1, 1, 1, 1, 1]) )\n",
        "print ( find_duplicates([1, 2, 3, 3, 3, 4, 4, 5]) )\n",
        "print ( find_duplicates([1, 1, 2, 2, 2, 3, 3, 3, 3]) )\n",
        "print ( find_duplicates([1, 1, 1, 2, 2, 2, 3, 3, 3, 3]) )\n",
        "print ( find_duplicates([]) )\n",
        "\n",
        "# \"\"\"\n",
        "#     EXPECTED OUTPUT:\n",
        "#     ----------------\n",
        "#     []\n",
        "#     [1, 2]\n",
        "#     [1]\n",
        "#     [3, 4]\n",
        "#     [1, 2, 3]\n",
        "#     [1, 2, 3]\n",
        "#     []\n",
        "\n",
        "# \"\"\""
      ],
      "metadata": {
        "id": "o3zJ7Ps5Chyn",
        "outputId": "a382756f-394d-440e-e765-b9dfca5c7236",
        "colab": {
          "base_uri": "https://localhost:8080/"
        }
      },
      "execution_count": 6,
      "outputs": [
        {
          "output_type": "stream",
          "name": "stdout",
          "text": [
            "[]\n",
            "[1, 2]\n",
            "[1]\n",
            "[3, 4]\n",
            "[1, 2, 3]\n",
            "[1, 2, 3]\n",
            "[]\n"
          ]
        }
      ]
    },
    {
      "cell_type": "markdown",
      "source": [
        "# First Non-Repeating Character\n",
        "\n",
        "\n",
        "---\n",
        "\n",
        "You have been given a string of lowercase letters.\n",
        "\n",
        "Write a function called first_non_repeating_char(string) that finds the first non-repeating character in the given string using a hash table (dictionary). If there is no non-repeating character in the string, the function should return None.\n",
        "\n",
        "For example, if the input string is \"leetcode\", the function should return \"l\" because \"l\" is the first character that appears only once in the string. Similarly, if the input string is \"hello\", the function should return \"h\" because \"h\" is the first non-repeating character in the string.\n",
        "\n",
        "\n"
      ],
      "metadata": {
        "id": "HtG-axnZCoeQ"
      }
    },
    {
      "cell_type": "code",
      "source": [
        "# WRITE THE FUNCTION HERE #\n",
        "#                         #\n",
        "#                         #\n",
        "#                         #\n",
        "#                         #\n",
        "###########################"
      ],
      "metadata": {
        "id": "bV2Qn7YXCt8O"
      },
      "execution_count": null,
      "outputs": []
    },
    {
      "cell_type": "code",
      "source": [
        "print( first_non_repeating_char('leetcode') )\n",
        "\n",
        "print( first_non_repeating_char('hello') )\n",
        "\n",
        "print( first_non_repeating_char('aabbcc') )\n",
        "\n",
        "\n",
        "\n",
        "# \"\"\"\n",
        "#     EXPECTED OUTPUT:\n",
        "#     ----------------\n",
        "#     l\n",
        "#     h\n",
        "#     None\n",
        "\n",
        "# \"\"\""
      ],
      "metadata": {
        "id": "9GB_ZkGKCw13"
      },
      "execution_count": null,
      "outputs": []
    },
    {
      "cell_type": "markdown",
      "source": [
        "# Group Anagrams\n",
        "\n",
        "\n",
        "---\n",
        "\n",
        "You have been given an array of strings, where each string may contain only lowercase English letters. You need to write a function group_anagrams(strings) that groups the anagrams in the array together using a hash table (dictionary). The function should return a list of lists, where each inner list contains a group of anagrams.\n",
        "\n",
        "For example, if the input array is [\"eat\", \"tea\", \"tan\", \"ate\", \"nat\", \"bat\"], the function should return [[\"eat\",\"tea\",\"ate\"],[\"tan\",\"nat\"],[\"bat\"]] because the first three strings are anagrams of each other, the next two strings are anagrams of each other, and the last string has no anagrams in the input array.\n",
        "\n",
        "You need to implement the group_anagrams(strings) function and return a list of lists, where each inner list contains a group of anagrams according to the above requirements."
      ],
      "metadata": {
        "id": "A0sOdDyJC0EW"
      }
    },
    {
      "cell_type": "code",
      "source": [
        "# WRITE GROUP_ANAGRAMS FUNCTION HERE #\n",
        "#                                    #\n",
        "#                                    #\n",
        "#                                    #\n",
        "#                                    #\n",
        "######################################"
      ],
      "metadata": {
        "id": "vglO_GRmC6d9"
      },
      "execution_count": null,
      "outputs": []
    },
    {
      "cell_type": "code",
      "source": [
        "print(\"1st set:\")\n",
        "print( group_anagrams([\"eat\", \"tea\", \"tan\", \"ate\", \"nat\", \"bat\"]) )\n",
        "\n",
        "print(\"\\n2nd set:\")\n",
        "print( group_anagrams([\"abc\", \"cba\", \"bac\", \"foo\", \"bar\"]) )\n",
        "\n",
        "print(\"\\n3rd set:\")\n",
        "print( group_anagrams([\"listen\", \"silent\", \"triangle\", \"integral\", \"garden\", \"ranged\"]) )\n",
        "\n",
        "\n",
        "\n",
        "# \"\"\"\n",
        "#     EXPECTED OUTPUT:\n",
        "#     ----------------\n",
        "#     1st set:\n",
        "#     [['eat', 'tea', 'ate'], ['tan', 'nat'], ['bat']]\n",
        "\n",
        "#     2nd set:\n",
        "#     [['abc', 'cba', 'bac'], ['foo'], ['bar']]\n",
        "\n",
        "#     3rd set:\n",
        "#     [['listen', 'silent'], ['triangle', 'integral'], ['garden', 'ranged']]\n",
        "\n",
        "# \"\"\""
      ],
      "metadata": {
        "id": "oyaF3t8AC-Ii"
      },
      "execution_count": null,
      "outputs": []
    },
    {
      "cell_type": "markdown",
      "source": [
        "# Two Sum\n",
        "\n",
        "\n",
        "---\n",
        "\n",
        "two_sum()\n",
        "\n",
        "Problem:\n",
        "Given an array of integers nums and a target integer target, find the indices of two numbers in the array that add up to the target.\n",
        "\n",
        "The main challenge here is to implement this function in one pass through the array. This means you should not iterate over the array more than once. Therefore, your solution should have a time complexity of O(n), where n is the number of elements in nums.\n",
        "\n",
        "\n",
        "\n",
        "Input:\n",
        "\n",
        "A list of integers nums .\n",
        "\n",
        "A target integer target.\n",
        "\n",
        "\n",
        "\n",
        "Output:\n",
        "\n",
        "A list of two integers representing the indices of the two numbers in the input array nums that add up to the target. If no two numbers in the input array add up to the target, return an empty list [].\n",
        "\n",
        "\n",
        "\n",
        "Example:\n",
        "\n",
        "\n",
        "\n",
        "Input: nums = [5, 1, 7, 2, 9, 3], target = 10\n",
        "Output: [1, 4]\n",
        "Explanation: The numbers at indices 1 and 4 in the array add up to the target 10.\n",
        "\n",
        "Input: nums = [3, 2, 4], target = 6\n",
        "Output: [1, 2]\n",
        "Explanation: The numbers at indices 1 and 2 in the array add up to the target 6.\n",
        "\n",
        "Input: nums = [3, 3], target = 6\n",
        "Output: [0, 1]\n",
        "Explanation: The numbers at indices 0 and 1 in the array add up to the target 6.\n",
        "\n",
        "Input: nums = [2, 1, 2, 7, 11, 15], target = 9\n",
        "Output: [2, 3]\n",
        "Explanation: Notice there are two 2s in the array.  The second one will be used.\n",
        "\n",
        "Input: nums = [1, 2, 3, 4, 5], target = 10\n",
        "Output: []\n",
        "Explanation: There are no two numbers in the array add up to the target 10.\n",
        "\n",
        "Input: nums = [], target = 0\n",
        "Output: []\n",
        "Explanation: There are no numbers in the input array, so the function returns an empty list [].\n",
        "\n"
      ],
      "metadata": {
        "id": "_v7n8wzEDAYD"
      }
    },
    {
      "cell_type": "code",
      "source": [
        "# WRITE TWO_SUM FUNCTION HERE #\n",
        "#                             #\n",
        "#                             #\n",
        "#                             #\n",
        "#                             #\n",
        "###############################"
      ],
      "metadata": {
        "id": "tn0LVT5KDIpc"
      },
      "execution_count": null,
      "outputs": []
    },
    {
      "cell_type": "code",
      "source": [
        "print(two_sum([5, 1, 7, 2, 9, 3], 10))\n",
        "print(two_sum([4, 2, 11, 7, 6, 3], 9))\n",
        "print(two_sum([10, 15, 5, 2, 8, 1, 7], 12))\n",
        "print(two_sum([1, 3, 5, 7, 9], 10))\n",
        "print ( two_sum([1, 2, 3, 4, 5], 10) )\n",
        "print ( two_sum([1, 2, 3, 4, 5], 7) )\n",
        "print ( two_sum([1, 2, 3, 4, 5], 3) )\n",
        "print ( two_sum([], 0) )\n",
        "\n",
        "\n",
        "\n",
        "# \"\"\"\n",
        "#     EXPECTED OUTPUT:\n",
        "#     ----------------\n",
        "#     [1, 4]\n",
        "#     [1, 3]\n",
        "#     [0, 3]\n",
        "#     [1, 3]\n",
        "#     []\n",
        "#     [2, 3]\n",
        "#     [0, 1]\n",
        "#     []\n",
        "\n",
        "# \"\"\""
      ],
      "metadata": {
        "id": "vIYXXpo2DMp_"
      },
      "execution_count": null,
      "outputs": []
    },
    {
      "cell_type": "markdown",
      "source": [
        "# Subarray Sum\n",
        "\n",
        "\n",
        "---\n",
        "Given an array of integers nums and a target integer target, write a Python function called subarray_sum that finds the indices of a contiguous subarray in nums that add up to the target sum using a hash table (dictionary).\n",
        "\n",
        "Your function should take two arguments:\n",
        "\n",
        "nums: a list of integers representing the input array\n",
        "\n",
        "target: an integer representing the target sum\n",
        "\n",
        "\n",
        "Your function should return a list of two integers representing the starting and ending indices of the subarray that adds up to the target sum. If there is no such subarray, your function should return an empty list.\n",
        "\n",
        "For example:\n",
        "\n",
        "\n",
        "\n",
        "nums = [1, 2, 3, 4, 5]\n",
        "target = 9\n",
        "print(subarray_sum(nums, target))  # should print [1, 3]\n",
        "\n",
        "\n",
        "Note that there may be multiple subarrays that add up to the target sum, but your function only needs to return the indices of any one such subarray. Also, the input list may contain both positive and negative integers.\n",
        "\n",
        "\n"
      ],
      "metadata": {
        "id": "QfW26RC6DU7i"
      }
    },
    {
      "cell_type": "code",
      "source": [
        "# WRITE SUBARRAY_SUM FUNCTION HERE #\n",
        "#                                  #\n",
        "#                                  #\n",
        "#                                  #\n",
        "#                                  #\n",
        "####################################\n"
      ],
      "metadata": {
        "id": "kpuplbk3DcWe"
      },
      "execution_count": null,
      "outputs": []
    },
    {
      "cell_type": "code",
      "source": [
        "nums = [1, 2, 3, 4, 5]\n",
        "target = 9\n",
        "print ( subarray_sum(nums, target) )\n",
        "\n",
        "nums = [-1, 2, 3, -4, 5]\n",
        "target = 0\n",
        "print ( subarray_sum(nums, target) )\n",
        "\n",
        "nums = [2, 3, 4, 5, 6]\n",
        "target = 3\n",
        "print ( subarray_sum(nums, target) )\n",
        "\n",
        "nums = []\n",
        "target = 0\n",
        "print ( subarray_sum(nums, target) )\n",
        "\n",
        "\n",
        "\n",
        "# \"\"\"\n",
        "#     EXPECTED OUTPUT:\n",
        "#     ----------------\n",
        "#     [1, 3]\n",
        "#     [0, 3]\n",
        "#     [1, 1]\n",
        "#     []\n",
        "\n",
        "# \"\"\""
      ],
      "metadata": {
        "id": "u5hzbRgeDgLQ"
      },
      "execution_count": null,
      "outputs": []
    },
    {
      "cell_type": "markdown",
      "source": [
        "# Set: Remove Duplicates\n",
        "\n",
        "\n",
        "---\n",
        "\n",
        "You have been given a list my_list with some duplicate values. Your task is to write a Python program that removes all the duplicates from the list using a set and then prints the updated list.\n",
        "\n",
        "You need to implement a function remove_duplicates(my_list) that takes in the input list my_list as a parameter and returns a new list with no duplicates.\n",
        "\n",
        "Your function should not modify the original list, instead, it should create a new list with unique values and return it.\n",
        "\n",
        "Example:\n",
        "\n",
        "\n",
        "\n",
        "Input:\n",
        "my_list = [1, 2, 3, 4, 1, 2, 5, 6, 7, 3, 4, 8, 9, 5]\n",
        "\n",
        "Output:\n",
        "[1, 2, 3, 4, 5, 6, 7, 8, 9]\n",
        "\n",
        "\n",
        "Note:\n",
        "\n",
        "The order of the elements in the updated list may be different from the original list, as sets are unordered."
      ],
      "metadata": {
        "id": "8k3yby64DsQY"
      }
    },
    {
      "cell_type": "code",
      "source": [
        "# WRITE REMOVE_DUPLICATES FUNCTION HERE #\n",
        "#                                       #\n",
        "#                                       #\n",
        "#                                       #\n",
        "#                                       #\n",
        "#########################################"
      ],
      "metadata": {
        "id": "whD0L7YrDxqn"
      },
      "execution_count": null,
      "outputs": []
    },
    {
      "cell_type": "code",
      "source": [
        "my_list = [1, 2, 3, 4, 1, 2, 5, 6, 7, 3, 4, 8, 9, 5]\n",
        "new_list = remove_duplicates(my_list)\n",
        "print(new_list)\n",
        "\n",
        "# \"\"\"\n",
        "#     EXPECTED OUTPUT:\n",
        "#     ----------------\n",
        "#     [1, 2, 3, 4, 5, 6, 7, 8, 9]\n",
        "\n",
        "#     (Order may be different as sets are unordered)\n",
        "\n",
        "# \"\"\""
      ],
      "metadata": {
        "id": "hFH79uWUD0DT"
      },
      "execution_count": null,
      "outputs": []
    },
    {
      "cell_type": "markdown",
      "source": [
        "# Set: Has Unique Chars\n",
        "\n",
        "\n",
        "---\n",
        "\n",
        "Write a function called has_unique_chars that takes a string as input and returns True if all the characters in the string are unique, and False otherwise.\n",
        "\n",
        "For example, has_unique_chars('abcdefg') should return True, while has_unique_chars('hello') should return False.\n"
      ],
      "metadata": {
        "id": "6y2786k_D7pk"
      }
    },
    {
      "cell_type": "code",
      "source": [
        "# WRITE HAS_UNIQUE_CHARS FUNCTION HERE #\n",
        "#                                      #\n",
        "#                                      #\n",
        "#                                      #\n",
        "#                                      #\n",
        "########################################"
      ],
      "metadata": {
        "id": "0pUvMynbD_lL"
      },
      "execution_count": null,
      "outputs": []
    },
    {
      "cell_type": "code",
      "source": [
        "print(has_unique_chars('abcdefg')) # should return True\n",
        "print(has_unique_chars('hello')) # should return False\n",
        "print(has_unique_chars('')) # should return True\n",
        "print(has_unique_chars('0123456789')) # should return True\n",
        "print(has_unique_chars('abacadaeaf')) # should return False\n",
        "\n",
        "# \"\"\"\n",
        "#     EXPECTED OUTPUT:\n",
        "#     ----------------\n",
        "#     True\n",
        "#     False\n",
        "#     True\n",
        "#     True\n",
        "#     False\n",
        "\n",
        "# \"\"\""
      ],
      "metadata": {
        "id": "dAcFjIW5EDF6"
      },
      "execution_count": null,
      "outputs": []
    },
    {
      "cell_type": "markdown",
      "source": [
        "# Set: Find Pairs\n",
        "\n",
        "\n",
        "---\n",
        "\n",
        "You are given two lists of integers, arr1 and arr2, and a target integer value, target. Your task is to find all pairs of numbers (one from arr1 and one from arr2) whose sum equals target.\n",
        "\n",
        "Write a function called find_pairs that takes in three arguments: arr1, arr2, and target, and returns a list of all such pairs.  Assume that each array does not contain duplicate values.\n",
        "\n",
        "The tests for this exercise assume that arr1 is the list being converted to a set.\n",
        "\n",
        "Input\n",
        "\n",
        "Your function should take in the following inputs:\n",
        "\n",
        "arr1: a list of integers\n",
        "\n",
        "arr2: a list of integers\n",
        "\n",
        "target: an integer\n",
        "\n",
        "\n",
        "Output\n",
        "\n",
        "Your function should return a list of tuples, where each tuple contains two integers from arr1 and arr2 that add up to target.\n",
        "\n",
        "<br>\n",
        "<br>\n",
        "\n",
        "Example 1:\n",
        "\n",
        "arr1 = [1, 2, 3]\n",
        "arr2 = [4, 5, 6]\n",
        "target = 9\n",
        "\n",
        "pairs = find_pairs(arr1, arr2, target)<br>\n",
        "print (pairs)<br>\n",
        "Expected output: [(3, 6)]<br>\n",
        "Explanation: There's only one pair that adds up to 9: 3 from arr1 and 6 from arr2.<br><br>\n",
        "\n",
        "\n",
        "Example 2:\n",
        "\n",
        "arr1 = [0, 1, 2]\n",
        "arr2 = [7, 8, 9]\n",
        "target = 10\n",
        "\n",
        "pairs = find_pairs(arr1, arr2, target)\n",
        "\n",
        "print (pairs)<br>\n",
        "Expected output: [(1, 9), (2, 8)]<br>\n",
        "Explanation: The pairs that add up to 10 are (1, 9) and (2, 8).\n",
        "<br>\n",
        "<br>\n",
        "\n",
        "Example 3:\n",
        "\n",
        "arr1 = [1, 2, 3, 5]\n",
        "arr2 = [1, 3, 4, 5]\n",
        "target = 6\n",
        "\n",
        "pairs = find_pairs(arr1, arr2, target)<br>\n",
        "print(pairs)<br>\n",
        "Expected output: [(5, 1), (3, 3), (2, 4), (1, 5)]<br>\n",
        "Explanation: The pairs that add up to 6 are (5, 1), (3, 3),\n",
        "(2, 4), and (1, 5). Each pair consists of one element from arr1\n",
        "and one element from arr2 that together sum to the target value.<br>\n",
        "<br>\n",
        "<br>\n",
        "\n",
        "Example 4:\n",
        "\n",
        "arr1 = [1, 2, 3, 5]\n",
        "arr2 = [1, 3, 4, 5]\n",
        "target = 11\n",
        "\n",
        "pairs = find_pairs(arr1, arr2, target)\n",
        "print(pairs)\n",
        "Expected output: []<br>\n",
        "Explanation: There are no pairs in arr1 and arr2 that add up to 11."
      ],
      "metadata": {
        "id": "MXPpFkIkEJXe"
      }
    },
    {
      "cell_type": "code",
      "source": [
        "# WRITE FIND_PAIRS FUNCTION HERE #\n",
        "#                                #\n",
        "#                                #\n",
        "#                                #\n",
        "#                                #\n",
        "##################################"
      ],
      "metadata": {
        "id": "beizNeLhE3M6"
      },
      "execution_count": null,
      "outputs": []
    },
    {
      "cell_type": "code",
      "source": [
        "arr1 = [1, 2, 3, 4, 5]\n",
        "arr2 = [2, 4, 6, 8, 10]\n",
        "target = 7\n",
        "\n",
        "pairs = find_pairs(arr1, arr2, target)\n",
        "print (pairs)\n",
        "\n",
        "\n",
        "\n",
        "# \"\"\"\n",
        "#     EXPECTED OUTPUT:\n",
        "#     ----------------\n",
        "#     [(5, 2), (3, 4), (1, 6)]\n",
        "\n",
        "# \"\"\""
      ],
      "metadata": {
        "id": "sgDtnb7cE-In"
      },
      "execution_count": null,
      "outputs": []
    },
    {
      "cell_type": "markdown",
      "source": [
        "# Set: Longest Consecutive Sequence\n",
        "\n",
        "\n",
        "---\n",
        "\n",
        "Given an unsorted array of integers, write a function that finds the length of the  longest_consecutive_sequence (i.e., sequence of integers in which each element is one greater than the previous element).\n",
        "\n",
        "Use sets to optimize the runtime of your solution.\n",
        "\n",
        "Input: An unsorted array of integers, nums.\n",
        "\n",
        "Output: An integer representing the length of the longest consecutive sequence in nums.\n",
        "\n",
        "Example:\n",
        "\n",
        "\n",
        "\n",
        "Input: nums = [100, 4, 200, 1, 3, 2]\n",
        "Output: 4\n",
        "Explanation: The longest consecutive sequence in the input array is [4, 3, 2, 1], and its length is 4."
      ],
      "metadata": {
        "id": "myW2epEMFF0X"
      }
    },
    {
      "cell_type": "code",
      "source": [
        "# WRITE LONGEST_CONSECUTIVE_SEQUENCE FUNCTION HERE #\n",
        "#                                                  #\n",
        "#                                                  #\n",
        "#                                                  #\n",
        "#                                                  #\n",
        "####################################################"
      ],
      "metadata": {
        "id": "ZT5kjEG7FNAl"
      },
      "execution_count": null,
      "outputs": []
    },
    {
      "cell_type": "code",
      "source": [
        "print( longest_consecutive_sequence([100, 4, 200, 1, 3, 2]) )\n",
        "\n",
        "\n",
        "\n",
        "# \"\"\"\n",
        "#     EXPECTED OUTPUT:\n",
        "#     ----------------\n",
        "#     4\n",
        "\n",
        "# \"\"\""
      ],
      "metadata": {
        "id": "03ZNv-5YFQpY"
      },
      "execution_count": null,
      "outputs": []
    }
  ]
}