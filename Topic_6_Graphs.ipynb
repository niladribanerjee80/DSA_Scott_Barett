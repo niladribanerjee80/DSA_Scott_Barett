{
  "nbformat": 4,
  "nbformat_minor": 0,
  "metadata": {
    "colab": {
      "provenance": [],
      "authorship_tag": "ABX9TyOlr839bq4XIh8zIwpfxVFX",
      "include_colab_link": true
    },
    "kernelspec": {
      "name": "python3",
      "display_name": "Python 3"
    },
    "language_info": {
      "name": "python"
    }
  },
  "cells": [
    {
      "cell_type": "markdown",
      "metadata": {
        "id": "view-in-github",
        "colab_type": "text"
      },
      "source": [
        "<a href=\"https://colab.research.google.com/github/niladribanerjee80/DSA_Scott_Barett/blob/main/Topic_6_Graphs.ipynb\" target=\"_parent\"><img src=\"https://colab.research.google.com/assets/colab-badge.svg\" alt=\"Open In Colab\"/></a>"
      ]
    },
    {
      "cell_type": "markdown",
      "source": [
        "# Initialize Adj List and Add vertex"
      ],
      "metadata": {
        "id": "ENOdJ3D7G1W0"
      }
    },
    {
      "cell_type": "code",
      "execution_count": 1,
      "metadata": {
        "id": "5arF6kMdFoYo"
      },
      "outputs": [],
      "source": [
        "class Graph:\n",
        "\n",
        "    def __init__(self):\n",
        "        self.adj_list = {}\n",
        "\n",
        "    def print_graph(self):\n",
        "\n",
        "        for vertex in self.adj_list:\n",
        "            print(vertex, \":\", self.adj_list[vertex])\n",
        "\n",
        "    def add_vertex(self,vertex):\n",
        "        if vertex not in self.adj_list.keys():\n",
        "            self.adj_list[vertex] = []\n",
        "            return True\n",
        "        return False\n"
      ]
    },
    {
      "cell_type": "code",
      "source": [
        "my_graph = Graph()\n",
        "\n",
        "my_graph.add_vertex(1)\n",
        "my_graph.add_vertex(2)\n",
        "\n",
        "my_graph.print_graph()"
      ],
      "metadata": {
        "colab": {
          "base_uri": "https://localhost:8080/"
        },
        "id": "8F4TOb2qGnHt",
        "outputId": "090c743f-77a9-4a92-9ec4-c6de101a2396"
      },
      "execution_count": 2,
      "outputs": [
        {
          "output_type": "stream",
          "name": "stdout",
          "text": [
            "1 : []\n",
            "2 : []\n"
          ]
        }
      ]
    },
    {
      "cell_type": "markdown",
      "source": [
        "# Add edges\n",
        "\n",
        "\n",
        "---\n",
        "\n",
        "* 1 : [2]\n",
        "* 2 : [1]\n"
      ],
      "metadata": {
        "id": "QamWAT6MG7bQ"
      }
    },
    {
      "cell_type": "code",
      "source": [
        "class Graph:\n",
        "\n",
        "    def __init__(self):\n",
        "        self.adj_list = {}\n",
        "\n",
        "    def print_graph(self):\n",
        "\n",
        "        for vertex in self.adj_list:\n",
        "            print(vertex, \":\", self.adj_list[vertex])\n",
        "\n",
        "    def add_vertex(self,vertex):\n",
        "        if vertex not in self.adj_list.keys():\n",
        "            self.adj_list[vertex] = []\n",
        "            return True\n",
        "        return False\n",
        "\n",
        "    def add_edge(self,v1, v2):\n",
        "        if v1 in self.adj_list.keys() and v2 in self.adj_list.keys():\n",
        "            if v2 not in self.adj_list[v1]:\n",
        "                self.adj_list[v1].append(v2)\n",
        "\n",
        "            if v1 not in self.adj_list[v2]:\n",
        "                self.adj_list[v2].append(v1)\n",
        "            return True\n",
        "        return False"
      ],
      "metadata": {
        "id": "G9lWe4I1Gy4y"
      },
      "execution_count": 8,
      "outputs": []
    },
    {
      "cell_type": "code",
      "source": [
        "my_graph = Graph()\n",
        "\n",
        "my_graph.add_vertex(1)\n",
        "my_graph.add_vertex(2)\n",
        "\n",
        "my_graph.add_edge(1,2)\n",
        "my_graph.print_graph()"
      ],
      "metadata": {
        "colab": {
          "base_uri": "https://localhost:8080/"
        },
        "id": "Db-p4AFtHuMe",
        "outputId": "bea140b5-526c-46e6-ec25-e42ece7eea9a"
      },
      "execution_count": 9,
      "outputs": [
        {
          "output_type": "stream",
          "name": "stdout",
          "text": [
            "1 : [2]\n",
            "2 : [1]\n"
          ]
        }
      ]
    },
    {
      "cell_type": "markdown",
      "source": [
        "# Remove edges"
      ],
      "metadata": {
        "id": "c1ONc5XsJFy_"
      }
    },
    {
      "cell_type": "code",
      "source": [
        "class Graph:\n",
        "\n",
        "    def __init__(self):\n",
        "        self.adj_list = {}\n",
        "\n",
        "    def print_graph(self):\n",
        "\n",
        "        for vertex in self.adj_list:\n",
        "            print(vertex, \":\", self.adj_list[vertex])\n",
        "\n",
        "    def add_vertex(self,vertex):\n",
        "        if vertex not in self.adj_list.keys():\n",
        "            self.adj_list[vertex] = []\n",
        "            return True\n",
        "        return False\n",
        "\n",
        "    def add_edge(self,v1, v2):\n",
        "        if v1 in self.adj_list.keys() and v2 in self.adj_list.keys():\n",
        "            if v2 not in self.adj_list[v1]:\n",
        "                self.adj_list[v1].append(v2)\n",
        "\n",
        "            if v1 not in self.adj_list[v2]:\n",
        "                self.adj_list[v2].append(v1)\n",
        "            return True\n",
        "        return False\n",
        "\n",
        "    def remove_edge(self,v1,v2):\n",
        "        status_1 = False\n",
        "        status_2 = False\n",
        "        # first check if the vertex exist\n",
        "        if v1 in self.adj_list.keys():\n",
        "            # check if the edge exists\n",
        "            if v2 in self.adj_list[v1]:\n",
        "                self.adj_list[v1].remove(v2)\n",
        "                status_1 = True\n",
        "\n",
        "        # first check if the vertex exist\n",
        "        if v2 in self.adj_list.keys():\n",
        "            # check if the edge exists\n",
        "            if v1 in self.adj_list[v2]:\n",
        "                self.adj_list[v2].remove(v1)\n",
        "                status_2 = True\n",
        "\n",
        "        if status_1 and status_2:\n",
        "            return True\n",
        "        else:\n",
        "            return False"
      ],
      "metadata": {
        "id": "fdGso9UNHzZ8"
      },
      "execution_count": 11,
      "outputs": []
    },
    {
      "cell_type": "code",
      "source": [
        "my_graph = Graph()\n",
        "\n",
        "my_graph.add_vertex(1)\n",
        "my_graph.add_vertex(2)\n",
        "\n",
        "my_graph.add_edge(1,2)\n",
        "print(\"After adding edge 1<->2\")\n",
        "my_graph.print_graph()\n",
        "print(\"\\n\")\n",
        "\n",
        "my_graph.remove_edge(1,2)\n",
        "print(\"After removing edge 1<->2\")\n",
        "my_graph.print_graph()"
      ],
      "metadata": {
        "colab": {
          "base_uri": "https://localhost:8080/"
        },
        "id": "kM7C6o-VKbGX",
        "outputId": "9b4f0305-ed91-41be-f4f5-7fca84642e9d"
      },
      "execution_count": 13,
      "outputs": [
        {
          "output_type": "stream",
          "name": "stdout",
          "text": [
            "After adding edge 1<->2\n",
            "1 : [2]\n",
            "2 : [1]\n",
            "\n",
            "\n",
            "After removing edge 1<->2\n",
            "1 : []\n",
            "2 : []\n"
          ]
        }
      ]
    },
    {
      "cell_type": "code",
      "source": [],
      "metadata": {
        "id": "fOnhU_oYKbJ-"
      },
      "execution_count": null,
      "outputs": []
    },
    {
      "cell_type": "code",
      "source": [],
      "metadata": {
        "id": "0r6YBa7zKW_6"
      },
      "execution_count": null,
      "outputs": []
    }
  ]
}