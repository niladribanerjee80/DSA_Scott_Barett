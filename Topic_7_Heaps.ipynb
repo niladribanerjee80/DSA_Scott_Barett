{
  "nbformat": 4,
  "nbformat_minor": 0,
  "metadata": {
    "colab": {
      "provenance": [],
      "authorship_tag": "ABX9TyMcOQd3lEjDg0ZoW6s2x5hm",
      "include_colab_link": true
    },
    "kernelspec": {
      "name": "python3",
      "display_name": "Python 3"
    },
    "language_info": {
      "name": "python"
    }
  },
  "cells": [
    {
      "cell_type": "markdown",
      "metadata": {
        "id": "view-in-github",
        "colab_type": "text"
      },
      "source": [
        "<a href=\"https://colab.research.google.com/github/niladribanerjee80/DSA_Scott_Barett/blob/main/Topic_7_Heaps.ipynb\" target=\"_parent\"><img src=\"https://colab.research.google.com/assets/colab-badge.svg\" alt=\"Open In Colab\"/></a>"
      ]
    },
    {
      "cell_type": "code",
      "execution_count": 3,
      "metadata": {
        "id": "DTFMnae8NXSU"
      },
      "outputs": [],
      "source": [
        "class MaxHeap:\n",
        "\n",
        "    def __init__(self):\n",
        "        self.heap = []\n",
        "\n",
        "    def _left_child(self,index):\n",
        "        return 2*index + 1\n",
        "\n",
        "    def _right_child(self,index):\n",
        "        return 2*index + 2\n",
        "\n",
        "    def _parent(self,index):\n",
        "        return (index-1)//2\n",
        "\n",
        "    def _swap(self,index1,index2):\n",
        "        self.heap[index1], self.heap[index2] = self.heap[index2], self.heap[index1]\n",
        "\n",
        "    def insert(self,value):\n",
        "        self.heap.append(value)\n",
        "        current = len(self.heap)-1\n",
        "        while current > 0:\n",
        "            if value > self.heap[self._parent(current)]:\n",
        "                # go for swap\n",
        "                self._swap(current,self._parent(current))\n",
        "                current = self._parent(current)\n",
        "            else:\n",
        "                break"
      ]
    },
    {
      "cell_type": "code",
      "source": [
        "myheap = MaxHeap()\n",
        "\n",
        "myheap.insert(99)\n",
        "myheap.insert(72)\n",
        "myheap.insert(61)\n",
        "myheap.insert(58)\n",
        "\n",
        "print(myheap.heap)\n",
        "\n",
        "myheap.insert(100)\n",
        "print(myheap.heap)\n",
        "\n",
        "myheap.insert(75)\n",
        "print(myheap.heap)"
      ],
      "metadata": {
        "colab": {
          "base_uri": "https://localhost:8080/"
        },
        "id": "NaMEojF1Ns9T",
        "outputId": "75baf884-8fd4-49e4-a2fd-498ccde7d18b"
      },
      "execution_count": 4,
      "outputs": [
        {
          "output_type": "stream",
          "name": "stdout",
          "text": [
            "[99, 72, 61, 58]\n",
            "[100, 99, 61, 58, 72]\n",
            "[100, 99, 75, 58, 72, 61]\n"
          ]
        }
      ]
    },
    {
      "cell_type": "code",
      "source": [],
      "metadata": {
        "id": "ICdkVlFsOaaD"
      },
      "execution_count": null,
      "outputs": []
    }
  ]
}