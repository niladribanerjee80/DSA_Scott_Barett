{
  "nbformat": 4,
  "nbformat_minor": 0,
  "metadata": {
    "colab": {
      "provenance": [],
      "authorship_tag": "ABX9TyMblNNxKenbch9GvpKle0aa",
      "include_colab_link": true
    },
    "kernelspec": {
      "name": "python3",
      "display_name": "Python 3"
    },
    "language_info": {
      "name": "python"
    }
  },
  "cells": [
    {
      "cell_type": "markdown",
      "metadata": {
        "id": "view-in-github",
        "colab_type": "text"
      },
      "source": [
        "<a href=\"https://colab.research.google.com/github/niladribanerjee80/DSA_Scott_Barett/blob/main/Topic_8_Recursion.ipynb\" target=\"_parent\"><img src=\"https://colab.research.google.com/assets/colab-badge.svg\" alt=\"Open In Colab\"/></a>"
      ]
    },
    {
      "cell_type": "markdown",
      "source": [
        "# Non-recursive function"
      ],
      "metadata": {
        "id": "-rgpxLxpyzsE"
      }
    },
    {
      "cell_type": "code",
      "execution_count": 2,
      "metadata": {
        "colab": {
          "base_uri": "https://localhost:8080/"
        },
        "id": "8otXkmAeuFV-",
        "outputId": "0d703940-d203-4abf-c0fa-53c91f1ff9ae"
      },
      "outputs": [
        {
          "output_type": "stream",
          "name": "stdout",
          "text": [
            "Three\n",
            "Two\n",
            "One\n"
          ]
        }
      ],
      "source": [
        "def funcThree():\n",
        "    print(\"Three\")\n",
        "\n",
        "def funcTwo():\n",
        "    funcThree()\n",
        "    print(\"Two\")\n",
        "\n",
        "def funcOne():\n",
        "    funcTwo()\n",
        "    print(\"One\")\n",
        "\n",
        "funcOne()"
      ]
    },
    {
      "cell_type": "code",
      "source": [],
      "metadata": {
        "id": "qqfS2r8ezKvy"
      },
      "execution_count": null,
      "outputs": []
    }
  ]
}