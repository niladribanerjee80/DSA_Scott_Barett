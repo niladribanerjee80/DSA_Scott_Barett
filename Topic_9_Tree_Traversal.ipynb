{
  "nbformat": 4,
  "nbformat_minor": 0,
  "metadata": {
    "colab": {
      "provenance": [],
      "authorship_tag": "ABX9TyOdJYbO6nscPJ7qS1MhsLXR",
      "include_colab_link": true
    },
    "kernelspec": {
      "name": "python3",
      "display_name": "Python 3"
    },
    "language_info": {
      "name": "python"
    }
  },
  "cells": [
    {
      "cell_type": "markdown",
      "metadata": {
        "id": "view-in-github",
        "colab_type": "text"
      },
      "source": [
        "<a href=\"https://colab.research.google.com/github/niladribanerjee80/DSA_Scott_Barett/blob/main/Topic_9_Tree_Traversal.ipynb\" target=\"_parent\"><img src=\"https://colab.research.google.com/assets/colab-badge.svg\" alt=\"Open In Colab\"/></a>"
      ]
    },
    {
      "cell_type": "code",
      "execution_count": 1,
      "metadata": {
        "id": "0vQtcOr61JTg"
      },
      "outputs": [],
      "source": [
        "class Node:\n",
        "    def __init__(self,value):\n",
        "        self.value = value\n",
        "        self.left = None\n",
        "        self.right = None\n",
        "\n",
        "class BinarySearchTree:\n",
        "    def __init__(self):\n",
        "        self.root = None\n",
        "\n",
        "    def __r_insert(self,current_node,value):\n",
        "        if current_node == None:\n",
        "            return Node(value)\n",
        "\n",
        "        if value < current_node.value:\n",
        "            current_node.left = self.__r_insert(current_node.left,value)\n",
        "        elif value > current_node.value:\n",
        "            current_node.right = self.__r_insert(current_node.right,value)\n",
        "\n",
        "        return current_node\n",
        "\n",
        "    def r_insert(self,value):\n",
        "        if self.root == None:\n",
        "            self.root = Node(value)\n",
        "        else:\n",
        "            self.__r_insert(self.root,value)\n",
        "\n",
        "    def __r_contains(self,current_node,value):\n",
        "        # if tree is empty\n",
        "        if current_node == None:\n",
        "            return False\n",
        "\n",
        "        # if current_node.value == value\n",
        "        if current_node.value == value:\n",
        "            return True\n",
        "\n",
        "        # if value < current_node.value\n",
        "        if value < current_node.value:\n",
        "            return self.__r_contains(current_node.left,value)\n",
        "        # else value > current_node.value\n",
        "        else:\n",
        "            return self.__r_contains(current_node.right,value)\n",
        "\n",
        "    def r_contains(self,value):\n",
        "        return self.__r_contains(self.root,value)\n",
        "\n",
        "    def min_value(self,current_node):\n",
        "        while current_node.left is not None:\n",
        "            current_node = current_node.left\n",
        "        return current_node.value\n",
        "\n",
        "    def __delete_node(self,current_node,value):\n",
        "        if current_node == None:\n",
        "            return None\n",
        "\n",
        "        if value < current_node.value:\n",
        "            current_node.left = self.__delete_node(current_node.left,value)\n",
        "        elif value > current_node.value:\n",
        "            current_node.right = self.__delete_node(current_node.right,value)\n",
        "        else:\n",
        "            if current_node.left == None and current_node.right == None:\n",
        "                return None\n",
        "            elif current_node.left == None:\n",
        "                current_node = current_node.right\n",
        "            elif current_node.right == None:\n",
        "                current_node = current_node.left\n",
        "            else:\n",
        "                sub_tree_min = self.min_value(current_node.right)\n",
        "                current_node.value = sub_tree_min\n",
        "                current_node.right = self.__delete_node(current_node.right,sub_tree_min)\n",
        "        return current_node\n",
        "\n",
        "    def delete_node(self,value):\n",
        "        self.__delete_node(self.root,value)\n",
        "\n",
        "    def BFS(self):\n",
        "        current_node = self.root\n",
        "        queue = []\n",
        "        results = []\n",
        "        queue.append(current_node)\n",
        "\n",
        "        while len(queue) > 0:\n",
        "            current_node = queue.pop(0)\n",
        "            results.append(current_node.value)\n",
        "\n",
        "            if current_node.left is not None:\n",
        "                queue.append(current_node.left)\n",
        "\n",
        "            if current_node.right is not None:\n",
        "                queue.append(current_node.right)\n",
        "\n",
        "        return results"
      ]
    },
    {
      "cell_type": "code",
      "source": [
        "my_tree = BinarySearchTree()\n",
        "my_tree.r_insert(47)\n",
        "my_tree.r_insert(21)\n",
        "my_tree.r_insert(76)\n",
        "my_tree.r_insert(18)\n",
        "my_tree.r_insert(27)\n",
        "my_tree.r_insert(52)\n",
        "my_tree.r_insert(82)\n",
        "\n",
        "results = my_tree.BFS()\n",
        "print(results)"
      ],
      "metadata": {
        "colab": {
          "base_uri": "https://localhost:8080/"
        },
        "id": "Tge6p9WTEofw",
        "outputId": "24a94235-4910-4658-fa00-a32faefd9b94"
      },
      "execution_count": 2,
      "outputs": [
        {
          "output_type": "stream",
          "name": "stdout",
          "text": [
            "[47, 21, 76, 18, 27, 52, 82]\n"
          ]
        }
      ]
    },
    {
      "cell_type": "code",
      "source": [],
      "metadata": {
        "id": "iSJbb2oAFBnY"
      },
      "execution_count": null,
      "outputs": []
    }
  ]
}